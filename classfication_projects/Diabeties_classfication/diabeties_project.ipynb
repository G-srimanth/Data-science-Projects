{
 "cells": [
  {
   "cell_type": "code",
   "execution_count": 1,
   "id": "d0f32568",
   "metadata": {},
   "outputs": [
    {
     "data": {
      "text/plain": [
       "'C:\\\\Users\\\\HP\\\\Documents\\\\data science projects\\\\classification project\\\\Diabeties_prediction'"
      ]
     },
     "execution_count": 1,
     "metadata": {},
     "output_type": "execute_result"
    }
   ],
   "source": [
    "import os\n",
    "os.getcwd()"
   ]
  },
  {
   "cell_type": "code",
   "execution_count": 2,
   "id": "73c1f3d5",
   "metadata": {},
   "outputs": [],
   "source": [
    "import numpy as np\n",
    "import pandas as pd\n",
    "import matplotlib.pyplot as plt\n",
    "import seaborn as sns\n",
    "%matplotlib inline\n",
    "sns.set()\n",
    "import warnings as wr\n",
    "wr.filterwarnings(\"ignore\")\n",
    "from sklearn.model_selection import train_test_split\n",
    "from sklearn.feature_selection import RFE\n",
    "from sklearn.svm import SVC\n",
    "from sklearn.naive_bayes import GaussianNB\n",
    "from xgboost import XGBClassifier\n",
    "from sklearn.ensemble import GradientBoostingClassifier,RandomForestClassifier\n",
    "from sklearn.linear_model import LogisticRegression"
   ]
  },
  {
   "cell_type": "code",
   "execution_count": 3,
   "id": "d49e40fa",
   "metadata": {},
   "outputs": [],
   "source": [
    "data=pd.read_csv(\"diabetes.csv\")"
   ]
  },
  {
   "cell_type": "code",
   "execution_count": 4,
   "id": "1d5a0cd8",
   "metadata": {},
   "outputs": [
    {
     "data": {
      "text/html": [
       "<div>\n",
       "<style scoped>\n",
       "    .dataframe tbody tr th:only-of-type {\n",
       "        vertical-align: middle;\n",
       "    }\n",
       "\n",
       "    .dataframe tbody tr th {\n",
       "        vertical-align: top;\n",
       "    }\n",
       "\n",
       "    .dataframe thead th {\n",
       "        text-align: right;\n",
       "    }\n",
       "</style>\n",
       "<table border=\"1\" class=\"dataframe\">\n",
       "  <thead>\n",
       "    <tr style=\"text-align: right;\">\n",
       "      <th></th>\n",
       "      <th>Pregnancies</th>\n",
       "      <th>Glucose</th>\n",
       "      <th>BloodPressure</th>\n",
       "      <th>SkinThickness</th>\n",
       "      <th>Insulin</th>\n",
       "      <th>BMI</th>\n",
       "      <th>DiabetesPedigreeFunction</th>\n",
       "      <th>Age</th>\n",
       "      <th>Outcome</th>\n",
       "    </tr>\n",
       "  </thead>\n",
       "  <tbody>\n",
       "    <tr>\n",
       "      <th>0</th>\n",
       "      <td>6</td>\n",
       "      <td>148</td>\n",
       "      <td>72</td>\n",
       "      <td>35</td>\n",
       "      <td>0</td>\n",
       "      <td>33.6</td>\n",
       "      <td>0.627</td>\n",
       "      <td>50</td>\n",
       "      <td>1</td>\n",
       "    </tr>\n",
       "    <tr>\n",
       "      <th>1</th>\n",
       "      <td>1</td>\n",
       "      <td>85</td>\n",
       "      <td>66</td>\n",
       "      <td>29</td>\n",
       "      <td>0</td>\n",
       "      <td>26.6</td>\n",
       "      <td>0.351</td>\n",
       "      <td>31</td>\n",
       "      <td>0</td>\n",
       "    </tr>\n",
       "    <tr>\n",
       "      <th>2</th>\n",
       "      <td>8</td>\n",
       "      <td>183</td>\n",
       "      <td>64</td>\n",
       "      <td>0</td>\n",
       "      <td>0</td>\n",
       "      <td>23.3</td>\n",
       "      <td>0.672</td>\n",
       "      <td>32</td>\n",
       "      <td>1</td>\n",
       "    </tr>\n",
       "    <tr>\n",
       "      <th>3</th>\n",
       "      <td>1</td>\n",
       "      <td>89</td>\n",
       "      <td>66</td>\n",
       "      <td>23</td>\n",
       "      <td>94</td>\n",
       "      <td>28.1</td>\n",
       "      <td>0.167</td>\n",
       "      <td>21</td>\n",
       "      <td>0</td>\n",
       "    </tr>\n",
       "    <tr>\n",
       "      <th>4</th>\n",
       "      <td>0</td>\n",
       "      <td>137</td>\n",
       "      <td>40</td>\n",
       "      <td>35</td>\n",
       "      <td>168</td>\n",
       "      <td>43.1</td>\n",
       "      <td>2.288</td>\n",
       "      <td>33</td>\n",
       "      <td>1</td>\n",
       "    </tr>\n",
       "  </tbody>\n",
       "</table>\n",
       "</div>"
      ],
      "text/plain": [
       "   Pregnancies  Glucose  BloodPressure  SkinThickness  Insulin   BMI  \\\n",
       "0            6      148             72             35        0  33.6   \n",
       "1            1       85             66             29        0  26.6   \n",
       "2            8      183             64              0        0  23.3   \n",
       "3            1       89             66             23       94  28.1   \n",
       "4            0      137             40             35      168  43.1   \n",
       "\n",
       "   DiabetesPedigreeFunction  Age  Outcome  \n",
       "0                     0.627   50        1  \n",
       "1                     0.351   31        0  \n",
       "2                     0.672   32        1  \n",
       "3                     0.167   21        0  \n",
       "4                     2.288   33        1  "
      ]
     },
     "execution_count": 4,
     "metadata": {},
     "output_type": "execute_result"
    }
   ],
   "source": [
    "data.head()"
   ]
  },
  {
   "cell_type": "code",
   "execution_count": 5,
   "id": "03017b11",
   "metadata": {},
   "outputs": [
    {
     "name": "stdout",
     "output_type": "stream",
     "text": [
      "<class 'pandas.core.frame.DataFrame'>\n",
      "RangeIndex: 768 entries, 0 to 767\n",
      "Data columns (total 9 columns):\n",
      " #   Column                    Non-Null Count  Dtype  \n",
      "---  ------                    --------------  -----  \n",
      " 0   Pregnancies               768 non-null    int64  \n",
      " 1   Glucose                   768 non-null    int64  \n",
      " 2   BloodPressure             768 non-null    int64  \n",
      " 3   SkinThickness             768 non-null    int64  \n",
      " 4   Insulin                   768 non-null    int64  \n",
      " 5   BMI                       768 non-null    float64\n",
      " 6   DiabetesPedigreeFunction  768 non-null    float64\n",
      " 7   Age                       768 non-null    int64  \n",
      " 8   Outcome                   768 non-null    int64  \n",
      "dtypes: float64(2), int64(7)\n",
      "memory usage: 54.1 KB\n"
     ]
    }
   ],
   "source": [
    "data.info()"
   ]
  },
  {
   "cell_type": "code",
   "execution_count": 6,
   "id": "5f5729cd",
   "metadata": {},
   "outputs": [
    {
     "data": {
      "text/plain": [
       "Pregnancies                 0\n",
       "Glucose                     0\n",
       "BloodPressure               0\n",
       "SkinThickness               0\n",
       "Insulin                     0\n",
       "BMI                         0\n",
       "DiabetesPedigreeFunction    0\n",
       "Age                         0\n",
       "Outcome                     0\n",
       "dtype: int64"
      ]
     },
     "execution_count": 6,
     "metadata": {},
     "output_type": "execute_result"
    }
   ],
   "source": [
    "data.isnull().sum()"
   ]
  },
  {
   "cell_type": "code",
   "execution_count": 7,
   "id": "29eaaaa5",
   "metadata": {},
   "outputs": [
    {
     "name": "stdout",
     "output_type": "stream",
     "text": [
      "************************************************** Pregnancies **************************************************\n",
      "\n",
      "{0, 1, 2, 3, 4, 5, 6, 7, 8, 9, 10, 11, 12, 13, 14, 15, 17}\n",
      "************************************************** Glucose **************************************************\n",
      "\n",
      "{0, 44, 56, 57, 61, 62, 65, 67, 68, 71, 72, 73, 74, 75, 76, 77, 78, 79, 80, 81, 82, 83, 84, 85, 86, 87, 88, 89, 90, 91, 92, 93, 94, 95, 96, 97, 98, 99, 100, 101, 102, 103, 104, 105, 106, 107, 108, 109, 110, 111, 112, 113, 114, 115, 116, 117, 118, 119, 120, 121, 122, 123, 124, 125, 126, 127, 128, 129, 130, 131, 132, 133, 134, 135, 136, 137, 138, 139, 140, 141, 142, 143, 144, 145, 146, 147, 148, 149, 150, 151, 152, 153, 154, 155, 156, 157, 158, 159, 160, 161, 162, 163, 164, 165, 166, 167, 168, 169, 170, 171, 172, 173, 174, 175, 176, 177, 178, 179, 180, 181, 182, 183, 184, 186, 187, 188, 189, 190, 191, 193, 194, 195, 196, 197, 198, 199}\n",
      "************************************************** BloodPressure **************************************************\n",
      "\n",
      "{0, 24, 30, 38, 40, 44, 46, 48, 50, 52, 54, 55, 56, 58, 60, 61, 62, 64, 65, 66, 68, 70, 72, 74, 75, 76, 78, 80, 82, 84, 85, 86, 88, 90, 92, 94, 95, 96, 98, 100, 102, 104, 106, 108, 110, 114, 122}\n",
      "************************************************** SkinThickness **************************************************\n",
      "\n",
      "{0, 7, 8, 10, 11, 12, 13, 14, 15, 16, 17, 18, 19, 20, 21, 22, 23, 24, 25, 26, 27, 28, 29, 30, 31, 32, 33, 34, 35, 36, 37, 38, 39, 40, 41, 42, 43, 44, 45, 46, 47, 48, 49, 50, 51, 52, 54, 56, 60, 63, 99}\n",
      "************************************************** Insulin **************************************************\n",
      "\n",
      "{0, 14, 15, 16, 18, 22, 23, 25, 540, 29, 543, 32, 545, 36, 37, 38, 40, 41, 42, 43, 44, 45, 46, 48, 49, 50, 51, 52, 53, 54, 55, 56, 57, 58, 59, 60, 61, 63, 64, 65, 66, 67, 68, 579, 70, 71, 72, 73, 74, 75, 76, 77, 78, 79, 81, 82, 83, 84, 85, 86, 87, 88, 89, 90, 600, 92, 91, 94, 95, 96, 99, 100, 105, 106, 108, 110, 112, 114, 115, 116, 119, 120, 122, 125, 126, 127, 128, 129, 130, 132, 135, 140, 142, 144, 145, 146, 148, 150, 152, 155, 156, 158, 159, 160, 165, 166, 167, 168, 680, 170, 171, 175, 176, 178, 180, 182, 183, 184, 185, 188, 190, 191, 192, 193, 194, 196, 200, 204, 205, 207, 210, 215, 220, 225, 228, 230, 231, 744, 235, 237, 240, 245, 249, 250, 255, 258, 265, 270, 271, 272, 274, 275, 277, 278, 280, 284, 285, 291, 293, 300, 304, 310, 318, 321, 325, 326, 328, 330, 846, 335, 342, 360, 370, 375, 387, 392, 402, 415, 440, 465, 474, 478, 480, 485, 495, 510}\n",
      "************************************************** BMI **************************************************\n",
      "\n",
      "{0.0, 37.3, 18.4, 19.9, 19.4, 19.6, 22.2, 23.3, 24.4, 23.2, 25.8, 27.6, 27.4, 28.0, 28.9, 28.6, 32.8, 29.0, 29.7, 26.6, 27.1, 28.1, 30.1, 30.0, 33.6, 35.3, 37.6, 38.0, 39.3, 39.8, 43.1, 43.3, 45.8, 45.4, 42.0, 46.8, 48.8, 46.7, 49.7, 53.2, 55.0, 50.0, 52.3, 52.9, 59.4, 57.3, 32.2, 67.1, 35.6, 40.8, 36.1, 19.1, 19.5, 20.4, 20.0, 20.1, 21.1, 21.9, 21.0, 41.3, 22.4, 22.5, 22.6, 22.9, 22.1, 23.0, 23.9, 23.6, 23.5, 23.1, 24.6, 24.0, 24.9, 24.5, 23.4, 25.6, 25.4, 25.0, 25.9, 25.1, 26.5, 26.1, 26.0, 25.5, 26.4, 27.9, 27.5, 27.0, 42.3, 26.9, 28.4, 34.4, 28.5, 38.1, 29.6, 29.5, 29.9, 38.6, 30.5, 30.4, 30.9, 31.0, 31.1, 31.6, 31.9, 32.5, 32.0, 32.9, 32.6, 32.4, 33.2, 33.7, 33.9, 33.3, 33.8, 34.6, 34.1, 34.0, 34.7, 34.3, 35.4, 35.1, 34.2, 34.5, 34.9, 36.6, 36.0, 36.9, 35.9, 35.5, 37.1, 37.7, 37.4, 37.2, 37.5, 38.2, 38.5, 38.3, 37.8, 37.9, 39.4, 39.1, 39.0, 39.6, 39.5, 40.2, 40.5, 40.6, 40.9, 32.7, 41.5, 33.1, 40.1, 41.8, 40.0, 42.7, 42.9, 42.8, 42.6, 41.0, 43.4, 43.2, 43.5, 43.6, 42.2, 44.2, 44.0, 44.1, 44.6, 44.5, 45.0, 45.2, 45.6, 45.5, 45.7, 46.2, 45.3, 46.1, 46.5, 46.3, 47.9, 38.4, 48.3, 38.9, 42.1, 49.6, 49.3, 39.9, 35.7, 35.2, 24.1, 36.7, 36.2, 33.5, 42.4, 36.4, 18.2, 19.3, 38.7, 20.8, 21.8, 21.2, 21.7, 22.7, 22.3, 23.8, 23.7, 35.0, 24.2, 24.7, 24.8, 24.3, 39.7, 25.2, 25.3, 39.2, 26.8, 26.2, 26.7, 26.3, 27.3, 27.7, 27.8, 32.3, 27.2, 28.7, 28.2, 28.8, 36.5, 28.3, 29.3, 29.2, 29.8, 40.7, 30.8, 30.7, 30.2, 30.3, 31.2, 31.3, 37.0, 41.2, 34.8, 35.8, 38.8, 36.3, 36.8, 32.1}\n",
      "************************************************** DiabetesPedigreeFunction **************************************************\n",
      "\n",
      "{0.351, 0.484, 1.189, 0.375, 0.875, 0.851, 0.665, 1.101, 1.476, 0.391, 1.391, 2.42, 0.398, 0.828, 0.218, 0.101, 0.226, 0.234, 0.21, 0.46, 0.601, 0.335, 0.624, 0.968, 0.593, 0.085, 1.022, 0.42, 0.178, 0.186, 0.287, 0.412, 0.452, 0.343, 0.319, 0.444, 0.702, 0.6, 0.498, 0.748, 0.17, 0.162, 0.154, 0.271, 0.396, 0.771, 0.646, 1.114, 0.826, 0.435, 0.654, 0.404, 0.84, 0.279, 0.255, 0.13, 0.38, 0.356, 0.731, 0.545, 0.247, 0.997, 0.122, 0.497, 1.154, 0.27, 0.395, 0.645, 0.52, 0.825, 0.575, 0.543, 0.231, 0.207, 0.223, 0.215, 0.598, 0.332, 1.191, 0.496, 0.121, 0.371, 0.246, 0.871, 0.394, 0.269, 0.324, 0.199, 0.34, 0.457, 0.191, 0.183, 0.433, 0.284, 0.292, 0.699, 0.949, 0.542, 0.917, 1.292, 0.597, 0.722, 0.472, 0.347, 1.222, 0.245, 0.37, 0.495, 0.745, 0.167, 0.159, 0.151, 0.143, 1.213, 0.409, 0.268, 0.893, 0.393, 1.893, 1.268, 0.698, 0.182, 1.698, 0.666, 0.471, 0.346, 0.721, 0.33, 0.455, 0.627, 0.587, 0.696, 0.526, 0.962, 1.441, 0.244, 0.933, 0.744, 0.619, 1.781, 0.408, 1.174, 0.892, 0.947, 0.181, 0.22, 0.204, 0.212, 0.845, 0.345, 0.97, 0.595, 1.095, 0.493, 0.118, 1.461, 0.289, 0.329, 0.454, 0.337, 0.305, 0.188, 0.18, 0.446, 0.422, 0.313, 0.516, 0.821, 0.571, 0.43, 1.321, 1.001, 1.251, 0.719, 0.164, 0.867, 0.742, 0.156, 0.148, 0.265, 0.515, 0.695, 0.709, 0.773, 0.374, 0.874, 0.249, 0.499, 0.539, 0.725, 0.14, 0.64, 0.718, 0.686, 0.561, 0.491, 0.741, 0.241, 0.366, 0.108, 0.514, 0.389, 0.264, 0.092, 0.569, 0.209, 0.225, 0.944, 0.233, 0.1, 0.303, 0.217, 0.537, 0.787, 0.717, 0.084, 0.56, 0.615, 0.24, 0.365, 0.443, 0.318, 0.286, 0.326, 0.201, 0.334, 0.411, 0.451, 0.294, 0.388, 0.263, 0.138, 1.731, 0.693, 0.427, 0.302, 0.177, 0.536, 0.661, 0.966, 0.591, 0.559, 0.153, 0.161, 0.145, 1.021, 0.239, 0.364, 0.614, 0.512, 0.262, 0.137, 0.637, 2.137, 0.817, 0.692, 0.176, 0.426, 0.66, 0.785, 0.254, 0.238, 2.288, 0.677, 0.613, 0.278, 0.403, 0.839, 1.4, 0.129, 1.318, 2.329, 0.808, 0.738, 0.488, 0.886, 0.089, 0.23, 0.206, 0.222, 0.816, 0.3, 0.175, 0.534, 1.159, 1.034, 0.682, 1.144, 1.394, 0.362, 0.283, 0.198, 0.307, 0.323, 0.299, 0.464, 0.19, 0.315, 0.331, 0.432, 0.26, 0.385, 0.135, 0.51, 0.565, 0.174, 0.658, 0.588, 0.447, 0.166, 0.158, 0.142, 0.15, 0.361, 0.236, 0.759, 0.259, 0.134, 0.509, 0.564, 0.423, 0.267, 0.767, 0.703, 0.578, 0.368, 0.743, 0.557, 0.932, 0.243, 0.344, 0.532, 1.282, 0.196, 0.93, 0.805, 0.68, 0.102, 0.235, 0.485, 0.735, 0.61, 0.227, 0.258, 0.383, 0.219, 0.133, 1.258, 0.813, 0.297, 0.078, 0.586, 0.711, 0.554, 0.804, 0.187, 0.304, 0.179, 0.203, 0.296, 0.336, 0.421, 0.328, 0.453, 0.734, 0.257, 0.382, 0.757, 0.507, 1.6, 0.905, 0.655, 0.28, 0.147, 0.163, 0.155, 0.171, 0.194, 0.678, 0.803, 1.39, 0.733, 0.483, 0.358, 0.342, 0.467, 1.076, 0.256, 0.881, 0.381, 0.631, 0.248, 0.546, 0.583, 0.647, 0.272, 0.833, 0.687, 0.123, 0.349, 1.224, 0.529, 0.904, 0.295, 0.107, 0.115, 0.607, 0.482, 0.732, 0.232, 1.162, 0.63, 0.88, 0.419, 0.528, 0.317, 0.551, 0.192, 0.325, 0.293, 0.434, 0.2, 0.285, 1.138, 0.466, 0.341, 0.856, 0.465, 1.699, 0.629, 0.652, 0.402, 0.527, 0.16, 0.144, 0.582, 0.832, 0.441, 0.925, 0.855, 0.605, 0.355, 0.73, 0.503, 0.128, 0.378, 0.878, 0.253, 0.261, 0.761, 0.572, 0.136, 0.487, 0.237, 0.801, 0.926, 0.612, 0.277, 1.096, 0.417, 0.401, 0.956, 0.831, 0.674, 0.549, 1.136, 0.479, 0.338, 0.205, 0.088, 0.096, 0.229, 0.221, 1.072, 0.127, 0.252, 0.502, 1.127, 0.416, 1.182, 1.057, 0.525, 0.4, 0.58, 0.955, 0.705, 0.314, 0.439, 0.431, 0.306, 0.407, 0.282, 0.197, 0.173, 0.189, 0.673, 0.29, 0.463, 1.353, 0.251, 0.626, 0.376, 0.126, 0.501, 0.415, 0.165, 0.399, 0.157, 0.141, 0.649, 0.149, 0.704, 0.672, 0.547, 0.766, 0.727, 0.352}\n",
      "************************************************** Age **************************************************\n",
      "\n",
      "{21, 22, 23, 24, 25, 26, 27, 28, 29, 30, 31, 32, 33, 34, 35, 36, 37, 38, 39, 40, 41, 42, 43, 44, 45, 46, 47, 48, 49, 50, 51, 52, 53, 54, 55, 56, 57, 58, 59, 60, 61, 62, 63, 64, 65, 66, 67, 68, 69, 70, 72, 81}\n",
      "************************************************** Outcome **************************************************\n",
      "\n",
      "{0, 1}\n"
     ]
    }
   ],
   "source": [
    "#purpose of below code to check values of all \n",
    "for i in data.columns:\n",
    "    print(\"*\"*50,i,\"*\"*50)\n",
    "    print()\n",
    "    print(set(data[i].tolist()))"
   ]
  },
  {
   "cell_type": "code",
   "execution_count": 8,
   "id": "41e1a0b6",
   "metadata": {},
   "outputs": [
    {
     "data": {
      "text/html": [
       "<div>\n",
       "<style scoped>\n",
       "    .dataframe tbody tr th:only-of-type {\n",
       "        vertical-align: middle;\n",
       "    }\n",
       "\n",
       "    .dataframe tbody tr th {\n",
       "        vertical-align: top;\n",
       "    }\n",
       "\n",
       "    .dataframe thead th {\n",
       "        text-align: right;\n",
       "    }\n",
       "</style>\n",
       "<table border=\"1\" class=\"dataframe\">\n",
       "  <thead>\n",
       "    <tr style=\"text-align: right;\">\n",
       "      <th></th>\n",
       "      <th>Pregnancies</th>\n",
       "      <th>Glucose</th>\n",
       "      <th>BloodPressure</th>\n",
       "      <th>SkinThickness</th>\n",
       "      <th>Insulin</th>\n",
       "      <th>BMI</th>\n",
       "      <th>DiabetesPedigreeFunction</th>\n",
       "      <th>Age</th>\n",
       "      <th>Outcome</th>\n",
       "    </tr>\n",
       "  </thead>\n",
       "  <tbody>\n",
       "    <tr>\n",
       "      <th>count</th>\n",
       "      <td>768.000000</td>\n",
       "      <td>768.000000</td>\n",
       "      <td>768.000000</td>\n",
       "      <td>768.000000</td>\n",
       "      <td>768.000000</td>\n",
       "      <td>768.000000</td>\n",
       "      <td>768.000000</td>\n",
       "      <td>768.000000</td>\n",
       "      <td>768.000000</td>\n",
       "    </tr>\n",
       "    <tr>\n",
       "      <th>mean</th>\n",
       "      <td>3.845052</td>\n",
       "      <td>120.894531</td>\n",
       "      <td>69.105469</td>\n",
       "      <td>20.536458</td>\n",
       "      <td>79.799479</td>\n",
       "      <td>31.992578</td>\n",
       "      <td>0.471876</td>\n",
       "      <td>33.240885</td>\n",
       "      <td>0.348958</td>\n",
       "    </tr>\n",
       "    <tr>\n",
       "      <th>std</th>\n",
       "      <td>3.369578</td>\n",
       "      <td>31.972618</td>\n",
       "      <td>19.355807</td>\n",
       "      <td>15.952218</td>\n",
       "      <td>115.244002</td>\n",
       "      <td>7.884160</td>\n",
       "      <td>0.331329</td>\n",
       "      <td>11.760232</td>\n",
       "      <td>0.476951</td>\n",
       "    </tr>\n",
       "    <tr>\n",
       "      <th>min</th>\n",
       "      <td>0.000000</td>\n",
       "      <td>0.000000</td>\n",
       "      <td>0.000000</td>\n",
       "      <td>0.000000</td>\n",
       "      <td>0.000000</td>\n",
       "      <td>0.000000</td>\n",
       "      <td>0.078000</td>\n",
       "      <td>21.000000</td>\n",
       "      <td>0.000000</td>\n",
       "    </tr>\n",
       "    <tr>\n",
       "      <th>25%</th>\n",
       "      <td>1.000000</td>\n",
       "      <td>99.000000</td>\n",
       "      <td>62.000000</td>\n",
       "      <td>0.000000</td>\n",
       "      <td>0.000000</td>\n",
       "      <td>27.300000</td>\n",
       "      <td>0.243750</td>\n",
       "      <td>24.000000</td>\n",
       "      <td>0.000000</td>\n",
       "    </tr>\n",
       "    <tr>\n",
       "      <th>50%</th>\n",
       "      <td>3.000000</td>\n",
       "      <td>117.000000</td>\n",
       "      <td>72.000000</td>\n",
       "      <td>23.000000</td>\n",
       "      <td>30.500000</td>\n",
       "      <td>32.000000</td>\n",
       "      <td>0.372500</td>\n",
       "      <td>29.000000</td>\n",
       "      <td>0.000000</td>\n",
       "    </tr>\n",
       "    <tr>\n",
       "      <th>75%</th>\n",
       "      <td>6.000000</td>\n",
       "      <td>140.250000</td>\n",
       "      <td>80.000000</td>\n",
       "      <td>32.000000</td>\n",
       "      <td>127.250000</td>\n",
       "      <td>36.600000</td>\n",
       "      <td>0.626250</td>\n",
       "      <td>41.000000</td>\n",
       "      <td>1.000000</td>\n",
       "    </tr>\n",
       "    <tr>\n",
       "      <th>max</th>\n",
       "      <td>17.000000</td>\n",
       "      <td>199.000000</td>\n",
       "      <td>122.000000</td>\n",
       "      <td>99.000000</td>\n",
       "      <td>846.000000</td>\n",
       "      <td>67.100000</td>\n",
       "      <td>2.420000</td>\n",
       "      <td>81.000000</td>\n",
       "      <td>1.000000</td>\n",
       "    </tr>\n",
       "  </tbody>\n",
       "</table>\n",
       "</div>"
      ],
      "text/plain": [
       "       Pregnancies     Glucose  BloodPressure  SkinThickness     Insulin  \\\n",
       "count   768.000000  768.000000     768.000000     768.000000  768.000000   \n",
       "mean      3.845052  120.894531      69.105469      20.536458   79.799479   \n",
       "std       3.369578   31.972618      19.355807      15.952218  115.244002   \n",
       "min       0.000000    0.000000       0.000000       0.000000    0.000000   \n",
       "25%       1.000000   99.000000      62.000000       0.000000    0.000000   \n",
       "50%       3.000000  117.000000      72.000000      23.000000   30.500000   \n",
       "75%       6.000000  140.250000      80.000000      32.000000  127.250000   \n",
       "max      17.000000  199.000000     122.000000      99.000000  846.000000   \n",
       "\n",
       "              BMI  DiabetesPedigreeFunction         Age     Outcome  \n",
       "count  768.000000                768.000000  768.000000  768.000000  \n",
       "mean    31.992578                  0.471876   33.240885    0.348958  \n",
       "std      7.884160                  0.331329   11.760232    0.476951  \n",
       "min      0.000000                  0.078000   21.000000    0.000000  \n",
       "25%     27.300000                  0.243750   24.000000    0.000000  \n",
       "50%     32.000000                  0.372500   29.000000    0.000000  \n",
       "75%     36.600000                  0.626250   41.000000    1.000000  \n",
       "max     67.100000                  2.420000   81.000000    1.000000  "
      ]
     },
     "execution_count": 8,
     "metadata": {},
     "output_type": "execute_result"
    }
   ],
   "source": [
    "data.describe()"
   ]
  },
  {
   "cell_type": "code",
   "execution_count": 9,
   "id": "cba29b8d",
   "metadata": {},
   "outputs": [],
   "source": [
    "data[\"Glucose\"]=np.where(data[\"Glucose\"]==0,data[\"Glucose\"].median(),data[\"Glucose\"])\n",
    "data[\"SkinThickness\"]=np.where(data[\"SkinThickness\"]==0,data[\"SkinThickness\"].median(),data[\"SkinThickness\"])"
   ]
  },
  {
   "cell_type": "code",
   "execution_count": 10,
   "id": "ba2680ee",
   "metadata": {},
   "outputs": [],
   "source": [
    "data[\"BloodPressure\"]=np.where(data[\"BloodPressure\"]==0,data[\"BloodPressure\"].median(),data[\"BloodPressure\"])\n",
    "data[\"Insulin\"]=np.where(data[\"Insulin\"]==0,data[\"Insulin\"].median(),data[\"Insulin\"])\n",
    "data[\"BMI\"]=np.where(data[\"BMI\"]==0,data[\"BMI\"].median(),data[\"BMI\"])"
   ]
  },
  {
   "cell_type": "code",
   "execution_count": 11,
   "id": "9907eb92",
   "metadata": {},
   "outputs": [
    {
     "data": {
      "text/html": [
       "<div>\n",
       "<style scoped>\n",
       "    .dataframe tbody tr th:only-of-type {\n",
       "        vertical-align: middle;\n",
       "    }\n",
       "\n",
       "    .dataframe tbody tr th {\n",
       "        vertical-align: top;\n",
       "    }\n",
       "\n",
       "    .dataframe thead th {\n",
       "        text-align: right;\n",
       "    }\n",
       "</style>\n",
       "<table border=\"1\" class=\"dataframe\">\n",
       "  <thead>\n",
       "    <tr style=\"text-align: right;\">\n",
       "      <th></th>\n",
       "      <th>Pregnancies</th>\n",
       "      <th>Glucose</th>\n",
       "      <th>BloodPressure</th>\n",
       "      <th>SkinThickness</th>\n",
       "      <th>Insulin</th>\n",
       "      <th>BMI</th>\n",
       "      <th>DiabetesPedigreeFunction</th>\n",
       "      <th>Age</th>\n",
       "      <th>Outcome</th>\n",
       "    </tr>\n",
       "  </thead>\n",
       "  <tbody>\n",
       "    <tr>\n",
       "      <th>count</th>\n",
       "      <td>768.000000</td>\n",
       "      <td>768.000000</td>\n",
       "      <td>768.000000</td>\n",
       "      <td>768.000000</td>\n",
       "      <td>768.000000</td>\n",
       "      <td>768.000000</td>\n",
       "      <td>768.000000</td>\n",
       "      <td>768.000000</td>\n",
       "      <td>768.000000</td>\n",
       "    </tr>\n",
       "    <tr>\n",
       "      <th>mean</th>\n",
       "      <td>3.845052</td>\n",
       "      <td>121.656250</td>\n",
       "      <td>72.386719</td>\n",
       "      <td>27.334635</td>\n",
       "      <td>94.652344</td>\n",
       "      <td>32.450911</td>\n",
       "      <td>0.471876</td>\n",
       "      <td>33.240885</td>\n",
       "      <td>0.348958</td>\n",
       "    </tr>\n",
       "    <tr>\n",
       "      <th>std</th>\n",
       "      <td>3.369578</td>\n",
       "      <td>30.438286</td>\n",
       "      <td>12.096642</td>\n",
       "      <td>9.229014</td>\n",
       "      <td>105.547598</td>\n",
       "      <td>6.875366</td>\n",
       "      <td>0.331329</td>\n",
       "      <td>11.760232</td>\n",
       "      <td>0.476951</td>\n",
       "    </tr>\n",
       "    <tr>\n",
       "      <th>min</th>\n",
       "      <td>0.000000</td>\n",
       "      <td>44.000000</td>\n",
       "      <td>24.000000</td>\n",
       "      <td>7.000000</td>\n",
       "      <td>14.000000</td>\n",
       "      <td>18.200000</td>\n",
       "      <td>0.078000</td>\n",
       "      <td>21.000000</td>\n",
       "      <td>0.000000</td>\n",
       "    </tr>\n",
       "    <tr>\n",
       "      <th>25%</th>\n",
       "      <td>1.000000</td>\n",
       "      <td>99.750000</td>\n",
       "      <td>64.000000</td>\n",
       "      <td>23.000000</td>\n",
       "      <td>30.500000</td>\n",
       "      <td>27.500000</td>\n",
       "      <td>0.243750</td>\n",
       "      <td>24.000000</td>\n",
       "      <td>0.000000</td>\n",
       "    </tr>\n",
       "    <tr>\n",
       "      <th>50%</th>\n",
       "      <td>3.000000</td>\n",
       "      <td>117.000000</td>\n",
       "      <td>72.000000</td>\n",
       "      <td>23.000000</td>\n",
       "      <td>31.250000</td>\n",
       "      <td>32.000000</td>\n",
       "      <td>0.372500</td>\n",
       "      <td>29.000000</td>\n",
       "      <td>0.000000</td>\n",
       "    </tr>\n",
       "    <tr>\n",
       "      <th>75%</th>\n",
       "      <td>6.000000</td>\n",
       "      <td>140.250000</td>\n",
       "      <td>80.000000</td>\n",
       "      <td>32.000000</td>\n",
       "      <td>127.250000</td>\n",
       "      <td>36.600000</td>\n",
       "      <td>0.626250</td>\n",
       "      <td>41.000000</td>\n",
       "      <td>1.000000</td>\n",
       "    </tr>\n",
       "    <tr>\n",
       "      <th>max</th>\n",
       "      <td>17.000000</td>\n",
       "      <td>199.000000</td>\n",
       "      <td>122.000000</td>\n",
       "      <td>99.000000</td>\n",
       "      <td>846.000000</td>\n",
       "      <td>67.100000</td>\n",
       "      <td>2.420000</td>\n",
       "      <td>81.000000</td>\n",
       "      <td>1.000000</td>\n",
       "    </tr>\n",
       "  </tbody>\n",
       "</table>\n",
       "</div>"
      ],
      "text/plain": [
       "       Pregnancies     Glucose  BloodPressure  SkinThickness     Insulin  \\\n",
       "count   768.000000  768.000000     768.000000     768.000000  768.000000   \n",
       "mean      3.845052  121.656250      72.386719      27.334635   94.652344   \n",
       "std       3.369578   30.438286      12.096642       9.229014  105.547598   \n",
       "min       0.000000   44.000000      24.000000       7.000000   14.000000   \n",
       "25%       1.000000   99.750000      64.000000      23.000000   30.500000   \n",
       "50%       3.000000  117.000000      72.000000      23.000000   31.250000   \n",
       "75%       6.000000  140.250000      80.000000      32.000000  127.250000   \n",
       "max      17.000000  199.000000     122.000000      99.000000  846.000000   \n",
       "\n",
       "              BMI  DiabetesPedigreeFunction         Age     Outcome  \n",
       "count  768.000000                768.000000  768.000000  768.000000  \n",
       "mean    32.450911                  0.471876   33.240885    0.348958  \n",
       "std      6.875366                  0.331329   11.760232    0.476951  \n",
       "min     18.200000                  0.078000   21.000000    0.000000  \n",
       "25%     27.500000                  0.243750   24.000000    0.000000  \n",
       "50%     32.000000                  0.372500   29.000000    0.000000  \n",
       "75%     36.600000                  0.626250   41.000000    1.000000  \n",
       "max     67.100000                  2.420000   81.000000    1.000000  "
      ]
     },
     "execution_count": 11,
     "metadata": {},
     "output_type": "execute_result"
    }
   ],
   "source": [
    "data.describe()"
   ]
  },
  {
   "cell_type": "code",
   "execution_count": null,
   "id": "f20c9bc3",
   "metadata": {},
   "outputs": [],
   "source": []
  },
  {
   "cell_type": "markdown",
   "id": "8261b24e",
   "metadata": {},
   "source": [
    "# outlier treatemnt"
   ]
  },
  {
   "cell_type": "code",
   "execution_count": 12,
   "id": "f053e3a3",
   "metadata": {},
   "outputs": [],
   "source": [
    "# only for independent variable\n",
    "#split the data inpendent and dependent variable\n",
    "X=data.drop(columns=[\"Outcome\"])\n",
    "y=data[\"Outcome\"]"
   ]
  },
  {
   "cell_type": "code",
   "execution_count": 13,
   "id": "8a5625ac",
   "metadata": {},
   "outputs": [
    {
     "data": {
      "text/plain": [
       "'#not required to logistic and navi bayes theorem\\ndef Iqr(i):\\n    q1=np.quantile(data[i],0.25)\\n    q3=np.quantile(data[i],0.75)\\n    iqr=q3-q1\\n    high=q3+1.5*iqr\\n    low=q1-1.5*iqr\\n    data[i]=np.clip(data[i],low,high)\\nfor i in X:\\n    Iqr(i)\\n    \\n        \\n        '"
      ]
     },
     "execution_count": 13,
     "metadata": {},
     "output_type": "execute_result"
    }
   ],
   "source": [
    "\"\"\"#not required to logistic and navi bayes theorem\n",
    "def Iqr(i):\n",
    "    q1=np.quantile(data[i],0.25)\n",
    "    q3=np.quantile(data[i],0.75)\n",
    "    iqr=q3-q1\n",
    "    high=q3+1.5*iqr\n",
    "    low=q1-1.5*iqr\n",
    "    data[i]=np.clip(data[i],low,high)\n",
    "for i in X:\n",
    "    Iqr(i)\n",
    "    \n",
    "        \n",
    "        \"\"\""
   ]
  },
  {
   "cell_type": "markdown",
   "id": "8a602b95",
   "metadata": {},
   "source": [
    "# Capping method"
   ]
  },
  {
   "cell_type": "code",
   "execution_count": 14,
   "id": "c43f0421",
   "metadata": {},
   "outputs": [
    {
     "name": "stdout",
     "output_type": "stream",
     "text": [
      "1.0\n",
      "6.0\n",
      "5.0\n",
      "13.5\n",
      "-6.5\n"
     ]
    }
   ],
   "source": [
    "# Pregnancies\n",
    "\n",
    "Q1 = X['Pregnancies'].quantile(0.25)\n",
    "Q3 = X['Pregnancies'].quantile(0.75)\n",
    "IQR = Q3 - Q1\n",
    "UL = Q3 + 1.5 * IQR\n",
    "LL = Q1 - 1.5 * IQR\n",
    "\n",
    "print(Q1)\n",
    "print(Q3)\n",
    "print(IQR)\n",
    "print(UL)\n",
    "print(LL)"
   ]
  },
  {
   "cell_type": "code",
   "execution_count": 15,
   "id": "d16300a4",
   "metadata": {},
   "outputs": [],
   "source": [
    "\"\"\"for i in data:\n",
    "    sns.boxplot(data[i])\n",
    "    plt.show()\"\"\"\n",
    "X['Pregnancies'] = np.where(X['Pregnancies'] >= UL, UL,X['Pregnancies'])"
   ]
  },
  {
   "cell_type": "code",
   "execution_count": 16,
   "id": "fab817e4",
   "metadata": {},
   "outputs": [
    {
     "name": "stdout",
     "output_type": "stream",
     "text": [
      "Pregnancies                  1.00000\n",
      "Glucose                     99.75000\n",
      "BloodPressure               64.00000\n",
      "SkinThickness               23.00000\n",
      "Insulin                     30.50000\n",
      "BMI                         27.50000\n",
      "DiabetesPedigreeFunction     0.24375\n",
      "Age                         24.00000\n",
      "Name: 0.25, dtype: float64\n",
      "Pregnancies                   6.00000\n",
      "Glucose                     140.25000\n",
      "BloodPressure                80.00000\n",
      "SkinThickness                32.00000\n",
      "Insulin                     127.25000\n",
      "BMI                          36.60000\n",
      "DiabetesPedigreeFunction      0.62625\n",
      "Age                          41.00000\n",
      "Name: 0.75, dtype: float64\n",
      "Pregnancies                  5.0000\n",
      "Glucose                     40.5000\n",
      "BloodPressure               16.0000\n",
      "SkinThickness                9.0000\n",
      "Insulin                     96.7500\n",
      "BMI                          9.1000\n",
      "DiabetesPedigreeFunction     0.3825\n",
      "Age                         17.0000\n",
      "dtype: float64\n",
      "Pregnancies                  13.500\n",
      "Glucose                     201.000\n",
      "BloodPressure               104.000\n",
      "SkinThickness                45.500\n",
      "Insulin                     272.375\n",
      "BMI                          50.250\n",
      "DiabetesPedigreeFunction      1.200\n",
      "Age                          66.500\n",
      "dtype: float64\n",
      "Pregnancies                  -6.500\n",
      "Glucose                      39.000\n",
      "BloodPressure                40.000\n",
      "SkinThickness                 9.500\n",
      "Insulin                    -114.625\n",
      "BMI                          13.850\n",
      "DiabetesPedigreeFunction     -0.330\n",
      "Age                          -1.500\n",
      "dtype: float64\n"
     ]
    }
   ],
   "source": [
    "# At one go, we have to use capping method\n",
    "\n",
    "Q1 =X.quantile(0.25)\n",
    "Q3 = X.quantile(0.75)\n",
    "IQR = Q3 - Q1\n",
    "UL = Q3 + 1.5 * IQR\n",
    "LL = Q1 - 1.5 * IQR\n",
    "\n",
    "print(Q1)\n",
    "print(Q3)\n",
    "print(IQR)\n",
    "print(UL)\n",
    "print(LL) "
   ]
  },
  {
   "cell_type": "code",
   "execution_count": 17,
   "id": "d154ab91",
   "metadata": {},
   "outputs": [
    {
     "data": {
      "text/plain": [
       "Pregnancies                  0\n",
       "Glucose                      0\n",
       "BloodPressure               14\n",
       "SkinThickness               35\n",
       "Insulin                     49\n",
       "BMI                          8\n",
       "DiabetesPedigreeFunction    29\n",
       "Age                          9\n",
       "dtype: int64"
      ]
     },
     "execution_count": 17,
     "metadata": {},
     "output_type": "execute_result"
    }
   ],
   "source": [
    "((X > UL) | (X < LL)).sum()"
   ]
  },
  {
   "cell_type": "code",
   "execution_count": 18,
   "id": "992adc6f",
   "metadata": {},
   "outputs": [
    {
     "data": {
      "text/plain": [
       "144"
      ]
     },
     "execution_count": 18,
     "metadata": {},
     "output_type": "execute_result"
    }
   ],
   "source": [
    "((X > UL) | (X < LL)).sum().sum()"
   ]
  },
  {
   "cell_type": "code",
   "execution_count": 19,
   "id": "063dc730",
   "metadata": {},
   "outputs": [],
   "source": [
    "X[((X > UL) | (X < LL))] = np.nan"
   ]
  },
  {
   "cell_type": "code",
   "execution_count": 20,
   "id": "4438eecd",
   "metadata": {},
   "outputs": [],
   "source": [
    "from sklearn.preprocessing import StandardScaler\n",
    "scaler = StandardScaler()\n",
    "scaled_x = pd.DataFrame(scaler.fit_transform(X), columns = X.columns)"
   ]
  },
  {
   "cell_type": "code",
   "execution_count": 21,
   "id": "5d99d379",
   "metadata": {},
   "outputs": [
    {
     "data": {
      "text/html": [
       "<div>\n",
       "<style scoped>\n",
       "    .dataframe tbody tr th:only-of-type {\n",
       "        vertical-align: middle;\n",
       "    }\n",
       "\n",
       "    .dataframe tbody tr th {\n",
       "        vertical-align: top;\n",
       "    }\n",
       "\n",
       "    .dataframe thead th {\n",
       "        text-align: right;\n",
       "    }\n",
       "</style>\n",
       "<table border=\"1\" class=\"dataframe\">\n",
       "  <thead>\n",
       "    <tr style=\"text-align: right;\">\n",
       "      <th></th>\n",
       "      <th>Pregnancies</th>\n",
       "      <th>Glucose</th>\n",
       "      <th>BloodPressure</th>\n",
       "      <th>SkinThickness</th>\n",
       "      <th>Insulin</th>\n",
       "      <th>BMI</th>\n",
       "      <th>DiabetesPedigreeFunction</th>\n",
       "      <th>Age</th>\n",
       "    </tr>\n",
       "  </thead>\n",
       "  <tbody>\n",
       "    <tr>\n",
       "      <th>0</th>\n",
       "      <td>0.647150</td>\n",
       "      <td>0.866045</td>\n",
       "      <td>-0.010037</td>\n",
       "      <td>1.122501</td>\n",
       "      <td>-0.707637</td>\n",
       "      <td>0.217229</td>\n",
       "      <td>0.790204</td>\n",
       "      <td>1.548281</td>\n",
       "    </tr>\n",
       "    <tr>\n",
       "      <th>1</th>\n",
       "      <td>-0.848970</td>\n",
       "      <td>-1.205066</td>\n",
       "      <td>-0.557107</td>\n",
       "      <td>0.336142</td>\n",
       "      <td>-0.707637</td>\n",
       "      <td>-0.869731</td>\n",
       "      <td>-0.315942</td>\n",
       "      <td>-0.162527</td>\n",
       "    </tr>\n",
       "    <tr>\n",
       "      <th>2</th>\n",
       "      <td>1.245598</td>\n",
       "      <td>2.016662</td>\n",
       "      <td>-0.739464</td>\n",
       "      <td>-0.450216</td>\n",
       "      <td>-0.707637</td>\n",
       "      <td>-1.382155</td>\n",
       "      <td>0.970554</td>\n",
       "      <td>-0.072485</td>\n",
       "    </tr>\n",
       "    <tr>\n",
       "      <th>3</th>\n",
       "      <td>-0.848970</td>\n",
       "      <td>-1.073567</td>\n",
       "      <td>-0.557107</td>\n",
       "      <td>-0.450216</td>\n",
       "      <td>0.338631</td>\n",
       "      <td>-0.636811</td>\n",
       "      <td>-1.053372</td>\n",
       "      <td>-1.062953</td>\n",
       "    </tr>\n",
       "    <tr>\n",
       "      <th>4</th>\n",
       "      <td>-1.148194</td>\n",
       "      <td>0.504422</td>\n",
       "      <td>-2.927745</td>\n",
       "      <td>1.122501</td>\n",
       "      <td>1.557903</td>\n",
       "      <td>1.692388</td>\n",
       "      <td>NaN</td>\n",
       "      <td>0.017558</td>\n",
       "    </tr>\n",
       "  </tbody>\n",
       "</table>\n",
       "</div>"
      ],
      "text/plain": [
       "   Pregnancies   Glucose  BloodPressure  SkinThickness   Insulin       BMI  \\\n",
       "0     0.647150  0.866045      -0.010037       1.122501 -0.707637  0.217229   \n",
       "1    -0.848970 -1.205066      -0.557107       0.336142 -0.707637 -0.869731   \n",
       "2     1.245598  2.016662      -0.739464      -0.450216 -0.707637 -1.382155   \n",
       "3    -0.848970 -1.073567      -0.557107      -0.450216  0.338631 -0.636811   \n",
       "4    -1.148194  0.504422      -2.927745       1.122501  1.557903  1.692388   \n",
       "\n",
       "   DiabetesPedigreeFunction       Age  \n",
       "0                  0.790204  1.548281  \n",
       "1                 -0.315942 -0.162527  \n",
       "2                  0.970554 -0.072485  \n",
       "3                 -1.053372 -1.062953  \n",
       "4                       NaN  0.017558  "
      ]
     },
     "execution_count": 21,
     "metadata": {},
     "output_type": "execute_result"
    }
   ],
   "source": [
    "scaled_x.head()"
   ]
  },
  {
   "cell_type": "code",
   "execution_count": 22,
   "id": "16b0e7ff",
   "metadata": {},
   "outputs": [],
   "source": [
    "new_data=pd.concat([scaled_x,y],axis=1)"
   ]
  },
  {
   "cell_type": "code",
   "execution_count": 23,
   "id": "d1d00723",
   "metadata": {},
   "outputs": [
    {
     "data": {
      "text/html": [
       "<div>\n",
       "<style scoped>\n",
       "    .dataframe tbody tr th:only-of-type {\n",
       "        vertical-align: middle;\n",
       "    }\n",
       "\n",
       "    .dataframe tbody tr th {\n",
       "        vertical-align: top;\n",
       "    }\n",
       "\n",
       "    .dataframe thead th {\n",
       "        text-align: right;\n",
       "    }\n",
       "</style>\n",
       "<table border=\"1\" class=\"dataframe\">\n",
       "  <thead>\n",
       "    <tr style=\"text-align: right;\">\n",
       "      <th></th>\n",
       "      <th>Pregnancies</th>\n",
       "      <th>Glucose</th>\n",
       "      <th>BloodPressure</th>\n",
       "      <th>SkinThickness</th>\n",
       "      <th>Insulin</th>\n",
       "      <th>BMI</th>\n",
       "      <th>DiabetesPedigreeFunction</th>\n",
       "      <th>Age</th>\n",
       "      <th>Outcome</th>\n",
       "    </tr>\n",
       "  </thead>\n",
       "  <tbody>\n",
       "    <tr>\n",
       "      <th>0</th>\n",
       "      <td>0.647150</td>\n",
       "      <td>0.866045</td>\n",
       "      <td>-0.010037</td>\n",
       "      <td>1.122501</td>\n",
       "      <td>-0.707637</td>\n",
       "      <td>0.217229</td>\n",
       "      <td>0.790204</td>\n",
       "      <td>1.548281</td>\n",
       "      <td>1</td>\n",
       "    </tr>\n",
       "    <tr>\n",
       "      <th>1</th>\n",
       "      <td>-0.848970</td>\n",
       "      <td>-1.205066</td>\n",
       "      <td>-0.557107</td>\n",
       "      <td>0.336142</td>\n",
       "      <td>-0.707637</td>\n",
       "      <td>-0.869731</td>\n",
       "      <td>-0.315942</td>\n",
       "      <td>-0.162527</td>\n",
       "      <td>0</td>\n",
       "    </tr>\n",
       "    <tr>\n",
       "      <th>2</th>\n",
       "      <td>1.245598</td>\n",
       "      <td>2.016662</td>\n",
       "      <td>-0.739464</td>\n",
       "      <td>-0.450216</td>\n",
       "      <td>-0.707637</td>\n",
       "      <td>-1.382155</td>\n",
       "      <td>0.970554</td>\n",
       "      <td>-0.072485</td>\n",
       "      <td>1</td>\n",
       "    </tr>\n",
       "    <tr>\n",
       "      <th>3</th>\n",
       "      <td>-0.848970</td>\n",
       "      <td>-1.073567</td>\n",
       "      <td>-0.557107</td>\n",
       "      <td>-0.450216</td>\n",
       "      <td>0.338631</td>\n",
       "      <td>-0.636811</td>\n",
       "      <td>-1.053372</td>\n",
       "      <td>-1.062953</td>\n",
       "      <td>0</td>\n",
       "    </tr>\n",
       "    <tr>\n",
       "      <th>4</th>\n",
       "      <td>-1.148194</td>\n",
       "      <td>0.504422</td>\n",
       "      <td>-2.927745</td>\n",
       "      <td>1.122501</td>\n",
       "      <td>1.557903</td>\n",
       "      <td>1.692388</td>\n",
       "      <td>NaN</td>\n",
       "      <td>0.017558</td>\n",
       "      <td>1</td>\n",
       "    </tr>\n",
       "  </tbody>\n",
       "</table>\n",
       "</div>"
      ],
      "text/plain": [
       "   Pregnancies   Glucose  BloodPressure  SkinThickness   Insulin       BMI  \\\n",
       "0     0.647150  0.866045      -0.010037       1.122501 -0.707637  0.217229   \n",
       "1    -0.848970 -1.205066      -0.557107       0.336142 -0.707637 -0.869731   \n",
       "2     1.245598  2.016662      -0.739464      -0.450216 -0.707637 -1.382155   \n",
       "3    -0.848970 -1.073567      -0.557107      -0.450216  0.338631 -0.636811   \n",
       "4    -1.148194  0.504422      -2.927745       1.122501  1.557903  1.692388   \n",
       "\n",
       "   DiabetesPedigreeFunction       Age  Outcome  \n",
       "0                  0.790204  1.548281        1  \n",
       "1                 -0.315942 -0.162527        0  \n",
       "2                  0.970554 -0.072485        1  \n",
       "3                 -1.053372 -1.062953        0  \n",
       "4                       NaN  0.017558        1  "
      ]
     },
     "execution_count": 23,
     "metadata": {},
     "output_type": "execute_result"
    }
   ],
   "source": [
    "new_data.head()"
   ]
  },
  {
   "cell_type": "code",
   "execution_count": 24,
   "id": "abf4e591",
   "metadata": {},
   "outputs": [
    {
     "data": {
      "text/plain": [
       "Pregnancies                  0\n",
       "Glucose                      0\n",
       "BloodPressure               14\n",
       "SkinThickness               35\n",
       "Insulin                     49\n",
       "BMI                          8\n",
       "DiabetesPedigreeFunction    29\n",
       "Age                          9\n",
       "Outcome                      0\n",
       "dtype: int64"
      ]
     },
     "execution_count": 24,
     "metadata": {},
     "output_type": "execute_result"
    }
   ],
   "source": [
    "new_data.isnull().sum()"
   ]
  },
  {
   "cell_type": "markdown",
   "id": "c8d19668",
   "metadata": {},
   "source": [
    "### imputing the remaing missing value by the help of knn imputation\n"
   ]
  },
  {
   "cell_type": "code",
   "execution_count": 25,
   "id": "8cbaece6",
   "metadata": {},
   "outputs": [],
   "source": [
    "from sklearn.impute import KNNImputer"
   ]
  },
  {
   "cell_type": "code",
   "execution_count": 26,
   "id": "7f0c2154",
   "metadata": {},
   "outputs": [],
   "source": [
    "imputer=KNNImputer(n_neighbors=11)"
   ]
  },
  {
   "cell_type": "code",
   "execution_count": 27,
   "id": "e3ed7920",
   "metadata": {},
   "outputs": [],
   "source": [
    "imputed_data=pd.DataFrame(imputer.fit_transform(new_data), columns=new_data.columns)"
   ]
  },
  {
   "cell_type": "code",
   "execution_count": 28,
   "id": "39e4b9c1",
   "metadata": {},
   "outputs": [
    {
     "data": {
      "text/plain": [
       "Pregnancies                 0\n",
       "Glucose                     0\n",
       "BloodPressure               0\n",
       "SkinThickness               0\n",
       "Insulin                     0\n",
       "BMI                         0\n",
       "DiabetesPedigreeFunction    0\n",
       "Age                         0\n",
       "Outcome                     0\n",
       "dtype: int64"
      ]
     },
     "execution_count": 28,
     "metadata": {},
     "output_type": "execute_result"
    }
   ],
   "source": [
    "imputed_data.isnull().sum()"
   ]
  },
  {
   "cell_type": "code",
   "execution_count": 29,
   "id": "91a91dc9",
   "metadata": {},
   "outputs": [
    {
     "data": {
      "image/png": "[encoded data removed]",
      "text/plain": [
       "<Figure size 640x480 with 1 Axes>"
      ]
     },
     "metadata": {},
     "output_type": "display_data"
    },
    {
     "data": {
      "image/png": "[encoded data removed]",
      "text/plain": [
       "<Figure size 640x480 with 1 Axes>"
      ]
     },
     "metadata": {},
     "output_type": "display_data"
    },
    {
     "data": {
      "image/png": "[encoded data removed]",
      "text/plain": [
       "<Figure size 640x480 with 1 Axes>"
      ]
     },
     "metadata": {},
     "output_type": "display_data"
    },
    {
     "data": {
      "image/png": "[encoded data removed]",
      "text/plain": [
       "<Figure size 640x480 with 1 Axes>"
      ]
     },
     "metadata": {},
     "output_type": "display_data"
    },
    {
     "data": {
      "image/png": "[encoded data removed]",
      "text/plain": [
       "<Figure size 640x480 with 1 Axes>"
      ]
     },
     "metadata": {},
     "output_type": "display_data"
    },
    {
     "data": {
      "image/png": "[encoded data removed]",
      "text/plain": [
       "<Figure size 640x480 with 1 Axes>"
      ]
     },
     "metadata": {},
     "output_type": "display_data"
    },
    {
     "data": {
      "image/png": "[encoded data removed]",
      "text/plain": [
       "<Figure size 640x480 with 1 Axes>"
      ]
     },
     "metadata": {},
     "output_type": "display_data"
    },
    {
     "data": {
      "image/png": "[encoded data removed]",
      "text/plain": [
       "<Figure size 640x480 with 1 Axes>"
      ]
     },
     "metadata": {},
     "output_type": "display_data"
    },
    {
     "data": {
      "image/png": "[encoded data removed]",
      "text/plain": [
       "<Figure size 640x480 with 1 Axes>"
      ]
     },
     "metadata": {},
     "output_type": "display_data"
    }
   ],
   "source": [
    "for i in imputed_data:\n",
    "    sns.boxplot(imputed_data[i])\n",
    "    plt.show()"
   ]
  },
  {
   "cell_type": "code",
   "execution_count": 30,
   "id": "610295af",
   "metadata": {},
   "outputs": [],
   "source": [
    "# imbalanced treatment\n"
   ]
  },
  {
   "cell_type": "code",
   "execution_count": 31,
   "id": "1f85384e",
   "metadata": {},
   "outputs": [
    {
     "data": {
      "text/plain": [
       "Outcome\n",
       "0.0    0.651042\n",
       "1.0    0.348958\n",
       "Name: proportion, dtype: float64"
      ]
     },
     "execution_count": 31,
     "metadata": {},
     "output_type": "execute_result"
    }
   ],
   "source": [
    "imputed_data[\"Outcome\"].value_counts(normalize=True)"
   ]
  },
  {
   "cell_type": "markdown",
   "id": "91841295-846a-47d0-8782-211775dccea1",
   "metadata": {},
   "source": [
    "# feature selection / feature engineering"
   ]
  },
  {
   "cell_type": "code",
   "execution_count": 32,
   "id": "1cab93ec-9d15-44c5-8863-1a1d91286cb2",
   "metadata": {},
   "outputs": [
    {
     "data": {
      "text/html": [
       "<div>\n",
       "<style scoped>\n",
       "    .dataframe tbody tr th:only-of-type {\n",
       "        vertical-align: middle;\n",
       "    }\n",
       "\n",
       "    .dataframe tbody tr th {\n",
       "        vertical-align: top;\n",
       "    }\n",
       "\n",
       "    .dataframe thead th {\n",
       "        text-align: right;\n",
       "    }\n",
       "</style>\n",
       "<table border=\"1\" class=\"dataframe\">\n",
       "  <thead>\n",
       "    <tr style=\"text-align: right;\">\n",
       "      <th></th>\n",
       "      <th>Pregnancies</th>\n",
       "      <th>Glucose</th>\n",
       "      <th>BloodPressure</th>\n",
       "      <th>SkinThickness</th>\n",
       "      <th>Insulin</th>\n",
       "      <th>BMI</th>\n",
       "      <th>DiabetesPedigreeFunction</th>\n",
       "      <th>Age</th>\n",
       "      <th>Outcome</th>\n",
       "    </tr>\n",
       "  </thead>\n",
       "  <tbody>\n",
       "    <tr>\n",
       "      <th>0</th>\n",
       "      <td>0.647150</td>\n",
       "      <td>0.866045</td>\n",
       "      <td>-0.010037</td>\n",
       "      <td>1.122501</td>\n",
       "      <td>-0.707637</td>\n",
       "      <td>0.217229</td>\n",
       "      <td>0.790204</td>\n",
       "      <td>1.548281</td>\n",
       "      <td>1.0</td>\n",
       "    </tr>\n",
       "    <tr>\n",
       "      <th>1</th>\n",
       "      <td>-0.848970</td>\n",
       "      <td>-1.205066</td>\n",
       "      <td>-0.557107</td>\n",
       "      <td>0.336142</td>\n",
       "      <td>-0.707637</td>\n",
       "      <td>-0.869731</td>\n",
       "      <td>-0.315942</td>\n",
       "      <td>-0.162527</td>\n",
       "      <td>0.0</td>\n",
       "    </tr>\n",
       "    <tr>\n",
       "      <th>2</th>\n",
       "      <td>1.245598</td>\n",
       "      <td>2.016662</td>\n",
       "      <td>-0.739464</td>\n",
       "      <td>-0.450216</td>\n",
       "      <td>-0.707637</td>\n",
       "      <td>-1.382155</td>\n",
       "      <td>0.970554</td>\n",
       "      <td>-0.072485</td>\n",
       "      <td>1.0</td>\n",
       "    </tr>\n",
       "    <tr>\n",
       "      <th>3</th>\n",
       "      <td>-0.848970</td>\n",
       "      <td>-1.073567</td>\n",
       "      <td>-0.557107</td>\n",
       "      <td>-0.450216</td>\n",
       "      <td>0.338631</td>\n",
       "      <td>-0.636811</td>\n",
       "      <td>-1.053372</td>\n",
       "      <td>-1.062953</td>\n",
       "      <td>0.0</td>\n",
       "    </tr>\n",
       "    <tr>\n",
       "      <th>4</th>\n",
       "      <td>-1.148194</td>\n",
       "      <td>0.504422</td>\n",
       "      <td>-2.927745</td>\n",
       "      <td>1.122501</td>\n",
       "      <td>1.557903</td>\n",
       "      <td>1.692388</td>\n",
       "      <td>0.401450</td>\n",
       "      <td>0.017558</td>\n",
       "      <td>1.0</td>\n",
       "    </tr>\n",
       "  </tbody>\n",
       "</table>\n",
       "</div>"
      ],
      "text/plain": [
       "   Pregnancies   Glucose  BloodPressure  SkinThickness   Insulin       BMI  \\\n",
       "0     0.647150  0.866045      -0.010037       1.122501 -0.707637  0.217229   \n",
       "1    -0.848970 -1.205066      -0.557107       0.336142 -0.707637 -0.869731   \n",
       "2     1.245598  2.016662      -0.739464      -0.450216 -0.707637 -1.382155   \n",
       "3    -0.848970 -1.073567      -0.557107      -0.450216  0.338631 -0.636811   \n",
       "4    -1.148194  0.504422      -2.927745       1.122501  1.557903  1.692388   \n",
       "\n",
       "   DiabetesPedigreeFunction       Age  Outcome  \n",
       "0                  0.790204  1.548281      1.0  \n",
       "1                 -0.315942 -0.162527      0.0  \n",
       "2                  0.970554 -0.072485      1.0  \n",
       "3                 -1.053372 -1.062953      0.0  \n",
       "4                  0.401450  0.017558      1.0  "
      ]
     },
     "execution_count": 32,
     "metadata": {},
     "output_type": "execute_result"
    }
   ],
   "source": [
    "imputed_data.head()"
   ]
  },
  {
   "cell_type": "code",
   "execution_count": 33,
   "id": "c808876a-11ec-4653-95e0-ee9b406067aa",
   "metadata": {},
   "outputs": [
    {
     "data": {
      "text/plain": [
       "<Axes: >"
      ]
     },
     "execution_count": 33,
     "metadata": {},
     "output_type": "execute_result"
    },
    {
     "data": {
      "image/png": "[encoded data removed]",
      "text/plain": [
       "<Figure size 640x480 with 2 Axes>"
      ]
     },
     "metadata": {},
     "output_type": "display_data"
    }
   ],
   "source": [
    "sns.heatmap(imputed_data.corr(), annot=True, cmap=\"coolwarm\")\n"
   ]
  },
  {
   "cell_type": "markdown",
   "id": "89dad660-1b50-4421-84d2-5e707d0cfbd1",
   "metadata": {},
   "source": [
    "# Recursive feature elemination (feature selection approach 2)"
   ]
  },
  {
   "cell_type": "code",
   "execution_count": 34,
   "id": "07b03934-5d5b-42d5-afd9-457d290031eb",
   "metadata": {},
   "outputs": [],
   "source": [
    "from sklearn.linear_model import LogisticRegression"
   ]
  },
  {
   "cell_type": "code",
   "execution_count": 35,
   "id": "107792a3-b127-45ab-b8f4-3639417119e4",
   "metadata": {},
   "outputs": [],
   "source": [
    "X=imputed_data.drop(columns=[\"Outcome\"])"
   ]
  },
  {
   "cell_type": "code",
   "execution_count": 36,
   "id": "f96872d2-ad00-4ad9-a28c-dcfda52a6ba8",
   "metadata": {},
   "outputs": [],
   "source": [
    "y=imputed_data[\"Outcome\"]"
   ]
  },
  {
   "cell_type": "code",
   "execution_count": 37,
   "id": "73f289e5-0000-4d02-8cad-6e289a0d5f41",
   "metadata": {},
   "outputs": [],
   "source": [
    "#imbalanced data treatment"
   ]
  },
  {
   "cell_type": "code",
   "execution_count": 38,
   "id": "db7ef013-59e5-4fae-b0a9-8dc66a6683d1",
   "metadata": {},
   "outputs": [],
   "source": [
    "from imblearn.over_sampling import SMOTE\n",
    "sampling =SMOTE()\n",
    "X_re ,y_re = sampling.fit_resample(X,y)"
   ]
  },
  {
   "cell_type": "code",
   "execution_count": 39,
   "id": "ec3ab2da-9fd4-4f00-bb1d-317660b5a9a4",
   "metadata": {},
   "outputs": [],
   "source": [
    "X_train,X_test,y_train,y_test=train_test_split(X_re,y_re,test_size=0.25,random_state=42,stratify=y_re)\n"
   ]
  },
  {
   "cell_type": "code",
   "execution_count": 40,
   "id": "2ffcd10b-f8b1-4ee3-a2aa-abd2ce674af0",
   "metadata": {},
   "outputs": [],
   "source": [
    "lr_classfication=SVC(kernel=\"linear\")\n",
    "selector=RFE(estimator=lr_classfication,n_features_to_select=4,step=1)"
   ]
  },
  {
   "cell_type": "code",
   "execution_count": 41,
   "id": "f026006d-1eea-418b-8227-bd519775894e",
   "metadata": {},
   "outputs": [
    {
     "data": {
      "text/html": [
       "<style>#sk-container-id-1 {color: black;background-color: white;}#sk-container-id-1 pre{padding: 0;}#sk-container-id-1 div.sk-toggleable {background-color: white;}#sk-container-id-1 label.sk-toggleable__label {cursor: pointer;display: block;width: 100%;margin-bottom: 0;padding: 0.3em;box-sizing: border-box;text-align: center;}#sk-container-id-1 label.sk-toggleable__label-arrow:before {content: \"▸\";float: left;margin-right: 0.25em;color: #696969;}#sk-container-id-1 label.sk-toggleable__label-arrow:hover:before {color: black;}#sk-container-id-1 div.sk-estimator:hover label.sk-toggleable__label-arrow:before {color: black;}#sk-container-id-1 div.sk-toggleable__content {max-height: 0;max-width: 0;overflow: hidden;text-align: left;background-color: #f0f8ff;}#sk-container-id-1 div.sk-toggleable__content pre {margin: 0.2em;color: black;border-radius: 0.25em;background-color: #f0f8ff;}#sk-container-id-1 input.sk-toggleable__control:checked~div.sk-toggleable__content {max-height: 200px;max-width: 100%;overflow: auto;}#sk-container-id-1 input.sk-toggleable__control:checked~label.sk-toggleable__label-arrow:before {content: \"▾\";}#sk-container-id-1 div.sk-estimator input.sk-toggleable__control:checked~label.sk-toggleable__label {background-color: #d4ebff;}#sk-container-id-1 div.sk-label input.sk-toggleable__control:checked~label.sk-toggleable__label {background-color: #d4ebff;}#sk-container-id-1 input.sk-hidden--visually {border: 0;clip: rect(1px 1px 1px 1px);clip: rect(1px, 1px, 1px, 1px);height: 1px;margin: -1px;overflow: hidden;padding: 0;position: absolute;width: 1px;}#sk-container-id-1 div.sk-estimator {font-family: monospace;background-color: #f0f8ff;border: 1px dotted black;border-radius: 0.25em;box-sizing: border-box;margin-bottom: 0.5em;}#sk-container-id-1 div.sk-estimator:hover {background-color: #d4ebff;}#sk-container-id-1 div.sk-parallel-item::after {content: \"\";width: 100%;border-bottom: 1px solid gray;flex-grow: 1;}#sk-container-id-1 div.sk-label:hover label.sk-toggleable__label {background-color: #d4ebff;}#sk-container-id-1 div.sk-serial::before {content: \"\";position: absolute;border-left: 1px solid gray;box-sizing: border-box;top: 0;bottom: 0;left: 50%;z-index: 0;}#sk-container-id-1 div.sk-serial {display: flex;flex-direction: column;align-items: center;background-color: white;padding-right: 0.2em;padding-left: 0.2em;position: relative;}#sk-container-id-1 div.sk-item {position: relative;z-index: 1;}#sk-container-id-1 div.sk-parallel {display: flex;align-items: stretch;justify-content: center;background-color: white;position: relative;}#sk-container-id-1 div.sk-item::before, #sk-container-id-1 div.sk-parallel-item::before {content: \"\";position: absolute;border-left: 1px solid gray;box-sizing: border-box;top: 0;bottom: 0;left: 50%;z-index: -1;}#sk-container-id-1 div.sk-parallel-item {display: flex;flex-direction: column;z-index: 1;position: relative;background-color: white;}#sk-container-id-1 div.sk-parallel-item:first-child::after {align-self: flex-end;width: 50%;}#sk-container-id-1 div.sk-parallel-item:last-child::after {align-self: flex-start;width: 50%;}#sk-container-id-1 div.sk-parallel-item:only-child::after {width: 0;}#sk-container-id-1 div.sk-dashed-wrapped {border: 1px dashed gray;margin: 0 0.4em 0.5em 0.4em;box-sizing: border-box;padding-bottom: 0.4em;background-color: white;}#sk-container-id-1 div.sk-label label {font-family: monospace;font-weight: bold;display: inline-block;line-height: 1.2em;}#sk-container-id-1 div.sk-label-container {text-align: center;}#sk-container-id-1 div.sk-container {/* jupyter's `normalize.less` sets `[hidden] { display: none; }` but bootstrap.min.css set `[hidden] { display: none !important; }` so we also need the `!important` here to be able to override the default hidden behavior on the sphinx rendered scikit-learn.org. See: https://github.com/scikit-learn/scikit-learn/issues/21755 */display: inline-block !important;position: relative;}#sk-container-id-1 div.sk-text-repr-fallback {display: none;}</style><div id=\"sk-container-id-1\" class=\"sk-top-container\"><div class=\"sk-text-repr-fallback\"><pre>RFE(estimator=SVC(kernel=&#x27;linear&#x27;), n_features_to_select=4)</pre><b>In a Jupyter environment, please rerun this cell to show the HTML representation or trust the notebook. <br />On GitHub, the HTML representation is unable to render, please try loading this page with nbviewer.org.</b></div><div class=\"sk-container\" hidden><div class=\"sk-item sk-dashed-wrapped\"><div class=\"sk-label-container\"><div class=\"sk-label sk-toggleable\"><input class=\"sk-toggleable__control sk-hidden--visually\" id=\"sk-estimator-id-1\" type=\"checkbox\" ><label for=\"sk-estimator-id-1\" class=\"sk-toggleable__label sk-toggleable__label-arrow\">RFE</label><div class=\"sk-toggleable__content\"><pre>RFE(estimator=SVC(kernel=&#x27;linear&#x27;), n_features_to_select=4)</pre></div></div></div><div class=\"sk-parallel\"><div class=\"sk-parallel-item\"><div class=\"sk-item\"><div class=\"sk-label-container\"><div class=\"sk-label sk-toggleable\"><input class=\"sk-toggleable__control sk-hidden--visually\" id=\"sk-estimator-id-2\" type=\"checkbox\" ><label for=\"sk-estimator-id-2\" class=\"sk-toggleable__label sk-toggleable__label-arrow\">estimator: SVC</label><div class=\"sk-toggleable__content\"><pre>SVC(kernel=&#x27;linear&#x27;)</pre></div></div></div><div class=\"sk-serial\"><div class=\"sk-item\"><div class=\"sk-estimator sk-toggleable\"><input class=\"sk-toggleable__control sk-hidden--visually\" id=\"sk-estimator-id-3\" type=\"checkbox\" ><label for=\"sk-estimator-id-3\" class=\"sk-toggleable__label sk-toggleable__label-arrow\">SVC</label><div class=\"sk-toggleable__content\"><pre>SVC(kernel=&#x27;linear&#x27;)</pre></div></div></div></div></div></div></div></div></div></div>"
      ],
      "text/plain": [
       "RFE(estimator=SVC(kernel='linear'), n_features_to_select=4)"
      ]
     },
     "execution_count": 41,
     "metadata": {},
     "output_type": "execute_result"
    }
   ],
   "source": [
    "selector.fit(X_train,y_train)"
   ]
  },
  {
   "cell_type": "code",
   "execution_count": 42,
   "id": "4a554c0b-3207-4248-9524-b8406bbd5429",
   "metadata": {},
   "outputs": [
    {
     "data": {
      "text/plain": [
       "array([1, 1, 4, 5, 2, 1, 1, 3])"
      ]
     },
     "execution_count": 42,
     "metadata": {},
     "output_type": "execute_result"
    }
   ],
   "source": [
    "selector.ranking_"
   ]
  },
  {
   "cell_type": "code",
   "execution_count": 43,
   "id": "44453799-2b5c-49c8-a83b-6f4ada5ea313",
   "metadata": {},
   "outputs": [],
   "source": [
    "y_train_pred=selector.predict(X_train)"
   ]
  },
  {
   "cell_type": "code",
   "execution_count": 44,
   "id": "b718bf35-70e0-4f44-a767-fa0c65738399",
   "metadata": {},
   "outputs": [],
   "source": [
    "y_test_pred=selector.predict(X_test)\n"
   ]
  },
  {
   "cell_type": "code",
   "execution_count": 45,
   "id": "22a76f2f-6f11-4e6d-aa14-65836b7a5166",
   "metadata": {},
   "outputs": [],
   "source": [
    "from sklearn import metrics"
   ]
  },
  {
   "cell_type": "code",
   "execution_count": 46,
   "id": "56c61265-8bdf-4389-b0f9-0132042120d1",
   "metadata": {},
   "outputs": [
    {
     "name": "stdout",
     "output_type": "stream",
     "text": [
      "[[96 29]\n",
      " [34 91]]\n"
     ]
    },
    {
     "data": {
      "text/plain": [
       "array([[303,  72],\n",
       "       [115, 260]], dtype=int64)"
      ]
     },
     "execution_count": 46,
     "metadata": {},
     "output_type": "execute_result"
    }
   ],
   "source": [
    "print(metrics.confusion_matrix(y_test,y_test_pred))\n",
    "metrics.confusion_matrix(y_train,y_train_pred)\n"
   ]
  },
  {
   "cell_type": "code",
   "execution_count": 47,
   "id": "12929e1a-f036-4959-a865-9f876e28c2c7",
   "metadata": {},
   "outputs": [
    {
     "name": "stdout",
     "output_type": "stream",
     "text": [
      "              precision    recall  f1-score   support\n",
      "\n",
      "         0.0       0.74      0.77      0.75       125\n",
      "         1.0       0.76      0.73      0.74       125\n",
      "\n",
      "    accuracy                           0.75       250\n",
      "   macro avg       0.75      0.75      0.75       250\n",
      "weighted avg       0.75      0.75      0.75       250\n",
      "\n",
      "              precision    recall  f1-score   support\n",
      "\n",
      "         0.0       0.72      0.81      0.76       375\n",
      "         1.0       0.78      0.69      0.74       375\n",
      "\n",
      "    accuracy                           0.75       750\n",
      "   macro avg       0.75      0.75      0.75       750\n",
      "weighted avg       0.75      0.75      0.75       750\n",
      "\n"
     ]
    }
   ],
   "source": [
    "print(metrics.classification_report(y_test,y_test_pred))\n",
    "print(metrics.classification_report(y_train,y_train_pred))"
   ]
  },
  {
   "cell_type": "markdown",
   "id": "c91d8249-a9bc-4901-8982-9b85576c34e8",
   "metadata": {},
   "source": [
    "# Gradientboosting"
   ]
  },
  {
   "cell_type": "code",
   "execution_count": 48,
   "id": "3258fa19-8f37-40d7-87ea-b610161fe3f5",
   "metadata": {},
   "outputs": [
    {
     "data": {
      "text/html": [
       "<style>#sk-container-id-2 {color: black;background-color: white;}#sk-container-id-2 pre{padding: 0;}#sk-container-id-2 div.sk-toggleable {background-color: white;}#sk-container-id-2 label.sk-toggleable__label {cursor: pointer;display: block;width: 100%;margin-bottom: 0;padding: 0.3em;box-sizing: border-box;text-align: center;}#sk-container-id-2 label.sk-toggleable__label-arrow:before {content: \"▸\";float: left;margin-right: 0.25em;color: #696969;}#sk-container-id-2 label.sk-toggleable__label-arrow:hover:before {color: black;}#sk-container-id-2 div.sk-estimator:hover label.sk-toggleable__label-arrow:before {color: black;}#sk-container-id-2 div.sk-toggleable__content {max-height: 0;max-width: 0;overflow: hidden;text-align: left;background-color: #f0f8ff;}#sk-container-id-2 div.sk-toggleable__content pre {margin: 0.2em;color: black;border-radius: 0.25em;background-color: #f0f8ff;}#sk-container-id-2 input.sk-toggleable__control:checked~div.sk-toggleable__content {max-height: 200px;max-width: 100%;overflow: auto;}#sk-container-id-2 input.sk-toggleable__control:checked~label.sk-toggleable__label-arrow:before {content: \"▾\";}#sk-container-id-2 div.sk-estimator input.sk-toggleable__control:checked~label.sk-toggleable__label {background-color: #d4ebff;}#sk-container-id-2 div.sk-label input.sk-toggleable__control:checked~label.sk-toggleable__label {background-color: #d4ebff;}#sk-container-id-2 input.sk-hidden--visually {border: 0;clip: rect(1px 1px 1px 1px);clip: rect(1px, 1px, 1px, 1px);height: 1px;margin: -1px;overflow: hidden;padding: 0;position: absolute;width: 1px;}#sk-container-id-2 div.sk-estimator {font-family: monospace;background-color: #f0f8ff;border: 1px dotted black;border-radius: 0.25em;box-sizing: border-box;margin-bottom: 0.5em;}#sk-container-id-2 div.sk-estimator:hover {background-color: #d4ebff;}#sk-container-id-2 div.sk-parallel-item::after {content: \"\";width: 100%;border-bottom: 1px solid gray;flex-grow: 1;}#sk-container-id-2 div.sk-label:hover label.sk-toggleable__label {background-color: #d4ebff;}#sk-container-id-2 div.sk-serial::before {content: \"\";position: absolute;border-left: 1px solid gray;box-sizing: border-box;top: 0;bottom: 0;left: 50%;z-index: 0;}#sk-container-id-2 div.sk-serial {display: flex;flex-direction: column;align-items: center;background-color: white;padding-right: 0.2em;padding-left: 0.2em;position: relative;}#sk-container-id-2 div.sk-item {position: relative;z-index: 1;}#sk-container-id-2 div.sk-parallel {display: flex;align-items: stretch;justify-content: center;background-color: white;position: relative;}#sk-container-id-2 div.sk-item::before, #sk-container-id-2 div.sk-parallel-item::before {content: \"\";position: absolute;border-left: 1px solid gray;box-sizing: border-box;top: 0;bottom: 0;left: 50%;z-index: -1;}#sk-container-id-2 div.sk-parallel-item {display: flex;flex-direction: column;z-index: 1;position: relative;background-color: white;}#sk-container-id-2 div.sk-parallel-item:first-child::after {align-self: flex-end;width: 50%;}#sk-container-id-2 div.sk-parallel-item:last-child::after {align-self: flex-start;width: 50%;}#sk-container-id-2 div.sk-parallel-item:only-child::after {width: 0;}#sk-container-id-2 div.sk-dashed-wrapped {border: 1px dashed gray;margin: 0 0.4em 0.5em 0.4em;box-sizing: border-box;padding-bottom: 0.4em;background-color: white;}#sk-container-id-2 div.sk-label label {font-family: monospace;font-weight: bold;display: inline-block;line-height: 1.2em;}#sk-container-id-2 div.sk-label-container {text-align: center;}#sk-container-id-2 div.sk-container {/* jupyter's `normalize.less` sets `[hidden] { display: none; }` but bootstrap.min.css set `[hidden] { display: none !important; }` so we also need the `!important` here to be able to override the default hidden behavior on the sphinx rendered scikit-learn.org. See: https://github.com/scikit-learn/scikit-learn/issues/21755 */display: inline-block !important;position: relative;}#sk-container-id-2 div.sk-text-repr-fallback {display: none;}</style><div id=\"sk-container-id-2\" class=\"sk-top-container\"><div class=\"sk-text-repr-fallback\"><pre>GradientBoostingClassifier(n_estimators=75)</pre><b>In a Jupyter environment, please rerun this cell to show the HTML representation or trust the notebook. <br />On GitHub, the HTML representation is unable to render, please try loading this page with nbviewer.org.</b></div><div class=\"sk-container\" hidden><div class=\"sk-item\"><div class=\"sk-estimator sk-toggleable\"><input class=\"sk-toggleable__control sk-hidden--visually\" id=\"sk-estimator-id-4\" type=\"checkbox\" checked><label for=\"sk-estimator-id-4\" class=\"sk-toggleable__label sk-toggleable__label-arrow\">GradientBoostingClassifier</label><div class=\"sk-toggleable__content\"><pre>GradientBoostingClassifier(n_estimators=75)</pre></div></div></div></div></div>"
      ],
      "text/plain": [
       "GradientBoostingClassifier(n_estimators=75)"
      ]
     },
     "execution_count": 48,
     "metadata": {},
     "output_type": "execute_result"
    }
   ],
   "source": [
    "selector=GradientBoostingClassifier(n_estimators=75)\n",
    "selector.fit(X_train,y_train)"
   ]
  },
  {
   "cell_type": "code",
   "execution_count": 49,
   "id": "793eaa9b-306a-4b7d-bd3a-6e64ff3d1f69",
   "metadata": {},
   "outputs": [
    {
     "name": "stdout",
     "output_type": "stream",
     "text": [
      "[[ 96  29]\n",
      " [ 10 115]]\n",
      "              precision    recall  f1-score   support\n",
      "\n",
      "         0.0       0.91      0.77      0.83       125\n",
      "         1.0       0.80      0.92      0.86       125\n",
      "\n",
      "    accuracy                           0.84       250\n",
      "   macro avg       0.85      0.84      0.84       250\n",
      "weighted avg       0.85      0.84      0.84       250\n",
      "\n",
      "              precision    recall  f1-score   support\n",
      "\n",
      "         0.0       0.92      0.89      0.90       375\n",
      "         1.0       0.89      0.93      0.91       375\n",
      "\n",
      "    accuracy                           0.91       750\n",
      "   macro avg       0.91      0.91      0.91       750\n",
      "weighted avg       0.91      0.91      0.91       750\n",
      "\n"
     ]
    }
   ],
   "source": [
    "y_train_pred=selector.predict(X_train)\n",
    "y_test_pred=selector.predict(X_test)\n",
    "print(metrics.confusion_matrix(y_test,y_test_pred))\n",
    "metrics.confusion_matrix(y_train,y_train_pred)\n",
    "print(metrics.classification_report(y_test,y_test_pred))\n",
    "print(metrics.classification_report(y_train,y_train_pred))"
   ]
  }
 ],
 "metadata": {
  "kernelspec": {
   "display_name": "Python 3 (ipykernel)",
   "language": "python",
   "name": "python3"
  },
  "language_info": {
   "codemirror_mode": {
    "name": "ipython",
    "version": 3
   },
   "file_extension": ".py",
   "mimetype": "text/x-python",
   "name": "python",
   "nbconvert_exporter": "python",
   "pygments_lexer": "ipython3",
   "version": "3.11.7"
  }
 },
 "nbformat": 4,
 "nbformat_minor": 5
}
