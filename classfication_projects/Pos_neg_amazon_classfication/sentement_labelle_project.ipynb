{
 "cells": [
  {
   "cell_type": "markdown",
   "id": "e4369270-06ea-4a41-b287-4aa35a7b78c5",
   "metadata": {},
   "source": [
    "# Sentement labelled sentences"
   ]
  },
  {
   "cell_type": "code",
   "execution_count": 1,
   "id": "b094c8fc-f0d8-4bf1-88ef-6b68633a0f07",
   "metadata": {},
   "outputs": [],
   "source": [
    "import pandas as pd\n",
    "import warnings as wr\n",
    "wr.filterwarnings(\"ignore\")\n",
    "import os\n",
    "import seaborn as sns\n",
    "sns.set()\n",
    "os.getcwd()\n",
    "import numpy as np\n",
    "import matplotlib.pyplot as plt"
   ]
  },
  {
   "cell_type": "markdown",
   "id": "d4c4dc99-a8a4-4e68-a466-ccc3eac91bb4",
   "metadata": {},
   "source": [
    "# Loading data"
   ]
  },
  {
   "cell_type": "code",
   "execution_count": 2,
   "id": "a9605191-43df-4407-bea2-d46d26c58a36",
   "metadata": {},
   "outputs": [],
   "source": [
    "text=pd.read_table(\"C:/Users/HP/Documents/datascience/project/texr/amazon_cells_labelled.txt\")"
   ]
  },
  {
   "cell_type": "code",
   "execution_count": 3,
   "id": "71dc7036-b5ff-4801-8deb-11a9cac7e2f1",
   "metadata": {},
   "outputs": [
    {
     "data": {
      "text/plain": [
       "['Good case, Excellent value.', 1]"
      ]
     },
     "execution_count": 3,
     "metadata": {},
     "output_type": "execute_result"
    }
   ],
   "source": [
    "text.iloc[0].tolist()"
   ]
  },
  {
   "cell_type": "code",
   "execution_count": 4,
   "id": "89523858-3a8a-4060-8a5b-80f8b8394b53",
   "metadata": {},
   "outputs": [
    {
     "data": {
      "text/html": [
       "<div>\n",
       "<style scoped>\n",
       "    .dataframe tbody tr th:only-of-type {\n",
       "        vertical-align: middle;\n",
       "    }\n",
       "\n",
       "    .dataframe tbody tr th {\n",
       "        vertical-align: top;\n",
       "    }\n",
       "\n",
       "    .dataframe thead th {\n",
       "        text-align: right;\n",
       "    }\n",
       "</style>\n",
       "<table border=\"1\" class=\"dataframe\">\n",
       "  <thead>\n",
       "    <tr style=\"text-align: right;\">\n",
       "      <th></th>\n",
       "      <th>So there is no way for me to plug it in here in the US unless I go by a converter.</th>\n",
       "      <th>0</th>\n",
       "    </tr>\n",
       "  </thead>\n",
       "  <tbody>\n",
       "    <tr>\n",
       "      <th>0</th>\n",
       "      <td>Good case, Excellent value.</td>\n",
       "      <td>1</td>\n",
       "    </tr>\n",
       "    <tr>\n",
       "      <th>1</th>\n",
       "      <td>Great for the jawbone.</td>\n",
       "      <td>1</td>\n",
       "    </tr>\n",
       "    <tr>\n",
       "      <th>2</th>\n",
       "      <td>Tied to charger for conversations lasting more...</td>\n",
       "      <td>0</td>\n",
       "    </tr>\n",
       "    <tr>\n",
       "      <th>3</th>\n",
       "      <td>The mic is great.</td>\n",
       "      <td>1</td>\n",
       "    </tr>\n",
       "    <tr>\n",
       "      <th>4</th>\n",
       "      <td>I have to jiggle the plug to get it to line up...</td>\n",
       "      <td>0</td>\n",
       "    </tr>\n",
       "  </tbody>\n",
       "</table>\n",
       "</div>"
      ],
      "text/plain": [
       "  So there is no way for me to plug it in here in the US unless I go by a converter.  \\\n",
       "0                        Good case, Excellent value.                                   \n",
       "1                             Great for the jawbone.                                   \n",
       "2  Tied to charger for conversations lasting more...                                   \n",
       "3                                  The mic is great.                                   \n",
       "4  I have to jiggle the plug to get it to line up...                                   \n",
       "\n",
       "   0  \n",
       "0  1  \n",
       "1  1  \n",
       "2  0  \n",
       "3  1  \n",
       "4  0  "
      ]
     },
     "execution_count": 4,
     "metadata": {},
     "output_type": "execute_result"
    }
   ],
   "source": [
    "text.head()"
   ]
  },
  {
   "cell_type": "code",
   "execution_count": 5,
   "id": "c0ef9ce3-9d99-44fe-9126-1147736a98c1",
   "metadata": {},
   "outputs": [],
   "source": [
    "text.rename(columns={\"So there is no way for me to plug it in here in the US unless I go by a converter.\":\"text\",\"0\":\"pos/neg\"},inplace=True)"
   ]
  },
  {
   "cell_type": "markdown",
   "id": "24c4f4f8-b201-4a9a-8c95-9faa428c97ed",
   "metadata": {},
   "source": [
    "# Info"
   ]
  },
  {
   "cell_type": "code",
   "execution_count": 6,
   "id": "ae3fb758-312a-46c6-bcf3-7bfdf09f4ff8",
   "metadata": {},
   "outputs": [
    {
     "name": "stdout",
     "output_type": "stream",
     "text": [
      "<class 'pandas.core.frame.DataFrame'>\n",
      "RangeIndex: 999 entries, 0 to 998\n",
      "Data columns (total 2 columns):\n",
      " #   Column   Non-Null Count  Dtype \n",
      "---  ------   --------------  ----- \n",
      " 0   text     999 non-null    object\n",
      " 1   pos/neg  999 non-null    int64 \n",
      "dtypes: int64(1), object(1)\n",
      "memory usage: 15.7+ KB\n"
     ]
    }
   ],
   "source": [
    "text.info()"
   ]
  },
  {
   "cell_type": "code",
   "execution_count": 7,
   "id": "a030f4aa-5f86-4c4f-a184-540cb1aa528b",
   "metadata": {},
   "outputs": [
    {
     "data": {
      "text/plain": [
       "array([1, 0], dtype=int64)"
      ]
     },
     "execution_count": 7,
     "metadata": {},
     "output_type": "execute_result"
    }
   ],
   "source": [
    "text[\"pos/neg\"].unique()"
   ]
  },
  {
   "cell_type": "code",
   "execution_count": 8,
   "id": "c36782fd-0d7c-423b-bdaf-b466fa18cdba",
   "metadata": {},
   "outputs": [
    {
     "data": {
      "text/plain": [
       "pos/neg\n",
       "1    0.500501\n",
       "0    0.499499\n",
       "Name: proportion, dtype: float64"
      ]
     },
     "execution_count": 8,
     "metadata": {},
     "output_type": "execute_result"
    }
   ],
   "source": [
    "text[\"pos/neg\"].value_counts(normalize=True)"
   ]
  },
  {
   "cell_type": "markdown",
   "id": "b14dd922-d36f-44f5-9aea-04c28a4886e1",
   "metadata": {},
   "source": [
    "# separating independent and response variable"
   ]
  },
  {
   "cell_type": "code",
   "execution_count": 9,
   "id": "a965352a-1522-4095-990b-88c3f51f44f9",
   "metadata": {},
   "outputs": [],
   "source": [
    "X=text[\"text\"]"
   ]
  },
  {
   "cell_type": "code",
   "execution_count": 10,
   "id": "45a4f06f-d00f-41c1-bb79-7389a32beed1",
   "metadata": {},
   "outputs": [],
   "source": [
    "y=text[\"pos/neg\"]"
   ]
  },
  {
   "cell_type": "markdown",
   "id": "92efd3e9-2284-4a61-b078-e25901358913",
   "metadata": {},
   "source": [
    "# converting text to vector form"
   ]
  },
  {
   "cell_type": "code",
   "execution_count": 11,
   "id": "8e5b879a-ccdc-4696-a88b-1f4e63329b86",
   "metadata": {},
   "outputs": [],
   "source": [
    "from sklearn.feature_extraction.text import CountVectorizer"
   ]
  },
  {
   "cell_type": "code",
   "execution_count": 12,
   "id": "03ffa0cc-6170-4bea-863b-692d28f86cd3",
   "metadata": {},
   "outputs": [],
   "source": [
    "v=CountVectorizer(stop_words=\"english\")\n",
    "X=v.fit_transform(X)"
   ]
  },
  {
   "cell_type": "markdown",
   "id": "55f1c89d-fc4b-41ab-a90a-be32b026cb2d",
   "metadata": {},
   "source": [
    "# Train_test_split"
   ]
  },
  {
   "cell_type": "code",
   "execution_count": 13,
   "id": "d736f39e-66aa-4984-badd-bad6ef1259e5",
   "metadata": {},
   "outputs": [],
   "source": [
    "from sklearn.model_selection import train_test_split"
   ]
  },
  {
   "cell_type": "code",
   "execution_count": 14,
   "id": "e9d2a0d8-7119-47ca-b258-7e028bb938f6",
   "metadata": {},
   "outputs": [
    {
     "data": {
      "text/plain": [
       "array(['10', '100', '11', ..., 'yes', 'z500a', 'zero'], dtype=object)"
      ]
     },
     "execution_count": 14,
     "metadata": {},
     "output_type": "execute_result"
    }
   ],
   "source": [
    "v.get_feature_names_out()"
   ]
  },
  {
   "cell_type": "code",
   "execution_count": 76,
   "id": "42f6ceef-0504-4b1c-86ab-6566d5b53969",
   "metadata": {},
   "outputs": [],
   "source": [
    "X_train,X_test,y_train,y_test=train_test_split(X,y,test_size=0.3,random_state=101)"
   ]
  },
  {
   "cell_type": "markdown",
   "id": "541c0651-a8e1-4b63-bd3b-20b238c87bd7",
   "metadata": {},
   "source": [
    "# training the model"
   ]
  },
  {
   "cell_type": "code",
   "execution_count": 77,
   "id": "5832dcee-de00-456d-ac3d-bec68874b6e2",
   "metadata": {},
   "outputs": [],
   "source": [
    "from sklearn.naive_bayes import BernoulliNB,ComplementNB,MultinomialNB"
   ]
  },
  {
   "cell_type": "code",
   "execution_count": 78,
   "id": "f7a46617-814d-4c72-b298-5d3a788bdbde",
   "metadata": {},
   "outputs": [
    {
     "data": {
      "text/html": [
       "<style>#sk-container-id-13 {color: black;background-color: white;}#sk-container-id-13 pre{padding: 0;}#sk-container-id-13 div.sk-toggleable {background-color: white;}#sk-container-id-13 label.sk-toggleable__label {cursor: pointer;display: block;width: 100%;margin-bottom: 0;padding: 0.3em;box-sizing: border-box;text-align: center;}#sk-container-id-13 label.sk-toggleable__label-arrow:before {content: \"▸\";float: left;margin-right: 0.25em;color: #696969;}#sk-container-id-13 label.sk-toggleable__label-arrow:hover:before {color: black;}#sk-container-id-13 div.sk-estimator:hover label.sk-toggleable__label-arrow:before {color: black;}#sk-container-id-13 div.sk-toggleable__content {max-height: 0;max-width: 0;overflow: hidden;text-align: left;background-color: #f0f8ff;}#sk-container-id-13 div.sk-toggleable__content pre {margin: 0.2em;color: black;border-radius: 0.25em;background-color: #f0f8ff;}#sk-container-id-13 input.sk-toggleable__control:checked~div.sk-toggleable__content {max-height: 200px;max-width: 100%;overflow: auto;}#sk-container-id-13 input.sk-toggleable__control:checked~label.sk-toggleable__label-arrow:before {content: \"▾\";}#sk-container-id-13 div.sk-estimator input.sk-toggleable__control:checked~label.sk-toggleable__label {background-color: #d4ebff;}#sk-container-id-13 div.sk-label input.sk-toggleable__control:checked~label.sk-toggleable__label {background-color: #d4ebff;}#sk-container-id-13 input.sk-hidden--visually {border: 0;clip: rect(1px 1px 1px 1px);clip: rect(1px, 1px, 1px, 1px);height: 1px;margin: -1px;overflow: hidden;padding: 0;position: absolute;width: 1px;}#sk-container-id-13 div.sk-estimator {font-family: monospace;background-color: #f0f8ff;border: 1px dotted black;border-radius: 0.25em;box-sizing: border-box;margin-bottom: 0.5em;}#sk-container-id-13 div.sk-estimator:hover {background-color: #d4ebff;}#sk-container-id-13 div.sk-parallel-item::after {content: \"\";width: 100%;border-bottom: 1px solid gray;flex-grow: 1;}#sk-container-id-13 div.sk-label:hover label.sk-toggleable__label {background-color: #d4ebff;}#sk-container-id-13 div.sk-serial::before {content: \"\";position: absolute;border-left: 1px solid gray;box-sizing: border-box;top: 0;bottom: 0;left: 50%;z-index: 0;}#sk-container-id-13 div.sk-serial {display: flex;flex-direction: column;align-items: center;background-color: white;padding-right: 0.2em;padding-left: 0.2em;position: relative;}#sk-container-id-13 div.sk-item {position: relative;z-index: 1;}#sk-container-id-13 div.sk-parallel {display: flex;align-items: stretch;justify-content: center;background-color: white;position: relative;}#sk-container-id-13 div.sk-item::before, #sk-container-id-13 div.sk-parallel-item::before {content: \"\";position: absolute;border-left: 1px solid gray;box-sizing: border-box;top: 0;bottom: 0;left: 50%;z-index: -1;}#sk-container-id-13 div.sk-parallel-item {display: flex;flex-direction: column;z-index: 1;position: relative;background-color: white;}#sk-container-id-13 div.sk-parallel-item:first-child::after {align-self: flex-end;width: 50%;}#sk-container-id-13 div.sk-parallel-item:last-child::after {align-self: flex-start;width: 50%;}#sk-container-id-13 div.sk-parallel-item:only-child::after {width: 0;}#sk-container-id-13 div.sk-dashed-wrapped {border: 1px dashed gray;margin: 0 0.4em 0.5em 0.4em;box-sizing: border-box;padding-bottom: 0.4em;background-color: white;}#sk-container-id-13 div.sk-label label {font-family: monospace;font-weight: bold;display: inline-block;line-height: 1.2em;}#sk-container-id-13 div.sk-label-container {text-align: center;}#sk-container-id-13 div.sk-container {/* jupyter's `normalize.less` sets `[hidden] { display: none; }` but bootstrap.min.css set `[hidden] { display: none !important; }` so we also need the `!important` here to be able to override the default hidden behavior on the sphinx rendered scikit-learn.org. See: https://github.com/scikit-learn/scikit-learn/issues/21755 */display: inline-block !important;position: relative;}#sk-container-id-13 div.sk-text-repr-fallback {display: none;}</style><div id=\"sk-container-id-13\" class=\"sk-top-container\"><div class=\"sk-text-repr-fallback\"><pre>BernoulliNB(alpha=0.5, force_alpha=True)</pre><b>In a Jupyter environment, please rerun this cell to show the HTML representation or trust the notebook. <br />On GitHub, the HTML representation is unable to render, please try loading this page with nbviewer.org.</b></div><div class=\"sk-container\" hidden><div class=\"sk-item\"><div class=\"sk-estimator sk-toggleable\"><input class=\"sk-toggleable__control sk-hidden--visually\" id=\"sk-estimator-id-19\" type=\"checkbox\" checked><label for=\"sk-estimator-id-19\" class=\"sk-toggleable__label sk-toggleable__label-arrow\">BernoulliNB</label><div class=\"sk-toggleable__content\"><pre>BernoulliNB(alpha=0.5, force_alpha=True)</pre></div></div></div></div></div>"
      ],
      "text/plain": [
       "BernoulliNB(alpha=0.5, force_alpha=True)"
      ]
     },
     "execution_count": 78,
     "metadata": {},
     "output_type": "execute_result"
    }
   ],
   "source": [
    "NB_model=BernoulliNB(alpha=0.5,force_alpha=True)\n",
    "NB_model.fit(X_train,y_train)"
   ]
  },
  {
   "cell_type": "markdown",
   "id": "3a5de8c2-9023-472e-aecf-ae6b1f558e6a",
   "metadata": {},
   "source": [
    "# Testing/predecting values"
   ]
  },
  {
   "cell_type": "code",
   "execution_count": 79,
   "id": "b6177dd1-1110-4018-9bfa-2d5c58fa77d6",
   "metadata": {},
   "outputs": [],
   "source": [
    "y_train_preds=NB_model.predict(X_train)\n",
    "y_test_preds=NB_model.predict(X_test)\n"
   ]
  },
  {
   "cell_type": "markdown",
   "id": "bc5d89ee-92cb-4d77-9b86-734869e348ab",
   "metadata": {},
   "source": [
    "# model evalution"
   ]
  },
  {
   "cell_type": "code",
   "execution_count": 80,
   "id": "6713acca-eb2a-4b7b-98d8-15fc0c88cb0d",
   "metadata": {},
   "outputs": [],
   "source": [
    "from sklearn import metrics"
   ]
  },
  {
   "cell_type": "code",
   "execution_count": 81,
   "id": "e98ecc3e-42fd-47b3-897a-81bafe4015d2",
   "metadata": {},
   "outputs": [
    {
     "name": "stdout",
     "output_type": "stream",
     "text": [
      "              precision    recall  f1-score   support\n",
      "\n",
      "           0       0.98      0.95      0.96       349\n",
      "           1       0.95      0.98      0.96       350\n",
      "\n",
      "    accuracy                           0.96       699\n",
      "   macro avg       0.96      0.96      0.96       699\n",
      "weighted avg       0.96      0.96      0.96       699\n",
      "\n"
     ]
    }
   ],
   "source": [
    "print(metrics.classification_report(y_train,y_train_preds))"
   ]
  },
  {
   "cell_type": "code",
   "execution_count": 82,
   "id": "bf486f29-e57b-4c3f-b46f-b346f1d2b115",
   "metadata": {},
   "outputs": [
    {
     "name": "stdout",
     "output_type": "stream",
     "text": [
      "              precision    recall  f1-score   support\n",
      "\n",
      "           0       0.81      0.73      0.77       150\n",
      "           1       0.76      0.83      0.79       150\n",
      "\n",
      "    accuracy                           0.78       300\n",
      "   macro avg       0.78      0.78      0.78       300\n",
      "weighted avg       0.78      0.78      0.78       300\n",
      "\n"
     ]
    }
   ],
   "source": [
    "print(metrics.classification_report(y_test,y_test_preds))"
   ]
  },
  {
   "cell_type": "code",
   "execution_count": 83,
   "id": "722e8999-558f-4baf-9443-882490c7eb95",
   "metadata": {},
   "outputs": [
    {
     "data": {
      "text/plain": [
       "<Axes: >"
      ]
     },
     "execution_count": 83,
     "metadata": {},
     "output_type": "execute_result"
    },
    {
     "data": {
      "image/png": "[encoded data removed]",
      "text/plain": [
       "<Figure size 640x480 with 2 Axes>"
      ]
     },
     "metadata": {},
     "output_type": "display_data"
    }
   ],
   "source": [
    "sns.heatmap(metrics.confusion_matrix(y_train,y_train_preds),annot=True,fmt=\"0.0f\")"
   ]
  },
  {
   "cell_type": "code",
   "execution_count": 84,
   "id": "21fec37d-c816-4764-aed6-1827fda129d0",
   "metadata": {},
   "outputs": [
    {
     "data": {
      "text/plain": [
       "<Axes: >"
      ]
     },
     "execution_count": 84,
     "metadata": {},
     "output_type": "execute_result"
    },
    {
     "data": {
      "image/png": "[encoded data removed]",
      "text/plain": [
       "<Figure size 640x480 with 2 Axes>"
      ]
     },
     "metadata": {},
     "output_type": "display_data"
    }
   ],
   "source": [
    "sns.heatmap(metrics.confusion_matrix(y_test,y_test_preds),annot=True,fmt=\"0.0f\")"
   ]
  },
  {
   "cell_type": "markdown",
   "id": "5d634b4c-c44e-4d70-98e1-622430fe9afc",
   "metadata": {},
   "source": [
    "# Logistic Regresstion model"
   ]
  },
  {
   "cell_type": "code",
   "execution_count": 90,
   "id": "110214ae-1db6-40a8-a904-2f6553f07cf1",
   "metadata": {},
   "outputs": [],
   "source": [
    "from sklearn.linear_model import LogisticRegression\n",
    "Logit=LogisticRegression(max_iter=500)"
   ]
  },
  {
   "cell_type": "code",
   "execution_count": 91,
   "id": "1ee3ba58-51c6-462c-add9-0728d3b00936",
   "metadata": {},
   "outputs": [
    {
     "data": {
      "text/html": [
       "<style>#sk-container-id-15 {color: black;background-color: white;}#sk-container-id-15 pre{padding: 0;}#sk-container-id-15 div.sk-toggleable {background-color: white;}#sk-container-id-15 label.sk-toggleable__label {cursor: pointer;display: block;width: 100%;margin-bottom: 0;padding: 0.3em;box-sizing: border-box;text-align: center;}#sk-container-id-15 label.sk-toggleable__label-arrow:before {content: \"▸\";float: left;margin-right: 0.25em;color: #696969;}#sk-container-id-15 label.sk-toggleable__label-arrow:hover:before {color: black;}#sk-container-id-15 div.sk-estimator:hover label.sk-toggleable__label-arrow:before {color: black;}#sk-container-id-15 div.sk-toggleable__content {max-height: 0;max-width: 0;overflow: hidden;text-align: left;background-color: #f0f8ff;}#sk-container-id-15 div.sk-toggleable__content pre {margin: 0.2em;color: black;border-radius: 0.25em;background-color: #f0f8ff;}#sk-container-id-15 input.sk-toggleable__control:checked~div.sk-toggleable__content {max-height: 200px;max-width: 100%;overflow: auto;}#sk-container-id-15 input.sk-toggleable__control:checked~label.sk-toggleable__label-arrow:before {content: \"▾\";}#sk-container-id-15 div.sk-estimator input.sk-toggleable__control:checked~label.sk-toggleable__label {background-color: #d4ebff;}#sk-container-id-15 div.sk-label input.sk-toggleable__control:checked~label.sk-toggleable__label {background-color: #d4ebff;}#sk-container-id-15 input.sk-hidden--visually {border: 0;clip: rect(1px 1px 1px 1px);clip: rect(1px, 1px, 1px, 1px);height: 1px;margin: -1px;overflow: hidden;padding: 0;position: absolute;width: 1px;}#sk-container-id-15 div.sk-estimator {font-family: monospace;background-color: #f0f8ff;border: 1px dotted black;border-radius: 0.25em;box-sizing: border-box;margin-bottom: 0.5em;}#sk-container-id-15 div.sk-estimator:hover {background-color: #d4ebff;}#sk-container-id-15 div.sk-parallel-item::after {content: \"\";width: 100%;border-bottom: 1px solid gray;flex-grow: 1;}#sk-container-id-15 div.sk-label:hover label.sk-toggleable__label {background-color: #d4ebff;}#sk-container-id-15 div.sk-serial::before {content: \"\";position: absolute;border-left: 1px solid gray;box-sizing: border-box;top: 0;bottom: 0;left: 50%;z-index: 0;}#sk-container-id-15 div.sk-serial {display: flex;flex-direction: column;align-items: center;background-color: white;padding-right: 0.2em;padding-left: 0.2em;position: relative;}#sk-container-id-15 div.sk-item {position: relative;z-index: 1;}#sk-container-id-15 div.sk-parallel {display: flex;align-items: stretch;justify-content: center;background-color: white;position: relative;}#sk-container-id-15 div.sk-item::before, #sk-container-id-15 div.sk-parallel-item::before {content: \"\";position: absolute;border-left: 1px solid gray;box-sizing: border-box;top: 0;bottom: 0;left: 50%;z-index: -1;}#sk-container-id-15 div.sk-parallel-item {display: flex;flex-direction: column;z-index: 1;position: relative;background-color: white;}#sk-container-id-15 div.sk-parallel-item:first-child::after {align-self: flex-end;width: 50%;}#sk-container-id-15 div.sk-parallel-item:last-child::after {align-self: flex-start;width: 50%;}#sk-container-id-15 div.sk-parallel-item:only-child::after {width: 0;}#sk-container-id-15 div.sk-dashed-wrapped {border: 1px dashed gray;margin: 0 0.4em 0.5em 0.4em;box-sizing: border-box;padding-bottom: 0.4em;background-color: white;}#sk-container-id-15 div.sk-label label {font-family: monospace;font-weight: bold;display: inline-block;line-height: 1.2em;}#sk-container-id-15 div.sk-label-container {text-align: center;}#sk-container-id-15 div.sk-container {/* jupyter's `normalize.less` sets `[hidden] { display: none; }` but bootstrap.min.css set `[hidden] { display: none !important; }` so we also need the `!important` here to be able to override the default hidden behavior on the sphinx rendered scikit-learn.org. See: https://github.com/scikit-learn/scikit-learn/issues/21755 */display: inline-block !important;position: relative;}#sk-container-id-15 div.sk-text-repr-fallback {display: none;}</style><div id=\"sk-container-id-15\" class=\"sk-top-container\"><div class=\"sk-text-repr-fallback\"><pre>LogisticRegression(max_iter=500)</pre><b>In a Jupyter environment, please rerun this cell to show the HTML representation or trust the notebook. <br />On GitHub, the HTML representation is unable to render, please try loading this page with nbviewer.org.</b></div><div class=\"sk-container\" hidden><div class=\"sk-item\"><div class=\"sk-estimator sk-toggleable\"><input class=\"sk-toggleable__control sk-hidden--visually\" id=\"sk-estimator-id-21\" type=\"checkbox\" checked><label for=\"sk-estimator-id-21\" class=\"sk-toggleable__label sk-toggleable__label-arrow\">LogisticRegression</label><div class=\"sk-toggleable__content\"><pre>LogisticRegression(max_iter=500)</pre></div></div></div></div></div>"
      ],
      "text/plain": [
       "LogisticRegression(max_iter=500)"
      ]
     },
     "execution_count": 91,
     "metadata": {},
     "output_type": "execute_result"
    }
   ],
   "source": [
    "Logit.fit(X_train,y_train)"
   ]
  },
  {
   "cell_type": "markdown",
   "id": "eefb0c0e-2f6f-4e61-86d7-63df0f28d730",
   "metadata": {},
   "source": [
    "# predicting / testing the model"
   ]
  },
  {
   "cell_type": "code",
   "execution_count": 92,
   "id": "bb1d0b14-31d0-493a-b808-3b34c8c26093",
   "metadata": {},
   "outputs": [],
   "source": [
    "y_train_preds=Logit.predict(X_train)\n",
    "y_test_preds=Logit.predict(X_test)\n"
   ]
  },
  {
   "cell_type": "code",
   "execution_count": 93,
   "id": "e3c4d5cb-52d8-490e-9093-05b242a3d16d",
   "metadata": {},
   "outputs": [
    {
     "name": "stdout",
     "output_type": "stream",
     "text": [
      "              precision    recall  f1-score   support\n",
      "\n",
      "           0       0.96      0.98      0.97       349\n",
      "           1       0.98      0.96      0.97       350\n",
      "\n",
      "    accuracy                           0.97       699\n",
      "   macro avg       0.97      0.97      0.97       699\n",
      "weighted avg       0.97      0.97      0.97       699\n",
      "\n"
     ]
    }
   ],
   "source": [
    "print(metrics.classification_report(y_train,y_train_preds))"
   ]
  },
  {
   "cell_type": "code",
   "execution_count": 94,
   "id": "24006afb-05ba-4504-a1dd-69dedf896e11",
   "metadata": {},
   "outputs": [
    {
     "name": "stdout",
     "output_type": "stream",
     "text": [
      "              precision    recall  f1-score   support\n",
      "\n",
      "           0       0.77      0.85      0.81       150\n",
      "           1       0.83      0.75      0.79       150\n",
      "\n",
      "    accuracy                           0.80       300\n",
      "   macro avg       0.80      0.80      0.80       300\n",
      "weighted avg       0.80      0.80      0.80       300\n",
      "\n"
     ]
    }
   ],
   "source": [
    "print(metrics.classification_report(y_test,y_test_preds))"
   ]
  },
  {
   "cell_type": "markdown",
   "id": "805a8be5-0d61-4a94-9bb5-6af670aa93cc",
   "metadata": {},
   "source": [
    "# all types of naive bayes"
   ]
  },
  {
   "cell_type": "code",
   "execution_count": 95,
   "id": "fa3240f8-f9c6-4e6d-993d-75192ee84ee7",
   "metadata": {},
   "outputs": [
    {
     "data": {
      "text/html": [
       "<style>#sk-container-id-16 {color: black;background-color: white;}#sk-container-id-16 pre{padding: 0;}#sk-container-id-16 div.sk-toggleable {background-color: white;}#sk-container-id-16 label.sk-toggleable__label {cursor: pointer;display: block;width: 100%;margin-bottom: 0;padding: 0.3em;box-sizing: border-box;text-align: center;}#sk-container-id-16 label.sk-toggleable__label-arrow:before {content: \"▸\";float: left;margin-right: 0.25em;color: #696969;}#sk-container-id-16 label.sk-toggleable__label-arrow:hover:before {color: black;}#sk-container-id-16 div.sk-estimator:hover label.sk-toggleable__label-arrow:before {color: black;}#sk-container-id-16 div.sk-toggleable__content {max-height: 0;max-width: 0;overflow: hidden;text-align: left;background-color: #f0f8ff;}#sk-container-id-16 div.sk-toggleable__content pre {margin: 0.2em;color: black;border-radius: 0.25em;background-color: #f0f8ff;}#sk-container-id-16 input.sk-toggleable__control:checked~div.sk-toggleable__content {max-height: 200px;max-width: 100%;overflow: auto;}#sk-container-id-16 input.sk-toggleable__control:checked~label.sk-toggleable__label-arrow:before {content: \"▾\";}#sk-container-id-16 div.sk-estimator input.sk-toggleable__control:checked~label.sk-toggleable__label {background-color: #d4ebff;}#sk-container-id-16 div.sk-label input.sk-toggleable__control:checked~label.sk-toggleable__label {background-color: #d4ebff;}#sk-container-id-16 input.sk-hidden--visually {border: 0;clip: rect(1px 1px 1px 1px);clip: rect(1px, 1px, 1px, 1px);height: 1px;margin: -1px;overflow: hidden;padding: 0;position: absolute;width: 1px;}#sk-container-id-16 div.sk-estimator {font-family: monospace;background-color: #f0f8ff;border: 1px dotted black;border-radius: 0.25em;box-sizing: border-box;margin-bottom: 0.5em;}#sk-container-id-16 div.sk-estimator:hover {background-color: #d4ebff;}#sk-container-id-16 div.sk-parallel-item::after {content: \"\";width: 100%;border-bottom: 1px solid gray;flex-grow: 1;}#sk-container-id-16 div.sk-label:hover label.sk-toggleable__label {background-color: #d4ebff;}#sk-container-id-16 div.sk-serial::before {content: \"\";position: absolute;border-left: 1px solid gray;box-sizing: border-box;top: 0;bottom: 0;left: 50%;z-index: 0;}#sk-container-id-16 div.sk-serial {display: flex;flex-direction: column;align-items: center;background-color: white;padding-right: 0.2em;padding-left: 0.2em;position: relative;}#sk-container-id-16 div.sk-item {position: relative;z-index: 1;}#sk-container-id-16 div.sk-parallel {display: flex;align-items: stretch;justify-content: center;background-color: white;position: relative;}#sk-container-id-16 div.sk-item::before, #sk-container-id-16 div.sk-parallel-item::before {content: \"\";position: absolute;border-left: 1px solid gray;box-sizing: border-box;top: 0;bottom: 0;left: 50%;z-index: -1;}#sk-container-id-16 div.sk-parallel-item {display: flex;flex-direction: column;z-index: 1;position: relative;background-color: white;}#sk-container-id-16 div.sk-parallel-item:first-child::after {align-self: flex-end;width: 50%;}#sk-container-id-16 div.sk-parallel-item:last-child::after {align-self: flex-start;width: 50%;}#sk-container-id-16 div.sk-parallel-item:only-child::after {width: 0;}#sk-container-id-16 div.sk-dashed-wrapped {border: 1px dashed gray;margin: 0 0.4em 0.5em 0.4em;box-sizing: border-box;padding-bottom: 0.4em;background-color: white;}#sk-container-id-16 div.sk-label label {font-family: monospace;font-weight: bold;display: inline-block;line-height: 1.2em;}#sk-container-id-16 div.sk-label-container {text-align: center;}#sk-container-id-16 div.sk-container {/* jupyter's `normalize.less` sets `[hidden] { display: none; }` but bootstrap.min.css set `[hidden] { display: none !important; }` so we also need the `!important` here to be able to override the default hidden behavior on the sphinx rendered scikit-learn.org. See: https://github.com/scikit-learn/scikit-learn/issues/21755 */display: inline-block !important;position: relative;}#sk-container-id-16 div.sk-text-repr-fallback {display: none;}</style><div id=\"sk-container-id-16\" class=\"sk-top-container\"><div class=\"sk-text-repr-fallback\"><pre>ComplementNB()</pre><b>In a Jupyter environment, please rerun this cell to show the HTML representation or trust the notebook. <br />On GitHub, the HTML representation is unable to render, please try loading this page with nbviewer.org.</b></div><div class=\"sk-container\" hidden><div class=\"sk-item\"><div class=\"sk-estimator sk-toggleable\"><input class=\"sk-toggleable__control sk-hidden--visually\" id=\"sk-estimator-id-22\" type=\"checkbox\" checked><label for=\"sk-estimator-id-22\" class=\"sk-toggleable__label sk-toggleable__label-arrow\">ComplementNB</label><div class=\"sk-toggleable__content\"><pre>ComplementNB()</pre></div></div></div></div></div>"
      ],
      "text/plain": [
       "ComplementNB()"
      ]
     },
     "execution_count": 95,
     "metadata": {},
     "output_type": "execute_result"
    }
   ],
   "source": [
    "NB_model1=ComplementNB()\n",
    "NB_model1.fit(X_train,y_train)"
   ]
  },
  {
   "cell_type": "code",
   "execution_count": 96,
   "id": "c6e122c2-8c02-4d91-b604-2c768ffe4a95",
   "metadata": {},
   "outputs": [],
   "source": [
    "y_train_preds=NB_model1.predict(X_train)\n",
    "y_test_preds=NB_model1.predict(X_test)\n"
   ]
  },
  {
   "cell_type": "code",
   "execution_count": 97,
   "id": "66c0ae75-bd02-410f-9a68-17664c5c82e3",
   "metadata": {},
   "outputs": [
    {
     "name": "stdout",
     "output_type": "stream",
     "text": [
      "              precision    recall  f1-score   support\n",
      "\n",
      "           0       0.81      0.72      0.76       150\n",
      "           1       0.75      0.83      0.79       150\n",
      "\n",
      "    accuracy                           0.78       300\n",
      "   macro avg       0.78      0.78      0.78       300\n",
      "weighted avg       0.78      0.78      0.78       300\n",
      "\n"
     ]
    }
   ],
   "source": [
    "print(metrics.classification_report(y_test,y_test_preds))"
   ]
  },
  {
   "cell_type": "code",
   "execution_count": 98,
   "id": "7e8c6210-1b02-40d6-b441-3ff11633c203",
   "metadata": {},
   "outputs": [
    {
     "name": "stdout",
     "output_type": "stream",
     "text": [
      "              precision    recall  f1-score   support\n",
      "\n",
      "           0       0.97      0.93      0.95       349\n",
      "           1       0.93      0.97      0.95       350\n",
      "\n",
      "    accuracy                           0.95       699\n",
      "   macro avg       0.95      0.95      0.95       699\n",
      "weighted avg       0.95      0.95      0.95       699\n",
      "\n"
     ]
    }
   ],
   "source": [
    "print(metrics.classification_report(y_train,y_train_preds))"
   ]
  },
  {
   "cell_type": "markdown",
   "id": "5b42a575-bf13-4a02-bc45-80866f1e94a1",
   "metadata": {},
   "source": [
    "# Knn"
   ]
  },
  {
   "cell_type": "code",
   "execution_count": 99,
   "id": "694c2bde-d5ca-47d2-8ddb-7d1b2ef035d2",
   "metadata": {},
   "outputs": [],
   "source": [
    "from sklearn.neighbors import KNeighborsClassifier"
   ]
  },
  {
   "cell_type": "code",
   "execution_count": 106,
   "id": "40a47a90-d34e-42a0-8774-1f75aade8f06",
   "metadata": {},
   "outputs": [
    {
     "data": {
      "text/html": [
       "<style>#sk-container-id-18 {color: black;background-color: white;}#sk-container-id-18 pre{padding: 0;}#sk-container-id-18 div.sk-toggleable {background-color: white;}#sk-container-id-18 label.sk-toggleable__label {cursor: pointer;display: block;width: 100%;margin-bottom: 0;padding: 0.3em;box-sizing: border-box;text-align: center;}#sk-container-id-18 label.sk-toggleable__label-arrow:before {content: \"▸\";float: left;margin-right: 0.25em;color: #696969;}#sk-container-id-18 label.sk-toggleable__label-arrow:hover:before {color: black;}#sk-container-id-18 div.sk-estimator:hover label.sk-toggleable__label-arrow:before {color: black;}#sk-container-id-18 div.sk-toggleable__content {max-height: 0;max-width: 0;overflow: hidden;text-align: left;background-color: #f0f8ff;}#sk-container-id-18 div.sk-toggleable__content pre {margin: 0.2em;color: black;border-radius: 0.25em;background-color: #f0f8ff;}#sk-container-id-18 input.sk-toggleable__control:checked~div.sk-toggleable__content {max-height: 200px;max-width: 100%;overflow: auto;}#sk-container-id-18 input.sk-toggleable__control:checked~label.sk-toggleable__label-arrow:before {content: \"▾\";}#sk-container-id-18 div.sk-estimator input.sk-toggleable__control:checked~label.sk-toggleable__label {background-color: #d4ebff;}#sk-container-id-18 div.sk-label input.sk-toggleable__control:checked~label.sk-toggleable__label {background-color: #d4ebff;}#sk-container-id-18 input.sk-hidden--visually {border: 0;clip: rect(1px 1px 1px 1px);clip: rect(1px, 1px, 1px, 1px);height: 1px;margin: -1px;overflow: hidden;padding: 0;position: absolute;width: 1px;}#sk-container-id-18 div.sk-estimator {font-family: monospace;background-color: #f0f8ff;border: 1px dotted black;border-radius: 0.25em;box-sizing: border-box;margin-bottom: 0.5em;}#sk-container-id-18 div.sk-estimator:hover {background-color: #d4ebff;}#sk-container-id-18 div.sk-parallel-item::after {content: \"\";width: 100%;border-bottom: 1px solid gray;flex-grow: 1;}#sk-container-id-18 div.sk-label:hover label.sk-toggleable__label {background-color: #d4ebff;}#sk-container-id-18 div.sk-serial::before {content: \"\";position: absolute;border-left: 1px solid gray;box-sizing: border-box;top: 0;bottom: 0;left: 50%;z-index: 0;}#sk-container-id-18 div.sk-serial {display: flex;flex-direction: column;align-items: center;background-color: white;padding-right: 0.2em;padding-left: 0.2em;position: relative;}#sk-container-id-18 div.sk-item {position: relative;z-index: 1;}#sk-container-id-18 div.sk-parallel {display: flex;align-items: stretch;justify-content: center;background-color: white;position: relative;}#sk-container-id-18 div.sk-item::before, #sk-container-id-18 div.sk-parallel-item::before {content: \"\";position: absolute;border-left: 1px solid gray;box-sizing: border-box;top: 0;bottom: 0;left: 50%;z-index: -1;}#sk-container-id-18 div.sk-parallel-item {display: flex;flex-direction: column;z-index: 1;position: relative;background-color: white;}#sk-container-id-18 div.sk-parallel-item:first-child::after {align-self: flex-end;width: 50%;}#sk-container-id-18 div.sk-parallel-item:last-child::after {align-self: flex-start;width: 50%;}#sk-container-id-18 div.sk-parallel-item:only-child::after {width: 0;}#sk-container-id-18 div.sk-dashed-wrapped {border: 1px dashed gray;margin: 0 0.4em 0.5em 0.4em;box-sizing: border-box;padding-bottom: 0.4em;background-color: white;}#sk-container-id-18 div.sk-label label {font-family: monospace;font-weight: bold;display: inline-block;line-height: 1.2em;}#sk-container-id-18 div.sk-label-container {text-align: center;}#sk-container-id-18 div.sk-container {/* jupyter's `normalize.less` sets `[hidden] { display: none; }` but bootstrap.min.css set `[hidden] { display: none !important; }` so we also need the `!important` here to be able to override the default hidden behavior on the sphinx rendered scikit-learn.org. See: https://github.com/scikit-learn/scikit-learn/issues/21755 */display: inline-block !important;position: relative;}#sk-container-id-18 div.sk-text-repr-fallback {display: none;}</style><div id=\"sk-container-id-18\" class=\"sk-top-container\"><div class=\"sk-text-repr-fallback\"><pre>KNeighborsClassifier(n_neighbors=17)</pre><b>In a Jupyter environment, please rerun this cell to show the HTML representation or trust the notebook. <br />On GitHub, the HTML representation is unable to render, please try loading this page with nbviewer.org.</b></div><div class=\"sk-container\" hidden><div class=\"sk-item\"><div class=\"sk-estimator sk-toggleable\"><input class=\"sk-toggleable__control sk-hidden--visually\" id=\"sk-estimator-id-24\" type=\"checkbox\" checked><label for=\"sk-estimator-id-24\" class=\"sk-toggleable__label sk-toggleable__label-arrow\">KNeighborsClassifier</label><div class=\"sk-toggleable__content\"><pre>KNeighborsClassifier(n_neighbors=17)</pre></div></div></div></div></div>"
      ],
      "text/plain": [
       "KNeighborsClassifier(n_neighbors=17)"
      ]
     },
     "execution_count": 106,
     "metadata": {},
     "output_type": "execute_result"
    }
   ],
   "source": [
    "knn=KNeighborsClassifier(n_neighbors=17)\n",
    "knn.fit(X_train,y_train)"
   ]
  },
  {
   "cell_type": "code",
   "execution_count": 107,
   "id": "3894e7c5-5270-4ed0-90e6-b0fa627f028d",
   "metadata": {},
   "outputs": [],
   "source": [
    "y_train_preds=knn.predict(X_train)\n",
    "y_test_preds=knn.predict(X_test)\n"
   ]
  },
  {
   "cell_type": "code",
   "execution_count": 108,
   "id": "b4fd2a81-186b-4691-9467-65b490f2a2eb",
   "metadata": {},
   "outputs": [
    {
     "name": "stdout",
     "output_type": "stream",
     "text": [
      "              precision    recall  f1-score   support\n",
      "\n",
      "           0       0.73      0.77      0.75       349\n",
      "           1       0.76      0.71      0.74       350\n",
      "\n",
      "    accuracy                           0.74       699\n",
      "   macro avg       0.74      0.74      0.74       699\n",
      "weighted avg       0.74      0.74      0.74       699\n",
      "\n"
     ]
    }
   ],
   "source": [
    "print(metrics.classification_report(y_train,y_train_preds))"
   ]
  },
  {
   "cell_type": "code",
   "execution_count": 109,
   "id": "0e3c707e-d72f-4cc2-a839-e875b36514c0",
   "metadata": {},
   "outputs": [
    {
     "name": "stdout",
     "output_type": "stream",
     "text": [
      "              precision    recall  f1-score   support\n",
      "\n",
      "           0       0.72      0.69      0.70       150\n",
      "           1       0.70      0.73      0.72       150\n",
      "\n",
      "    accuracy                           0.71       300\n",
      "   macro avg       0.71      0.71      0.71       300\n",
      "weighted avg       0.71      0.71      0.71       300\n",
      "\n"
     ]
    }
   ],
   "source": [
    "print(metrics.classification_report(y_test,y_test_preds))"
   ]
  },
  {
   "cell_type": "code",
   "execution_count": 110,
   "id": "33a6b175-2de7-47a0-88a6-b13148e4914d",
   "metadata": {},
   "outputs": [],
   "source": [
    "error_rate=[]\n",
    "for i in range(1,50):\n",
    "    KNN=KNeighborsClassifier(n_neighbors=i)\n",
    "    KNN.fit(X_train,y_train)\n",
    "    pred_i=KNN.predict(X_test)\n",
    "    error_rate.append(np.mean(pred_i != np.array( y_test)))"
   ]
  },
  {
   "cell_type": "code",
   "execution_count": 111,
   "id": "e9eb2e59-6fb9-475d-b17c-c8f54316068a",
   "metadata": {},
   "outputs": [
    {
     "data": {
      "text/plain": [
       "[<matplotlib.lines.Line2D at 0x1acbb2fdbd0>]"
      ]
     },
     "execution_count": 111,
     "metadata": {},
     "output_type": "execute_result"
    },
    {
     "data": {
      "image/png": "[encoded data removed]",
      "text/plain": [
       "<Figure size 1000x600 with 1 Axes>"
      ]
     },
     "metadata": {},
     "output_type": "display_data"
    }
   ],
   "source": [
    "plt.figure(figsize=(10,6))\n",
    "plt.plot(range(1,50),error_rate,color=\"blue\",marker=\"o\",markersize=10)"
   ]
  },
  {
   "cell_type": "markdown",
   "id": "2596d3d5-fc80-4554-b900-e8508e92ca49",
   "metadata": {},
   "source": [
    "# RandomForest"
   ]
  },
  {
   "cell_type": "code",
   "execution_count": 112,
   "id": "41ec03f6-247f-4519-8268-9325987810fe",
   "metadata": {},
   "outputs": [],
   "source": [
    "from sklearn.ensemble import RandomForestClassifier"
   ]
  },
  {
   "cell_type": "code",
   "execution_count": 113,
   "id": "f82ed6a5-ab91-43f4-aa37-1fb3733fe097",
   "metadata": {},
   "outputs": [
    {
     "data": {
      "text/html": [
       "<style>#sk-container-id-19 {color: black;background-color: white;}#sk-container-id-19 pre{padding: 0;}#sk-container-id-19 div.sk-toggleable {background-color: white;}#sk-container-id-19 label.sk-toggleable__label {cursor: pointer;display: block;width: 100%;margin-bottom: 0;padding: 0.3em;box-sizing: border-box;text-align: center;}#sk-container-id-19 label.sk-toggleable__label-arrow:before {content: \"▸\";float: left;margin-right: 0.25em;color: #696969;}#sk-container-id-19 label.sk-toggleable__label-arrow:hover:before {color: black;}#sk-container-id-19 div.sk-estimator:hover label.sk-toggleable__label-arrow:before {color: black;}#sk-container-id-19 div.sk-toggleable__content {max-height: 0;max-width: 0;overflow: hidden;text-align: left;background-color: #f0f8ff;}#sk-container-id-19 div.sk-toggleable__content pre {margin: 0.2em;color: black;border-radius: 0.25em;background-color: #f0f8ff;}#sk-container-id-19 input.sk-toggleable__control:checked~div.sk-toggleable__content {max-height: 200px;max-width: 100%;overflow: auto;}#sk-container-id-19 input.sk-toggleable__control:checked~label.sk-toggleable__label-arrow:before {content: \"▾\";}#sk-container-id-19 div.sk-estimator input.sk-toggleable__control:checked~label.sk-toggleable__label {background-color: #d4ebff;}#sk-container-id-19 div.sk-label input.sk-toggleable__control:checked~label.sk-toggleable__label {background-color: #d4ebff;}#sk-container-id-19 input.sk-hidden--visually {border: 0;clip: rect(1px 1px 1px 1px);clip: rect(1px, 1px, 1px, 1px);height: 1px;margin: -1px;overflow: hidden;padding: 0;position: absolute;width: 1px;}#sk-container-id-19 div.sk-estimator {font-family: monospace;background-color: #f0f8ff;border: 1px dotted black;border-radius: 0.25em;box-sizing: border-box;margin-bottom: 0.5em;}#sk-container-id-19 div.sk-estimator:hover {background-color: #d4ebff;}#sk-container-id-19 div.sk-parallel-item::after {content: \"\";width: 100%;border-bottom: 1px solid gray;flex-grow: 1;}#sk-container-id-19 div.sk-label:hover label.sk-toggleable__label {background-color: #d4ebff;}#sk-container-id-19 div.sk-serial::before {content: \"\";position: absolute;border-left: 1px solid gray;box-sizing: border-box;top: 0;bottom: 0;left: 50%;z-index: 0;}#sk-container-id-19 div.sk-serial {display: flex;flex-direction: column;align-items: center;background-color: white;padding-right: 0.2em;padding-left: 0.2em;position: relative;}#sk-container-id-19 div.sk-item {position: relative;z-index: 1;}#sk-container-id-19 div.sk-parallel {display: flex;align-items: stretch;justify-content: center;background-color: white;position: relative;}#sk-container-id-19 div.sk-item::before, #sk-container-id-19 div.sk-parallel-item::before {content: \"\";position: absolute;border-left: 1px solid gray;box-sizing: border-box;top: 0;bottom: 0;left: 50%;z-index: -1;}#sk-container-id-19 div.sk-parallel-item {display: flex;flex-direction: column;z-index: 1;position: relative;background-color: white;}#sk-container-id-19 div.sk-parallel-item:first-child::after {align-self: flex-end;width: 50%;}#sk-container-id-19 div.sk-parallel-item:last-child::after {align-self: flex-start;width: 50%;}#sk-container-id-19 div.sk-parallel-item:only-child::after {width: 0;}#sk-container-id-19 div.sk-dashed-wrapped {border: 1px dashed gray;margin: 0 0.4em 0.5em 0.4em;box-sizing: border-box;padding-bottom: 0.4em;background-color: white;}#sk-container-id-19 div.sk-label label {font-family: monospace;font-weight: bold;display: inline-block;line-height: 1.2em;}#sk-container-id-19 div.sk-label-container {text-align: center;}#sk-container-id-19 div.sk-container {/* jupyter's `normalize.less` sets `[hidden] { display: none; }` but bootstrap.min.css set `[hidden] { display: none !important; }` so we also need the `!important` here to be able to override the default hidden behavior on the sphinx rendered scikit-learn.org. See: https://github.com/scikit-learn/scikit-learn/issues/21755 */display: inline-block !important;position: relative;}#sk-container-id-19 div.sk-text-repr-fallback {display: none;}</style><div id=\"sk-container-id-19\" class=\"sk-top-container\"><div class=\"sk-text-repr-fallback\"><pre>RandomForestClassifier()</pre><b>In a Jupyter environment, please rerun this cell to show the HTML representation or trust the notebook. <br />On GitHub, the HTML representation is unable to render, please try loading this page with nbviewer.org.</b></div><div class=\"sk-container\" hidden><div class=\"sk-item\"><div class=\"sk-estimator sk-toggleable\"><input class=\"sk-toggleable__control sk-hidden--visually\" id=\"sk-estimator-id-25\" type=\"checkbox\" checked><label for=\"sk-estimator-id-25\" class=\"sk-toggleable__label sk-toggleable__label-arrow\">RandomForestClassifier</label><div class=\"sk-toggleable__content\"><pre>RandomForestClassifier()</pre></div></div></div></div></div>"
      ],
      "text/plain": [
       "RandomForestClassifier()"
      ]
     },
     "execution_count": 113,
     "metadata": {},
     "output_type": "execute_result"
    }
   ],
   "source": [
    "forest=RandomForestClassifier()\n",
    "forest.fit(X_train,y_train)"
   ]
  },
  {
   "cell_type": "code",
   "execution_count": 114,
   "id": "8ccdc0f4-d519-464f-9a09-12b7d0b44ace",
   "metadata": {},
   "outputs": [],
   "source": [
    "y_train_preds=forest.predict(X_train)\n",
    "y_test_preds=forest.predict(X_test)\n"
   ]
  },
  {
   "cell_type": "code",
   "execution_count": 115,
   "id": "f3edc81b-4a4d-4c1a-b3b6-6cf9fc8f40b2",
   "metadata": {},
   "outputs": [
    {
     "name": "stdout",
     "output_type": "stream",
     "text": [
      "              precision    recall  f1-score   support\n",
      "\n",
      "           0       1.00      0.99      1.00       349\n",
      "           1       0.99      1.00      1.00       350\n",
      "\n",
      "    accuracy                           1.00       699\n",
      "   macro avg       1.00      1.00      1.00       699\n",
      "weighted avg       1.00      1.00      1.00       699\n",
      "\n"
     ]
    }
   ],
   "source": [
    "print(metrics.classification_report(y_train,y_train_preds))"
   ]
  },
  {
   "cell_type": "code",
   "execution_count": 116,
   "id": "704df6bf-fe23-4066-99c7-18840b1115dd",
   "metadata": {},
   "outputs": [
    {
     "name": "stdout",
     "output_type": "stream",
     "text": [
      "              precision    recall  f1-score   support\n",
      "\n",
      "           0       0.73      0.83      0.77       150\n",
      "           1       0.80      0.69      0.74       150\n",
      "\n",
      "    accuracy                           0.76       300\n",
      "   macro avg       0.76      0.76      0.76       300\n",
      "weighted avg       0.76      0.76      0.76       300\n",
      "\n"
     ]
    }
   ],
   "source": [
    "print(metrics.classification_report(y_test,y_test_preds))"
   ]
  },
  {
   "cell_type": "markdown",
   "id": "8c3481ef-f649-4bfd-b9bf-bc5b3b006d0a",
   "metadata": {},
   "source": [
    "# Gradientbosting`"
   ]
  },
  {
   "cell_type": "code",
   "execution_count": 140,
   "id": "5db332ca-f0a2-40d9-a55b-cb366791122b",
   "metadata": {},
   "outputs": [],
   "source": [
    "from sklearn.ensemble import GradientBoostingClassifier"
   ]
  },
  {
   "cell_type": "code",
   "execution_count": null,
   "id": "2bd5aa96-8879-43e9-a10b-3d8ad2f5d388",
   "metadata": {},
   "outputs": [],
   "source": [
    "h=15, n_estimators=150, random_state=42;, score=0.740"
   ]
  },
  {
   "cell_type": "code",
   "execution_count": 141,
   "id": "e8da948e-2cbe-417b-87f4-3429eee50141",
   "metadata": {},
   "outputs": [
    {
     "data": {
      "text/html": [
       "<style>#sk-container-id-25 {color: black;background-color: white;}#sk-container-id-25 pre{padding: 0;}#sk-container-id-25 div.sk-toggleable {background-color: white;}#sk-container-id-25 label.sk-toggleable__label {cursor: pointer;display: block;width: 100%;margin-bottom: 0;padding: 0.3em;box-sizing: border-box;text-align: center;}#sk-container-id-25 label.sk-toggleable__label-arrow:before {content: \"▸\";float: left;margin-right: 0.25em;color: #696969;}#sk-container-id-25 label.sk-toggleable__label-arrow:hover:before {color: black;}#sk-container-id-25 div.sk-estimator:hover label.sk-toggleable__label-arrow:before {color: black;}#sk-container-id-25 div.sk-toggleable__content {max-height: 0;max-width: 0;overflow: hidden;text-align: left;background-color: #f0f8ff;}#sk-container-id-25 div.sk-toggleable__content pre {margin: 0.2em;color: black;border-radius: 0.25em;background-color: #f0f8ff;}#sk-container-id-25 input.sk-toggleable__control:checked~div.sk-toggleable__content {max-height: 200px;max-width: 100%;overflow: auto;}#sk-container-id-25 input.sk-toggleable__control:checked~label.sk-toggleable__label-arrow:before {content: \"▾\";}#sk-container-id-25 div.sk-estimator input.sk-toggleable__control:checked~label.sk-toggleable__label {background-color: #d4ebff;}#sk-container-id-25 div.sk-label input.sk-toggleable__control:checked~label.sk-toggleable__label {background-color: #d4ebff;}#sk-container-id-25 input.sk-hidden--visually {border: 0;clip: rect(1px 1px 1px 1px);clip: rect(1px, 1px, 1px, 1px);height: 1px;margin: -1px;overflow: hidden;padding: 0;position: absolute;width: 1px;}#sk-container-id-25 div.sk-estimator {font-family: monospace;background-color: #f0f8ff;border: 1px dotted black;border-radius: 0.25em;box-sizing: border-box;margin-bottom: 0.5em;}#sk-container-id-25 div.sk-estimator:hover {background-color: #d4ebff;}#sk-container-id-25 div.sk-parallel-item::after {content: \"\";width: 100%;border-bottom: 1px solid gray;flex-grow: 1;}#sk-container-id-25 div.sk-label:hover label.sk-toggleable__label {background-color: #d4ebff;}#sk-container-id-25 div.sk-serial::before {content: \"\";position: absolute;border-left: 1px solid gray;box-sizing: border-box;top: 0;bottom: 0;left: 50%;z-index: 0;}#sk-container-id-25 div.sk-serial {display: flex;flex-direction: column;align-items: center;background-color: white;padding-right: 0.2em;padding-left: 0.2em;position: relative;}#sk-container-id-25 div.sk-item {position: relative;z-index: 1;}#sk-container-id-25 div.sk-parallel {display: flex;align-items: stretch;justify-content: center;background-color: white;position: relative;}#sk-container-id-25 div.sk-item::before, #sk-container-id-25 div.sk-parallel-item::before {content: \"\";position: absolute;border-left: 1px solid gray;box-sizing: border-box;top: 0;bottom: 0;left: 50%;z-index: -1;}#sk-container-id-25 div.sk-parallel-item {display: flex;flex-direction: column;z-index: 1;position: relative;background-color: white;}#sk-container-id-25 div.sk-parallel-item:first-child::after {align-self: flex-end;width: 50%;}#sk-container-id-25 div.sk-parallel-item:last-child::after {align-self: flex-start;width: 50%;}#sk-container-id-25 div.sk-parallel-item:only-child::after {width: 0;}#sk-container-id-25 div.sk-dashed-wrapped {border: 1px dashed gray;margin: 0 0.4em 0.5em 0.4em;box-sizing: border-box;padding-bottom: 0.4em;background-color: white;}#sk-container-id-25 div.sk-label label {font-family: monospace;font-weight: bold;display: inline-block;line-height: 1.2em;}#sk-container-id-25 div.sk-label-container {text-align: center;}#sk-container-id-25 div.sk-container {/* jupyter's `normalize.less` sets `[hidden] { display: none; }` but bootstrap.min.css set `[hidden] { display: none !important; }` so we also need the `!important` here to be able to override the default hidden behavior on the sphinx rendered scikit-learn.org. See: https://github.com/scikit-learn/scikit-learn/issues/21755 */display: inline-block !important;position: relative;}#sk-container-id-25 div.sk-text-repr-fallback {display: none;}</style><div id=\"sk-container-id-25\" class=\"sk-top-container\"><div class=\"sk-text-repr-fallback\"><pre>GradientBoostingClassifier(max_depth=15, n_estimators=150, random_state=42)</pre><b>In a Jupyter environment, please rerun this cell to show the HTML representation or trust the notebook. <br />On GitHub, the HTML representation is unable to render, please try loading this page with nbviewer.org.</b></div><div class=\"sk-container\" hidden><div class=\"sk-item\"><div class=\"sk-estimator sk-toggleable\"><input class=\"sk-toggleable__control sk-hidden--visually\" id=\"sk-estimator-id-37\" type=\"checkbox\" checked><label for=\"sk-estimator-id-37\" class=\"sk-toggleable__label sk-toggleable__label-arrow\">GradientBoostingClassifier</label><div class=\"sk-toggleable__content\"><pre>GradientBoostingClassifier(max_depth=15, n_estimators=150, random_state=42)</pre></div></div></div></div></div>"
      ],
      "text/plain": [
       "GradientBoostingClassifier(max_depth=15, n_estimators=150, random_state=42)"
      ]
     },
     "execution_count": 141,
     "metadata": {},
     "output_type": "execute_result"
    }
   ],
   "source": [
    "boost=GradientBoostingClassifier(n_estimators=150,max_depth=15,random_state=42)\n",
    "boost.fit(X_train,y_train)"
   ]
  },
  {
   "cell_type": "code",
   "execution_count": 142,
   "id": "fe6c7fbf-9b81-4d05-8173-9603c496e7ea",
   "metadata": {},
   "outputs": [],
   "source": [
    "y_train_preds=boost.predict(X_train)\n",
    "y_test_preds=boost.predict(X_test)\n"
   ]
  },
  {
   "cell_type": "code",
   "execution_count": 143,
   "id": "589a54d5-63f2-470a-9491-c33a51ac767b",
   "metadata": {},
   "outputs": [
    {
     "name": "stdout",
     "output_type": "stream",
     "text": [
      "              precision    recall  f1-score   support\n",
      "\n",
      "           0       0.75      0.81      0.78       150\n",
      "           1       0.80      0.73      0.76       150\n",
      "\n",
      "    accuracy                           0.77       300\n",
      "   macro avg       0.78      0.77      0.77       300\n",
      "weighted avg       0.78      0.77      0.77       300\n",
      "\n"
     ]
    }
   ],
   "source": [
    "print(metrics.classification_report(y_test,y_test_preds))"
   ]
  },
  {
   "cell_type": "code",
   "execution_count": 144,
   "id": "ee271a94-a74c-4d32-82ab-43f20b7c3002",
   "metadata": {},
   "outputs": [
    {
     "name": "stdout",
     "output_type": "stream",
     "text": [
      "              precision    recall  f1-score   support\n",
      "\n",
      "           0       0.99      0.99      0.99       349\n",
      "           1       0.99      0.99      0.99       350\n",
      "\n",
      "    accuracy                           0.99       699\n",
      "   macro avg       0.99      0.99      0.99       699\n",
      "weighted avg       0.99      0.99      0.99       699\n",
      "\n"
     ]
    }
   ],
   "source": [
    "print(metrics.classification_report(y_train,y_train_preds))"
   ]
  },
  {
   "cell_type": "markdown",
   "id": "109e949a-c6cb-4ee3-84c5-1b50e9081671",
   "metadata": {},
   "source": [
    "# hybrid approch to over come overfitting algo"
   ]
  },
  {
   "cell_type": "code",
   "execution_count": 122,
   "id": "5c12b5fd-443c-4a9d-bf0c-a172c0753b2f",
   "metadata": {},
   "outputs": [],
   "source": [
    "from sklearn.ensemble import VotingClassifier\n",
    "from sklearn.svm import SVC\n",
    "svc=SVC()"
   ]
  },
  {
   "cell_type": "code",
   "execution_count": 123,
   "id": "3b10280e-592d-45ff-a395-6acc074cd5a1",
   "metadata": {},
   "outputs": [],
   "source": [
    "voting_model=VotingClassifier(estimators=[(\"boost\",boost),(\"bernouli\",NB_model)],verbose=True)"
   ]
  },
  {
   "cell_type": "code",
   "execution_count": 145,
   "id": "a8000919-6cbc-4365-8f18-5409fc36d549",
   "metadata": {},
   "outputs": [
    {
     "name": "stdout",
     "output_type": "stream",
     "text": [
      "[Voting] .................... (1 of 2) Processing boost, total=   2.0s\n",
      "[Voting] ................. (2 of 2) Processing bernouli, total=   0.0s\n"
     ]
    },
    {
     "data": {
      "text/html": [
       "<style>#sk-container-id-26 {color: black;background-color: white;}#sk-container-id-26 pre{padding: 0;}#sk-container-id-26 div.sk-toggleable {background-color: white;}#sk-container-id-26 label.sk-toggleable__label {cursor: pointer;display: block;width: 100%;margin-bottom: 0;padding: 0.3em;box-sizing: border-box;text-align: center;}#sk-container-id-26 label.sk-toggleable__label-arrow:before {content: \"▸\";float: left;margin-right: 0.25em;color: #696969;}#sk-container-id-26 label.sk-toggleable__label-arrow:hover:before {color: black;}#sk-container-id-26 div.sk-estimator:hover label.sk-toggleable__label-arrow:before {color: black;}#sk-container-id-26 div.sk-toggleable__content {max-height: 0;max-width: 0;overflow: hidden;text-align: left;background-color: #f0f8ff;}#sk-container-id-26 div.sk-toggleable__content pre {margin: 0.2em;color: black;border-radius: 0.25em;background-color: #f0f8ff;}#sk-container-id-26 input.sk-toggleable__control:checked~div.sk-toggleable__content {max-height: 200px;max-width: 100%;overflow: auto;}#sk-container-id-26 input.sk-toggleable__control:checked~label.sk-toggleable__label-arrow:before {content: \"▾\";}#sk-container-id-26 div.sk-estimator input.sk-toggleable__control:checked~label.sk-toggleable__label {background-color: #d4ebff;}#sk-container-id-26 div.sk-label input.sk-toggleable__control:checked~label.sk-toggleable__label {background-color: #d4ebff;}#sk-container-id-26 input.sk-hidden--visually {border: 0;clip: rect(1px 1px 1px 1px);clip: rect(1px, 1px, 1px, 1px);height: 1px;margin: -1px;overflow: hidden;padding: 0;position: absolute;width: 1px;}#sk-container-id-26 div.sk-estimator {font-family: monospace;background-color: #f0f8ff;border: 1px dotted black;border-radius: 0.25em;box-sizing: border-box;margin-bottom: 0.5em;}#sk-container-id-26 div.sk-estimator:hover {background-color: #d4ebff;}#sk-container-id-26 div.sk-parallel-item::after {content: \"\";width: 100%;border-bottom: 1px solid gray;flex-grow: 1;}#sk-container-id-26 div.sk-label:hover label.sk-toggleable__label {background-color: #d4ebff;}#sk-container-id-26 div.sk-serial::before {content: \"\";position: absolute;border-left: 1px solid gray;box-sizing: border-box;top: 0;bottom: 0;left: 50%;z-index: 0;}#sk-container-id-26 div.sk-serial {display: flex;flex-direction: column;align-items: center;background-color: white;padding-right: 0.2em;padding-left: 0.2em;position: relative;}#sk-container-id-26 div.sk-item {position: relative;z-index: 1;}#sk-container-id-26 div.sk-parallel {display: flex;align-items: stretch;justify-content: center;background-color: white;position: relative;}#sk-container-id-26 div.sk-item::before, #sk-container-id-26 div.sk-parallel-item::before {content: \"\";position: absolute;border-left: 1px solid gray;box-sizing: border-box;top: 0;bottom: 0;left: 50%;z-index: -1;}#sk-container-id-26 div.sk-parallel-item {display: flex;flex-direction: column;z-index: 1;position: relative;background-color: white;}#sk-container-id-26 div.sk-parallel-item:first-child::after {align-self: flex-end;width: 50%;}#sk-container-id-26 div.sk-parallel-item:last-child::after {align-self: flex-start;width: 50%;}#sk-container-id-26 div.sk-parallel-item:only-child::after {width: 0;}#sk-container-id-26 div.sk-dashed-wrapped {border: 1px dashed gray;margin: 0 0.4em 0.5em 0.4em;box-sizing: border-box;padding-bottom: 0.4em;background-color: white;}#sk-container-id-26 div.sk-label label {font-family: monospace;font-weight: bold;display: inline-block;line-height: 1.2em;}#sk-container-id-26 div.sk-label-container {text-align: center;}#sk-container-id-26 div.sk-container {/* jupyter's `normalize.less` sets `[hidden] { display: none; }` but bootstrap.min.css set `[hidden] { display: none !important; }` so we also need the `!important` here to be able to override the default hidden behavior on the sphinx rendered scikit-learn.org. See: https://github.com/scikit-learn/scikit-learn/issues/21755 */display: inline-block !important;position: relative;}#sk-container-id-26 div.sk-text-repr-fallback {display: none;}</style><div id=\"sk-container-id-26\" class=\"sk-top-container\"><div class=\"sk-text-repr-fallback\"><pre>VotingClassifier(estimators=[(&#x27;boost&#x27;,\n",
       "                              GradientBoostingClassifier(max_depth=12,\n",
       "                                                         random_state=42)),\n",
       "                             (&#x27;bernouli&#x27;,\n",
       "                              BernoulliNB(alpha=0.5, force_alpha=True))],\n",
       "                 verbose=True)</pre><b>In a Jupyter environment, please rerun this cell to show the HTML representation or trust the notebook. <br />On GitHub, the HTML representation is unable to render, please try loading this page with nbviewer.org.</b></div><div class=\"sk-container\" hidden><div class=\"sk-item sk-dashed-wrapped\"><div class=\"sk-label-container\"><div class=\"sk-label sk-toggleable\"><input class=\"sk-toggleable__control sk-hidden--visually\" id=\"sk-estimator-id-38\" type=\"checkbox\" ><label for=\"sk-estimator-id-38\" class=\"sk-toggleable__label sk-toggleable__label-arrow\">VotingClassifier</label><div class=\"sk-toggleable__content\"><pre>VotingClassifier(estimators=[(&#x27;boost&#x27;,\n",
       "                              GradientBoostingClassifier(max_depth=12,\n",
       "                                                         random_state=42)),\n",
       "                             (&#x27;bernouli&#x27;,\n",
       "                              BernoulliNB(alpha=0.5, force_alpha=True))],\n",
       "                 verbose=True)</pre></div></div></div><div class=\"sk-parallel\"><div class=\"sk-parallel-item\"><div class=\"sk-item\"><div class=\"sk-label-container\"><div class=\"sk-label sk-toggleable\"><label>boost</label></div></div><div class=\"sk-serial\"><div class=\"sk-item\"><div class=\"sk-estimator sk-toggleable\"><input class=\"sk-toggleable__control sk-hidden--visually\" id=\"sk-estimator-id-39\" type=\"checkbox\" ><label for=\"sk-estimator-id-39\" class=\"sk-toggleable__label sk-toggleable__label-arrow\">GradientBoostingClassifier</label><div class=\"sk-toggleable__content\"><pre>GradientBoostingClassifier(max_depth=12, random_state=42)</pre></div></div></div></div></div></div><div class=\"sk-parallel-item\"><div class=\"sk-item\"><div class=\"sk-label-container\"><div class=\"sk-label sk-toggleable\"><label>bernouli</label></div></div><div class=\"sk-serial\"><div class=\"sk-item\"><div class=\"sk-estimator sk-toggleable\"><input class=\"sk-toggleable__control sk-hidden--visually\" id=\"sk-estimator-id-40\" type=\"checkbox\" ><label for=\"sk-estimator-id-40\" class=\"sk-toggleable__label sk-toggleable__label-arrow\">BernoulliNB</label><div class=\"sk-toggleable__content\"><pre>BernoulliNB(alpha=0.5, force_alpha=True)</pre></div></div></div></div></div></div></div></div></div></div>"
      ],
      "text/plain": [
       "VotingClassifier(estimators=[('boost',\n",
       "                              GradientBoostingClassifier(max_depth=12,\n",
       "                                                         random_state=42)),\n",
       "                             ('bernouli',\n",
       "                              BernoulliNB(alpha=0.5, force_alpha=True))],\n",
       "                 verbose=True)"
      ]
     },
     "execution_count": 145,
     "metadata": {},
     "output_type": "execute_result"
    }
   ],
   "source": [
    "voting_model.fit(X_train,y_train)"
   ]
  },
  {
   "cell_type": "code",
   "execution_count": 146,
   "id": "31371b63-b807-4a25-937a-b01017d47f7a",
   "metadata": {},
   "outputs": [],
   "source": [
    "y_train_preds=voting_model.predict(X_train)\n",
    "y_test_preds=voting_model.predict(X_test)\n"
   ]
  },
  {
   "cell_type": "code",
   "execution_count": 147,
   "id": "6bb5c64e-6c0d-45de-9e2e-e5b49a0cc871",
   "metadata": {},
   "outputs": [
    {
     "name": "stdout",
     "output_type": "stream",
     "text": [
      "              precision    recall  f1-score   support\n",
      "\n",
      "           0       0.97      0.99      0.98       349\n",
      "           1       0.99      0.97      0.98       350\n",
      "\n",
      "    accuracy                           0.98       699\n",
      "   macro avg       0.98      0.98      0.98       699\n",
      "weighted avg       0.98      0.98      0.98       699\n",
      "\n"
     ]
    }
   ],
   "source": [
    "print(metrics.classification_report(y_train,y_train_preds))"
   ]
  },
  {
   "cell_type": "code",
   "execution_count": 148,
   "id": "609c1ebe-60a8-439e-8104-ee66a314f1ec",
   "metadata": {},
   "outputs": [
    {
     "name": "stdout",
     "output_type": "stream",
     "text": [
      "              precision    recall  f1-score   support\n",
      "\n",
      "           0       0.72      0.89      0.80       150\n",
      "           1       0.86      0.65      0.74       150\n",
      "\n",
      "    accuracy                           0.77       300\n",
      "   macro avg       0.79      0.77      0.77       300\n",
      "weighted avg       0.79      0.77      0.77       300\n",
      "\n"
     ]
    }
   ],
   "source": [
    "print(metrics.classification_report(y_test,y_test_preds))"
   ]
  },
  {
   "cell_type": "markdown",
   "id": "d23dec8f-19e7-49af-83e3-046af3de9258",
   "metadata": {},
   "source": [
    "# SVC"
   ]
  },
  {
   "cell_type": "code",
   "execution_count": 128,
   "id": "c06a5a1d-3661-4e5d-953b-f690b9bc35dd",
   "metadata": {},
   "outputs": [
    {
     "data": {
      "text/html": [
       "<style>#sk-container-id-22 {color: black;background-color: white;}#sk-container-id-22 pre{padding: 0;}#sk-container-id-22 div.sk-toggleable {background-color: white;}#sk-container-id-22 label.sk-toggleable__label {cursor: pointer;display: block;width: 100%;margin-bottom: 0;padding: 0.3em;box-sizing: border-box;text-align: center;}#sk-container-id-22 label.sk-toggleable__label-arrow:before {content: \"▸\";float: left;margin-right: 0.25em;color: #696969;}#sk-container-id-22 label.sk-toggleable__label-arrow:hover:before {color: black;}#sk-container-id-22 div.sk-estimator:hover label.sk-toggleable__label-arrow:before {color: black;}#sk-container-id-22 div.sk-toggleable__content {max-height: 0;max-width: 0;overflow: hidden;text-align: left;background-color: #f0f8ff;}#sk-container-id-22 div.sk-toggleable__content pre {margin: 0.2em;color: black;border-radius: 0.25em;background-color: #f0f8ff;}#sk-container-id-22 input.sk-toggleable__control:checked~div.sk-toggleable__content {max-height: 200px;max-width: 100%;overflow: auto;}#sk-container-id-22 input.sk-toggleable__control:checked~label.sk-toggleable__label-arrow:before {content: \"▾\";}#sk-container-id-22 div.sk-estimator input.sk-toggleable__control:checked~label.sk-toggleable__label {background-color: #d4ebff;}#sk-container-id-22 div.sk-label input.sk-toggleable__control:checked~label.sk-toggleable__label {background-color: #d4ebff;}#sk-container-id-22 input.sk-hidden--visually {border: 0;clip: rect(1px 1px 1px 1px);clip: rect(1px, 1px, 1px, 1px);height: 1px;margin: -1px;overflow: hidden;padding: 0;position: absolute;width: 1px;}#sk-container-id-22 div.sk-estimator {font-family: monospace;background-color: #f0f8ff;border: 1px dotted black;border-radius: 0.25em;box-sizing: border-box;margin-bottom: 0.5em;}#sk-container-id-22 div.sk-estimator:hover {background-color: #d4ebff;}#sk-container-id-22 div.sk-parallel-item::after {content: \"\";width: 100%;border-bottom: 1px solid gray;flex-grow: 1;}#sk-container-id-22 div.sk-label:hover label.sk-toggleable__label {background-color: #d4ebff;}#sk-container-id-22 div.sk-serial::before {content: \"\";position: absolute;border-left: 1px solid gray;box-sizing: border-box;top: 0;bottom: 0;left: 50%;z-index: 0;}#sk-container-id-22 div.sk-serial {display: flex;flex-direction: column;align-items: center;background-color: white;padding-right: 0.2em;padding-left: 0.2em;position: relative;}#sk-container-id-22 div.sk-item {position: relative;z-index: 1;}#sk-container-id-22 div.sk-parallel {display: flex;align-items: stretch;justify-content: center;background-color: white;position: relative;}#sk-container-id-22 div.sk-item::before, #sk-container-id-22 div.sk-parallel-item::before {content: \"\";position: absolute;border-left: 1px solid gray;box-sizing: border-box;top: 0;bottom: 0;left: 50%;z-index: -1;}#sk-container-id-22 div.sk-parallel-item {display: flex;flex-direction: column;z-index: 1;position: relative;background-color: white;}#sk-container-id-22 div.sk-parallel-item:first-child::after {align-self: flex-end;width: 50%;}#sk-container-id-22 div.sk-parallel-item:last-child::after {align-self: flex-start;width: 50%;}#sk-container-id-22 div.sk-parallel-item:only-child::after {width: 0;}#sk-container-id-22 div.sk-dashed-wrapped {border: 1px dashed gray;margin: 0 0.4em 0.5em 0.4em;box-sizing: border-box;padding-bottom: 0.4em;background-color: white;}#sk-container-id-22 div.sk-label label {font-family: monospace;font-weight: bold;display: inline-block;line-height: 1.2em;}#sk-container-id-22 div.sk-label-container {text-align: center;}#sk-container-id-22 div.sk-container {/* jupyter's `normalize.less` sets `[hidden] { display: none; }` but bootstrap.min.css set `[hidden] { display: none !important; }` so we also need the `!important` here to be able to override the default hidden behavior on the sphinx rendered scikit-learn.org. See: https://github.com/scikit-learn/scikit-learn/issues/21755 */display: inline-block !important;position: relative;}#sk-container-id-22 div.sk-text-repr-fallback {display: none;}</style><div id=\"sk-container-id-22\" class=\"sk-top-container\"><div class=\"sk-text-repr-fallback\"><pre>SVC()</pre><b>In a Jupyter environment, please rerun this cell to show the HTML representation or trust the notebook. <br />On GitHub, the HTML representation is unable to render, please try loading this page with nbviewer.org.</b></div><div class=\"sk-container\" hidden><div class=\"sk-item\"><div class=\"sk-estimator sk-toggleable\"><input class=\"sk-toggleable__control sk-hidden--visually\" id=\"sk-estimator-id-30\" type=\"checkbox\" checked><label for=\"sk-estimator-id-30\" class=\"sk-toggleable__label sk-toggleable__label-arrow\">SVC</label><div class=\"sk-toggleable__content\"><pre>SVC()</pre></div></div></div></div></div>"
      ],
      "text/plain": [
       "SVC()"
      ]
     },
     "execution_count": 128,
     "metadata": {},
     "output_type": "execute_result"
    }
   ],
   "source": [
    "svc.fit(X_train,y_train)"
   ]
  },
  {
   "cell_type": "code",
   "execution_count": 129,
   "id": "c00953fa-5fb6-4083-8d26-769dfab6198c",
   "metadata": {},
   "outputs": [],
   "source": [
    "y_train_preds=svc.predict(X_train)\n",
    "y_test_preds=svc.predict(X_test)\n"
   ]
  },
  {
   "cell_type": "code",
   "execution_count": 130,
   "id": "14434b5e-91cd-4663-aca5-22bcc0a5f84c",
   "metadata": {},
   "outputs": [
    {
     "name": "stdout",
     "output_type": "stream",
     "text": [
      "              precision    recall  f1-score   support\n",
      "\n",
      "           0       0.71      0.89      0.79       150\n",
      "           1       0.86      0.63      0.73       150\n",
      "\n",
      "    accuracy                           0.76       300\n",
      "   macro avg       0.78      0.76      0.76       300\n",
      "weighted avg       0.78      0.76      0.76       300\n",
      "\n"
     ]
    }
   ],
   "source": [
    "print(metrics.classification_report(y_test,y_test_preds))"
   ]
  },
  {
   "cell_type": "code",
   "execution_count": 131,
   "id": "904d7493-f9c7-46d2-a909-5d282ae236ff",
   "metadata": {},
   "outputs": [
    {
     "name": "stdout",
     "output_type": "stream",
     "text": [
      "              precision    recall  f1-score   support\n",
      "\n",
      "           0       0.95      0.99      0.97       349\n",
      "           1       0.99      0.95      0.97       350\n",
      "\n",
      "    accuracy                           0.97       699\n",
      "   macro avg       0.97      0.97      0.97       699\n",
      "weighted avg       0.97      0.97      0.97       699\n",
      "\n"
     ]
    }
   ],
   "source": [
    "print(metrics.classification_report(y_train,y_train_preds))"
   ]
  },
  {
   "cell_type": "markdown",
   "id": "201dffa4-37b6-4115-9c84-faeddba4e17b",
   "metadata": {},
   "source": [
    "# hyper parameter tuning for navie_bayes"
   ]
  },
  {
   "cell_type": "code",
   "execution_count": 132,
   "id": "b3ba94db-b71e-4af5-8e05-05a6b2652087",
   "metadata": {},
   "outputs": [],
   "source": [
    "from sklearn.model_selection import GridSearchCV\n",
    "parama={\"alpha\":[0.01,0.5,0.1,0.02,2,1.5],\"force_alpha\":[True,\"warn\",None]}\n"
   ]
  },
  {
   "cell_type": "code",
   "execution_count": 133,
   "id": "170e7293-959f-48d1-8d2d-573c49aed312",
   "metadata": {},
   "outputs": [
    {
     "name": "stdout",
     "output_type": "stream",
     "text": [
      "Fitting 10 folds for each of 18 candidates, totalling 180 fits\n",
      "[CV 1/10] END alpha=0.01, force_alpha=True;, score=(train=0.977, test=0.790) total time=   0.0s\n",
      "[CV 2/10] END alpha=0.01, force_alpha=True;, score=(train=0.977, test=0.820) total time=   0.0s\n",
      "[CV 3/10] END alpha=0.01, force_alpha=True;, score=(train=0.977, test=0.870) total time=   0.0s\n",
      "[CV 4/10] END alpha=0.01, force_alpha=True;, score=(train=0.973, test=0.790) total time=   0.0s\n",
      "[CV 5/10] END alpha=0.01, force_alpha=True;, score=(train=0.976, test=0.780) total time=   0.0s\n",
      "[CV 6/10] END alpha=0.01, force_alpha=True;, score=(train=0.972, test=0.800) total time=   0.0s\n",
      "[CV 7/10] END alpha=0.01, force_alpha=True;, score=(train=0.978, test=0.660) total time=   0.0s\n",
      "[CV 8/10] END alpha=0.01, force_alpha=True;, score=(train=0.978, test=0.760) total time=   0.0s\n",
      "[CV 9/10] END alpha=0.01, force_alpha=True;, score=(train=0.977, test=0.830) total time=   0.0s\n",
      "[CV 10/10] END alpha=0.01, force_alpha=True;, score=(train=0.977, test=0.758) total time=   0.0s\n",
      "[CV 1/10] END alpha=0.01, force_alpha=warn;, score=(train=0.977, test=0.790) total time=   0.0s\n",
      "[CV 2/10] END alpha=0.01, force_alpha=warn;, score=(train=0.977, test=0.820) total time=   0.0s\n",
      "[CV 3/10] END alpha=0.01, force_alpha=warn;, score=(train=0.977, test=0.870) total time=   0.0s\n",
      "[CV 4/10] END alpha=0.01, force_alpha=warn;, score=(train=0.973, test=0.790) total time=   0.0s\n",
      "[CV 5/10] END alpha=0.01, force_alpha=warn;, score=(train=0.976, test=0.780) total time=   0.0s\n",
      "[CV 6/10] END alpha=0.01, force_alpha=warn;, score=(train=0.972, test=0.800) total time=   0.0s\n",
      "[CV 7/10] END alpha=0.01, force_alpha=warn;, score=(train=0.978, test=0.660) total time=   0.0s\n",
      "[CV 8/10] END alpha=0.01, force_alpha=warn;, score=(train=0.978, test=0.760) total time=   0.0s\n",
      "[CV 9/10] END alpha=0.01, force_alpha=warn;, score=(train=0.977, test=0.830) total time=   0.0s\n",
      "[CV 10/10] END alpha=0.01, force_alpha=warn;, score=(train=0.977, test=0.758) total time=   0.0s\n",
      "[CV 1/10] END alpha=0.01, force_alpha=None;, score=(train=nan, test=nan) total time=   0.0s\n",
      "[CV 2/10] END alpha=0.01, force_alpha=None;, score=(train=nan, test=nan) total time=   0.0s\n",
      "[CV 3/10] END alpha=0.01, force_alpha=None;, score=(train=nan, test=nan) total time=   0.0s\n",
      "[CV 4/10] END alpha=0.01, force_alpha=None;, score=(train=nan, test=nan) total time=   0.0s\n",
      "[CV 5/10] END alpha=0.01, force_alpha=None;, score=(train=nan, test=nan) total time=   0.0s\n",
      "[CV 6/10] END alpha=0.01, force_alpha=None;, score=(train=nan, test=nan) total time=   0.0s\n",
      "[CV 7/10] END alpha=0.01, force_alpha=None;, score=(train=nan, test=nan) total time=   0.0s\n",
      "[CV 8/10] END alpha=0.01, force_alpha=None;, score=(train=nan, test=nan) total time=   0.0s\n",
      "[CV 9/10] END alpha=0.01, force_alpha=None;, score=(train=nan, test=nan) total time=   0.0s\n",
      "[CV 10/10] END alpha=0.01, force_alpha=None;, score=(train=nan, test=nan) total time=   0.0s\n",
      "[CV 1/10] END alpha=0.5, force_alpha=True;, score=(train=0.969, test=0.790) total time=   0.0s\n",
      "[CV 2/10] END alpha=0.5, force_alpha=True;, score=(train=0.967, test=0.820) total time=   0.0s\n",
      "[CV 3/10] END alpha=0.5, force_alpha=True;, score=(train=0.968, test=0.860) total time=   0.0s\n",
      "[CV 4/10] END alpha=0.5, force_alpha=True;, score=(train=0.966, test=0.800) total time=   0.0s\n",
      "[CV 5/10] END alpha=0.5, force_alpha=True;, score=(train=0.966, test=0.770) total time=   0.0s\n",
      "[CV 6/10] END alpha=0.5, force_alpha=True;, score=(train=0.963, test=0.830) total time=   0.0s\n",
      "[CV 7/10] END alpha=0.5, force_alpha=True;, score=(train=0.964, test=0.760) total time=   0.0s\n",
      "[CV 8/10] END alpha=0.5, force_alpha=True;, score=(train=0.968, test=0.790) total time=   0.0s\n",
      "[CV 9/10] END alpha=0.5, force_alpha=True;, score=(train=0.969, test=0.840) total time=   0.0s\n",
      "[CV 10/10] END alpha=0.5, force_alpha=True;, score=(train=0.966, test=0.758) total time=   0.0s\n",
      "[CV 1/10] END alpha=0.5, force_alpha=warn;, score=(train=0.969, test=0.790) total time=   0.0s\n",
      "[CV 2/10] END alpha=0.5, force_alpha=warn;, score=(train=0.967, test=0.820) total time=   0.0s\n",
      "[CV 3/10] END alpha=0.5, force_alpha=warn;, score=(train=0.968, test=0.860) total time=   0.0s\n",
      "[CV 4/10] END alpha=0.5, force_alpha=warn;, score=(train=0.966, test=0.800) total time=   0.0s\n",
      "[CV 5/10] END alpha=0.5, force_alpha=warn;, score=(train=0.966, test=0.770) total time=   0.0s\n",
      "[CV 6/10] END alpha=0.5, force_alpha=warn;, score=(train=0.963, test=0.830) total time=   0.0s\n",
      "[CV 7/10] END alpha=0.5, force_alpha=warn;, score=(train=0.964, test=0.760) total time=   0.0s\n",
      "[CV 8/10] END alpha=0.5, force_alpha=warn;, score=(train=0.968, test=0.790) total time=   0.0s\n",
      "[CV 9/10] END alpha=0.5, force_alpha=warn;, score=(train=0.969, test=0.840) total time=   0.0s\n",
      "[CV 10/10] END alpha=0.5, force_alpha=warn;, score=(train=0.966, test=0.758) total time=   0.0s\n",
      "[CV 1/10] END alpha=0.5, force_alpha=None;, score=(train=nan, test=nan) total time=   0.0s\n",
      "[CV 2/10] END alpha=0.5, force_alpha=None;, score=(train=nan, test=nan) total time=   0.0s\n",
      "[CV 3/10] END alpha=0.5, force_alpha=None;, score=(train=nan, test=nan) total time=   0.0s\n",
      "[CV 4/10] END alpha=0.5, force_alpha=None;, score=(train=nan, test=nan) total time=   0.0s\n",
      "[CV 5/10] END alpha=0.5, force_alpha=None;, score=(train=nan, test=nan) total time=   0.0s\n",
      "[CV 6/10] END alpha=0.5, force_alpha=None;, score=(train=nan, test=nan) total time=   0.0s\n",
      "[CV 7/10] END alpha=0.5, force_alpha=None;, score=(train=nan, test=nan) total time=   0.0s\n",
      "[CV 8/10] END alpha=0.5, force_alpha=None;, score=(train=nan, test=nan) total time=   0.0s\n",
      "[CV 9/10] END alpha=0.5, force_alpha=None;, score=(train=nan, test=nan) total time=   0.0s\n",
      "[CV 10/10] END alpha=0.5, force_alpha=None;, score=(train=nan, test=nan) total time=   0.0s\n",
      "[CV 1/10] END alpha=0.1, force_alpha=True;, score=(train=0.973, test=0.800) total time=   0.0s\n",
      "[CV 2/10] END alpha=0.1, force_alpha=True;, score=(train=0.974, test=0.840) total time=   0.0s\n",
      "[CV 3/10] END alpha=0.1, force_alpha=True;, score=(train=0.972, test=0.860) total time=   0.0s\n",
      "[CV 4/10] END alpha=0.1, force_alpha=True;, score=(train=0.971, test=0.790) total time=   0.0s\n",
      "[CV 5/10] END alpha=0.1, force_alpha=True;, score=(train=0.972, test=0.790) total time=   0.0s\n",
      "[CV 6/10] END alpha=0.1, force_alpha=True;, score=(train=0.970, test=0.800) total time=   0.0s\n",
      "[CV 7/10] END alpha=0.1, force_alpha=True;, score=(train=0.971, test=0.680) total time=   0.0s\n",
      "[CV 8/10] END alpha=0.1, force_alpha=True;, score=(train=0.974, test=0.770) total time=   0.0s\n",
      "[CV 9/10] END alpha=0.1, force_alpha=True;, score=(train=0.973, test=0.850) total time=   0.0s\n",
      "[CV 10/10] END alpha=0.1, force_alpha=True;, score=(train=0.974, test=0.778) total time=   0.0s\n",
      "[CV 1/10] END alpha=0.1, force_alpha=warn;, score=(train=0.973, test=0.800) total time=   0.0s\n",
      "[CV 2/10] END alpha=0.1, force_alpha=warn;, score=(train=0.974, test=0.840) total time=   0.0s\n",
      "[CV 3/10] END alpha=0.1, force_alpha=warn;, score=(train=0.972, test=0.860) total time=   0.0s\n",
      "[CV 4/10] END alpha=0.1, force_alpha=warn;, score=(train=0.971, test=0.790) total time=   0.0s\n",
      "[CV 5/10] END alpha=0.1, force_alpha=warn;, score=(train=0.972, test=0.790) total time=   0.0s\n",
      "[CV 6/10] END alpha=0.1, force_alpha=warn;, score=(train=0.970, test=0.800) total time=   0.0s\n",
      "[CV 7/10] END alpha=0.1, force_alpha=warn;, score=(train=0.971, test=0.680) total time=   0.0s\n",
      "[CV 8/10] END alpha=0.1, force_alpha=warn;, score=(train=0.974, test=0.770) total time=   0.0s\n",
      "[CV 9/10] END alpha=0.1, force_alpha=warn;, score=(train=0.973, test=0.850) total time=   0.0s\n",
      "[CV 10/10] END alpha=0.1, force_alpha=warn;, score=(train=0.974, test=0.778) total time=   0.0s\n",
      "[CV 1/10] END alpha=0.1, force_alpha=None;, score=(train=nan, test=nan) total time=   0.0s\n",
      "[CV 2/10] END alpha=0.1, force_alpha=None;, score=(train=nan, test=nan) total time=   0.0s\n",
      "[CV 3/10] END alpha=0.1, force_alpha=None;, score=(train=nan, test=nan) total time=   0.0s\n",
      "[CV 4/10] END alpha=0.1, force_alpha=None;, score=(train=nan, test=nan) total time=   0.0s\n",
      "[CV 5/10] END alpha=0.1, force_alpha=None;, score=(train=nan, test=nan) total time=   0.0s\n",
      "[CV 6/10] END alpha=0.1, force_alpha=None;, score=(train=nan, test=nan) total time=   0.0s\n",
      "[CV 7/10] END alpha=0.1, force_alpha=None;, score=(train=nan, test=nan) total time=   0.0s\n",
      "[CV 8/10] END alpha=0.1, force_alpha=None;, score=(train=nan, test=nan) total time=   0.0s\n",
      "[CV 9/10] END alpha=0.1, force_alpha=None;, score=(train=nan, test=nan) total time=   0.0s\n",
      "[CV 10/10] END alpha=0.1, force_alpha=None;, score=(train=nan, test=nan) total time=   0.0s\n",
      "[CV 1/10] END alpha=0.02, force_alpha=True;, score=(train=0.976, test=0.790) total time=   0.0s\n",
      "[CV 2/10] END alpha=0.02, force_alpha=True;, score=(train=0.976, test=0.830) total time=   0.0s\n",
      "[CV 3/10] END alpha=0.02, force_alpha=True;, score=(train=0.976, test=0.870) total time=   0.0s\n",
      "[CV 4/10] END alpha=0.02, force_alpha=True;, score=(train=0.973, test=0.790) total time=   0.0s\n",
      "[CV 5/10] END alpha=0.02, force_alpha=True;, score=(train=0.974, test=0.780) total time=   0.0s\n",
      "[CV 6/10] END alpha=0.02, force_alpha=True;, score=(train=0.972, test=0.800) total time=   0.0s\n",
      "[CV 7/10] END alpha=0.02, force_alpha=True;, score=(train=0.977, test=0.660) total time=   0.0s\n",
      "[CV 8/10] END alpha=0.02, force_alpha=True;, score=(train=0.978, test=0.770) total time=   0.0s\n",
      "[CV 9/10] END alpha=0.02, force_alpha=True;, score=(train=0.976, test=0.830) total time=   0.0s\n",
      "[CV 10/10] END alpha=0.02, force_alpha=True;, score=(train=0.976, test=0.758) total time=   0.0s\n",
      "[CV 1/10] END alpha=0.02, force_alpha=warn;, score=(train=0.976, test=0.790) total time=   0.0s\n",
      "[CV 2/10] END alpha=0.02, force_alpha=warn;, score=(train=0.976, test=0.830) total time=   0.0s\n",
      "[CV 3/10] END alpha=0.02, force_alpha=warn;, score=(train=0.976, test=0.870) total time=   0.0s\n",
      "[CV 4/10] END alpha=0.02, force_alpha=warn;, score=(train=0.973, test=0.790) total time=   0.0s\n",
      "[CV 5/10] END alpha=0.02, force_alpha=warn;, score=(train=0.974, test=0.780) total time=   0.0s\n",
      "[CV 6/10] END alpha=0.02, force_alpha=warn;, score=(train=0.972, test=0.800) total time=   0.0s\n",
      "[CV 7/10] END alpha=0.02, force_alpha=warn;, score=(train=0.977, test=0.660) total time=   0.0s\n",
      "[CV 8/10] END alpha=0.02, force_alpha=warn;, score=(train=0.978, test=0.770) total time=   0.0s\n",
      "[CV 9/10] END alpha=0.02, force_alpha=warn;, score=(train=0.976, test=0.830) total time=   0.0s\n",
      "[CV 10/10] END alpha=0.02, force_alpha=warn;, score=(train=0.976, test=0.758) total time=   0.0s\n",
      "[CV 1/10] END alpha=0.02, force_alpha=None;, score=(train=nan, test=nan) total time=   0.0s\n",
      "[CV 2/10] END alpha=0.02, force_alpha=None;, score=(train=nan, test=nan) total time=   0.0s\n",
      "[CV 3/10] END alpha=0.02, force_alpha=None;, score=(train=nan, test=nan) total time=   0.0s\n",
      "[CV 4/10] END alpha=0.02, force_alpha=None;, score=(train=nan, test=nan) total time=   0.0s\n",
      "[CV 5/10] END alpha=0.02, force_alpha=None;, score=(train=nan, test=nan) total time=   0.0s\n",
      "[CV 6/10] END alpha=0.02, force_alpha=None;, score=(train=nan, test=nan) total time=   0.0s\n",
      "[CV 7/10] END alpha=0.02, force_alpha=None;, score=(train=nan, test=nan) total time=   0.0s\n",
      "[CV 8/10] END alpha=0.02, force_alpha=None;, score=(train=nan, test=nan) total time=   0.0s\n",
      "[CV 9/10] END alpha=0.02, force_alpha=None;, score=(train=nan, test=nan) total time=   0.0s\n",
      "[CV 10/10] END alpha=0.02, force_alpha=None;, score=(train=nan, test=nan) total time=   0.0s\n",
      "[CV 1/10] END alpha=2, force_alpha=True;, score=(train=0.952, test=0.790) total time=   0.0s\n",
      "[CV 2/10] END alpha=2, force_alpha=True;, score=(train=0.948, test=0.820) total time=   0.0s\n",
      "[CV 3/10] END alpha=2, force_alpha=True;, score=(train=0.942, test=0.860) total time=   0.0s\n",
      "[CV 4/10] END alpha=2, force_alpha=True;, score=(train=0.942, test=0.810) total time=   0.0s\n",
      "[CV 5/10] END alpha=2, force_alpha=True;, score=(train=0.944, test=0.760) total time=   0.0s\n",
      "[CV 6/10] END alpha=2, force_alpha=True;, score=(train=0.937, test=0.800) total time=   0.0s\n",
      "[CV 7/10] END alpha=2, force_alpha=True;, score=(train=0.940, test=0.760) total time=   0.0s\n",
      "[CV 8/10] END alpha=2, force_alpha=True;, score=(train=0.947, test=0.800) total time=   0.0s\n",
      "[CV 9/10] END alpha=2, force_alpha=True;, score=(train=0.945, test=0.830) total time=   0.0s\n",
      "[CV 10/10] END alpha=2, force_alpha=True;, score=(train=0.950, test=0.747) total time=   0.0s\n",
      "[CV 1/10] END alpha=2, force_alpha=warn;, score=(train=0.952, test=0.790) total time=   0.0s\n",
      "[CV 2/10] END alpha=2, force_alpha=warn;, score=(train=0.948, test=0.820) total time=   0.0s\n",
      "[CV 3/10] END alpha=2, force_alpha=warn;, score=(train=0.942, test=0.860) total time=   0.0s\n",
      "[CV 4/10] END alpha=2, force_alpha=warn;, score=(train=0.942, test=0.810) total time=   0.0s\n",
      "[CV 5/10] END alpha=2, force_alpha=warn;, score=(train=0.944, test=0.760) total time=   0.0s\n",
      "[CV 6/10] END alpha=2, force_alpha=warn;, score=(train=0.937, test=0.800) total time=   0.0s\n",
      "[CV 7/10] END alpha=2, force_alpha=warn;, score=(train=0.940, test=0.760) total time=   0.0s\n",
      "[CV 8/10] END alpha=2, force_alpha=warn;, score=(train=0.947, test=0.800) total time=   0.0s\n",
      "[CV 9/10] END alpha=2, force_alpha=warn;, score=(train=0.945, test=0.830) total time=   0.0s\n",
      "[CV 10/10] END alpha=2, force_alpha=warn;, score=(train=0.950, test=0.747) total time=   0.0s\n",
      "[CV 1/10] END alpha=2, force_alpha=None;, score=(train=nan, test=nan) total time=   0.0s\n",
      "[CV 2/10] END alpha=2, force_alpha=None;, score=(train=nan, test=nan) total time=   0.0s\n",
      "[CV 3/10] END alpha=2, force_alpha=None;, score=(train=nan, test=nan) total time=   0.0s\n",
      "[CV 4/10] END alpha=2, force_alpha=None;, score=(train=nan, test=nan) total time=   0.0s\n",
      "[CV 5/10] END alpha=2, force_alpha=None;, score=(train=nan, test=nan) total time=   0.0s\n",
      "[CV 6/10] END alpha=2, force_alpha=None;, score=(train=nan, test=nan) total time=   0.0s\n",
      "[CV 7/10] END alpha=2, force_alpha=None;, score=(train=nan, test=nan) total time=   0.0s\n",
      "[CV 8/10] END alpha=2, force_alpha=None;, score=(train=nan, test=nan) total time=   0.0s\n",
      "[CV 9/10] END alpha=2, force_alpha=None;, score=(train=nan, test=nan) total time=   0.0s\n",
      "[CV 10/10] END alpha=2, force_alpha=None;, score=(train=nan, test=nan) total time=   0.0s\n",
      "[CV 1/10] END alpha=1.5, force_alpha=True;, score=(train=0.956, test=0.780) total time=   0.0s\n",
      "[CV 2/10] END alpha=1.5, force_alpha=True;, score=(train=0.952, test=0.820) total time=   0.0s\n",
      "[CV 3/10] END alpha=1.5, force_alpha=True;, score=(train=0.950, test=0.860) total time=   0.0s\n",
      "[CV 4/10] END alpha=1.5, force_alpha=True;, score=(train=0.953, test=0.790) total time=   0.0s\n",
      "[CV 5/10] END alpha=1.5, force_alpha=True;, score=(train=0.952, test=0.780) total time=   0.0s\n",
      "[CV 6/10] END alpha=1.5, force_alpha=True;, score=(train=0.949, test=0.790) total time=   0.0s\n",
      "[CV 7/10] END alpha=1.5, force_alpha=True;, score=(train=0.949, test=0.770) total time=   0.0s\n",
      "[CV 8/10] END alpha=1.5, force_alpha=True;, score=(train=0.951, test=0.790) total time=   0.0s\n",
      "[CV 9/10] END alpha=1.5, force_alpha=True;, score=(train=0.953, test=0.820) total time=   0.0s\n",
      "[CV 10/10] END alpha=1.5, force_alpha=True;, score=(train=0.952, test=0.747) total time=   0.0s\n",
      "[CV 1/10] END alpha=1.5, force_alpha=warn;, score=(train=0.956, test=0.780) total time=   0.0s\n",
      "[CV 2/10] END alpha=1.5, force_alpha=warn;, score=(train=0.952, test=0.820) total time=   0.0s\n",
      "[CV 3/10] END alpha=1.5, force_alpha=warn;, score=(train=0.950, test=0.860) total time=   0.0s\n",
      "[CV 4/10] END alpha=1.5, force_alpha=warn;, score=(train=0.953, test=0.790) total time=   0.0s\n",
      "[CV 5/10] END alpha=1.5, force_alpha=warn;, score=(train=0.952, test=0.780) total time=   0.0s\n",
      "[CV 6/10] END alpha=1.5, force_alpha=warn;, score=(train=0.949, test=0.790) total time=   0.0s\n",
      "[CV 7/10] END alpha=1.5, force_alpha=warn;, score=(train=0.949, test=0.770) total time=   0.0s\n",
      "[CV 8/10] END alpha=1.5, force_alpha=warn;, score=(train=0.951, test=0.790) total time=   0.0s\n",
      "[CV 9/10] END alpha=1.5, force_alpha=warn;, score=(train=0.953, test=0.820) total time=   0.0s\n",
      "[CV 10/10] END alpha=1.5, force_alpha=warn;, score=(train=0.952, test=0.747) total time=   0.0s\n",
      "[CV 1/10] END alpha=1.5, force_alpha=None;, score=(train=nan, test=nan) total time=   0.0s\n",
      "[CV 2/10] END alpha=1.5, force_alpha=None;, score=(train=nan, test=nan) total time=   0.0s\n",
      "[CV 3/10] END alpha=1.5, force_alpha=None;, score=(train=nan, test=nan) total time=   0.0s\n",
      "[CV 4/10] END alpha=1.5, force_alpha=None;, score=(train=nan, test=nan) total time=   0.0s\n",
      "[CV 5/10] END alpha=1.5, force_alpha=None;, score=(train=nan, test=nan) total time=   0.0s\n",
      "[CV 6/10] END alpha=1.5, force_alpha=None;, score=(train=nan, test=nan) total time=   0.0s\n",
      "[CV 7/10] END alpha=1.5, force_alpha=None;, score=(train=nan, test=nan) total time=   0.0s\n",
      "[CV 8/10] END alpha=1.5, force_alpha=None;, score=(train=nan, test=nan) total time=   0.0s\n",
      "[CV 9/10] END alpha=1.5, force_alpha=None;, score=(train=nan, test=nan) total time=   0.0s\n",
      "[CV 10/10] END alpha=1.5, force_alpha=None;, score=(train=nan, test=nan) total time=   0.0s\n"
     ]
    },
    {
     "data": {
      "text/html": [
       "<style>#sk-container-id-23 {color: black;background-color: white;}#sk-container-id-23 pre{padding: 0;}#sk-container-id-23 div.sk-toggleable {background-color: white;}#sk-container-id-23 label.sk-toggleable__label {cursor: pointer;display: block;width: 100%;margin-bottom: 0;padding: 0.3em;box-sizing: border-box;text-align: center;}#sk-container-id-23 label.sk-toggleable__label-arrow:before {content: \"▸\";float: left;margin-right: 0.25em;color: #696969;}#sk-container-id-23 label.sk-toggleable__label-arrow:hover:before {color: black;}#sk-container-id-23 div.sk-estimator:hover label.sk-toggleable__label-arrow:before {color: black;}#sk-container-id-23 div.sk-toggleable__content {max-height: 0;max-width: 0;overflow: hidden;text-align: left;background-color: #f0f8ff;}#sk-container-id-23 div.sk-toggleable__content pre {margin: 0.2em;color: black;border-radius: 0.25em;background-color: #f0f8ff;}#sk-container-id-23 input.sk-toggleable__control:checked~div.sk-toggleable__content {max-height: 200px;max-width: 100%;overflow: auto;}#sk-container-id-23 input.sk-toggleable__control:checked~label.sk-toggleable__label-arrow:before {content: \"▾\";}#sk-container-id-23 div.sk-estimator input.sk-toggleable__control:checked~label.sk-toggleable__label {background-color: #d4ebff;}#sk-container-id-23 div.sk-label input.sk-toggleable__control:checked~label.sk-toggleable__label {background-color: #d4ebff;}#sk-container-id-23 input.sk-hidden--visually {border: 0;clip: rect(1px 1px 1px 1px);clip: rect(1px, 1px, 1px, 1px);height: 1px;margin: -1px;overflow: hidden;padding: 0;position: absolute;width: 1px;}#sk-container-id-23 div.sk-estimator {font-family: monospace;background-color: #f0f8ff;border: 1px dotted black;border-radius: 0.25em;box-sizing: border-box;margin-bottom: 0.5em;}#sk-container-id-23 div.sk-estimator:hover {background-color: #d4ebff;}#sk-container-id-23 div.sk-parallel-item::after {content: \"\";width: 100%;border-bottom: 1px solid gray;flex-grow: 1;}#sk-container-id-23 div.sk-label:hover label.sk-toggleable__label {background-color: #d4ebff;}#sk-container-id-23 div.sk-serial::before {content: \"\";position: absolute;border-left: 1px solid gray;box-sizing: border-box;top: 0;bottom: 0;left: 50%;z-index: 0;}#sk-container-id-23 div.sk-serial {display: flex;flex-direction: column;align-items: center;background-color: white;padding-right: 0.2em;padding-left: 0.2em;position: relative;}#sk-container-id-23 div.sk-item {position: relative;z-index: 1;}#sk-container-id-23 div.sk-parallel {display: flex;align-items: stretch;justify-content: center;background-color: white;position: relative;}#sk-container-id-23 div.sk-item::before, #sk-container-id-23 div.sk-parallel-item::before {content: \"\";position: absolute;border-left: 1px solid gray;box-sizing: border-box;top: 0;bottom: 0;left: 50%;z-index: -1;}#sk-container-id-23 div.sk-parallel-item {display: flex;flex-direction: column;z-index: 1;position: relative;background-color: white;}#sk-container-id-23 div.sk-parallel-item:first-child::after {align-self: flex-end;width: 50%;}#sk-container-id-23 div.sk-parallel-item:last-child::after {align-self: flex-start;width: 50%;}#sk-container-id-23 div.sk-parallel-item:only-child::after {width: 0;}#sk-container-id-23 div.sk-dashed-wrapped {border: 1px dashed gray;margin: 0 0.4em 0.5em 0.4em;box-sizing: border-box;padding-bottom: 0.4em;background-color: white;}#sk-container-id-23 div.sk-label label {font-family: monospace;font-weight: bold;display: inline-block;line-height: 1.2em;}#sk-container-id-23 div.sk-label-container {text-align: center;}#sk-container-id-23 div.sk-container {/* jupyter's `normalize.less` sets `[hidden] { display: none; }` but bootstrap.min.css set `[hidden] { display: none !important; }` so we also need the `!important` here to be able to override the default hidden behavior on the sphinx rendered scikit-learn.org. See: https://github.com/scikit-learn/scikit-learn/issues/21755 */display: inline-block !important;position: relative;}#sk-container-id-23 div.sk-text-repr-fallback {display: none;}</style><div id=\"sk-container-id-23\" class=\"sk-top-container\"><div class=\"sk-text-repr-fallback\"><pre>GridSearchCV(cv=10, estimator=BernoulliNB(alpha=0.5, force_alpha=True),\n",
       "             param_grid={&#x27;alpha&#x27;: [0.01, 0.5, 0.1, 0.02, 2, 1.5],\n",
       "                         &#x27;force_alpha&#x27;: [True, &#x27;warn&#x27;, None]},\n",
       "             return_train_score=True, verbose=3)</pre><b>In a Jupyter environment, please rerun this cell to show the HTML representation or trust the notebook. <br />On GitHub, the HTML representation is unable to render, please try loading this page with nbviewer.org.</b></div><div class=\"sk-container\" hidden><div class=\"sk-item sk-dashed-wrapped\"><div class=\"sk-label-container\"><div class=\"sk-label sk-toggleable\"><input class=\"sk-toggleable__control sk-hidden--visually\" id=\"sk-estimator-id-31\" type=\"checkbox\" ><label for=\"sk-estimator-id-31\" class=\"sk-toggleable__label sk-toggleable__label-arrow\">GridSearchCV</label><div class=\"sk-toggleable__content\"><pre>GridSearchCV(cv=10, estimator=BernoulliNB(alpha=0.5, force_alpha=True),\n",
       "             param_grid={&#x27;alpha&#x27;: [0.01, 0.5, 0.1, 0.02, 2, 1.5],\n",
       "                         &#x27;force_alpha&#x27;: [True, &#x27;warn&#x27;, None]},\n",
       "             return_train_score=True, verbose=3)</pre></div></div></div><div class=\"sk-parallel\"><div class=\"sk-parallel-item\"><div class=\"sk-item\"><div class=\"sk-label-container\"><div class=\"sk-label sk-toggleable\"><input class=\"sk-toggleable__control sk-hidden--visually\" id=\"sk-estimator-id-32\" type=\"checkbox\" ><label for=\"sk-estimator-id-32\" class=\"sk-toggleable__label sk-toggleable__label-arrow\">estimator: BernoulliNB</label><div class=\"sk-toggleable__content\"><pre>BernoulliNB(alpha=0.5, force_alpha=True)</pre></div></div></div><div class=\"sk-serial\"><div class=\"sk-item\"><div class=\"sk-estimator sk-toggleable\"><input class=\"sk-toggleable__control sk-hidden--visually\" id=\"sk-estimator-id-33\" type=\"checkbox\" ><label for=\"sk-estimator-id-33\" class=\"sk-toggleable__label sk-toggleable__label-arrow\">BernoulliNB</label><div class=\"sk-toggleable__content\"><pre>BernoulliNB(alpha=0.5, force_alpha=True)</pre></div></div></div></div></div></div></div></div></div></div>"
      ],
      "text/plain": [
       "GridSearchCV(cv=10, estimator=BernoulliNB(alpha=0.5, force_alpha=True),\n",
       "             param_grid={'alpha': [0.01, 0.5, 0.1, 0.02, 2, 1.5],\n",
       "                         'force_alpha': [True, 'warn', None]},\n",
       "             return_train_score=True, verbose=3)"
      ]
     },
     "execution_count": 133,
     "metadata": {},
     "output_type": "execute_result"
    }
   ],
   "source": [
    "bernoulNb_cv=GridSearchCV(estimator=NB_model,param_grid=parama,cv=10,verbose=3,return_train_score=True)\n",
    "bernoulNb_cv.fit(X,y)"
   ]
  },
  {
   "cell_type": "code",
   "execution_count": 134,
   "id": "8d87fa5c-7c1e-40a9-9fec-669aabf4e348",
   "metadata": {},
   "outputs": [
    {
     "data": {
      "text/plain": [
       "{'alpha': 0.5, 'force_alpha': True}"
      ]
     },
     "execution_count": 134,
     "metadata": {},
     "output_type": "execute_result"
    }
   ],
   "source": [
    "bernoulNb_cv.best_params_"
   ]
  },
  {
   "cell_type": "code",
   "execution_count": 135,
   "id": "19d671e2-eac0-4411-8adb-717633d372fc",
   "metadata": {},
   "outputs": [
    {
     "data": {
      "text/plain": [
       "0.8017575757575758"
      ]
     },
     "execution_count": 135,
     "metadata": {},
     "output_type": "execute_result"
    }
   ],
   "source": [
    "bernoulNb_cv.best_score_"
   ]
  },
  {
   "cell_type": "markdown",
   "id": "96e68555-2290-48a2-92d6-6a0d3c25c196",
   "metadata": {},
   "source": [
    "# tuning for gradient"
   ]
  },
  {
   "cell_type": "code",
   "execution_count": 136,
   "id": "9762fedb-6cde-429f-b3ca-64f281828014",
   "metadata": {},
   "outputs": [],
   "source": [
    "GradientBoostingClassifier()\n",
    "param={\"n_estimators\":[100,150,200] , \"random_state\":[42,101],\"max_depth\":[10,12,15]}\n",
    "gradient_cv=GridSearchCV(estimator=boost,param_grid=param,verbose=3,cv=10)"
   ]
  },
  {
   "cell_type": "code",
   "execution_count": 137,
   "id": "c98e2f44-75d0-44ae-b93f-cbbccd8873d5",
   "metadata": {},
   "outputs": [
    {
     "name": "stdout",
     "output_type": "stream",
     "text": [
      "Fitting 10 folds for each of 18 candidates, totalling 180 fits\n",
      "[CV 1/10] END max_depth=10, n_estimators=100, random_state=42;, score=0.810 total time=   2.0s\n",
      "[CV 2/10] END max_depth=10, n_estimators=100, random_state=42;, score=0.840 total time=   2.0s\n",
      "[CV 3/10] END max_depth=10, n_estimators=100, random_state=42;, score=0.810 total time=   2.1s\n",
      "[CV 4/10] END max_depth=10, n_estimators=100, random_state=42;, score=0.790 total time=   2.1s\n",
      "[CV 5/10] END max_depth=10, n_estimators=100, random_state=42;, score=0.820 total time=   2.1s\n",
      "[CV 6/10] END max_depth=10, n_estimators=100, random_state=42;, score=0.770 total time=   1.9s\n",
      "[CV 7/10] END max_depth=10, n_estimators=100, random_state=42;, score=0.760 total time=   1.9s\n",
      "[CV 8/10] END max_depth=10, n_estimators=100, random_state=42;, score=0.720 total time=   2.0s\n",
      "[CV 9/10] END max_depth=10, n_estimators=100, random_state=42;, score=0.800 total time=   2.1s\n",
      "[CV 10/10] END max_depth=10, n_estimators=100, random_state=42;, score=0.808 total time=   2.0s\n",
      "[CV 1/10] END max_depth=10, n_estimators=100, random_state=101;, score=0.810 total time=   2.0s\n",
      "[CV 2/10] END max_depth=10, n_estimators=100, random_state=101;, score=0.840 total time=   2.0s\n",
      "[CV 3/10] END max_depth=10, n_estimators=100, random_state=101;, score=0.820 total time=   2.0s\n",
      "[CV 4/10] END max_depth=10, n_estimators=100, random_state=101;, score=0.780 total time=   2.0s\n",
      "[CV 5/10] END max_depth=10, n_estimators=100, random_state=101;, score=0.820 total time=   2.1s\n",
      "[CV 6/10] END max_depth=10, n_estimators=100, random_state=101;, score=0.770 total time=   1.9s\n",
      "[CV 7/10] END max_depth=10, n_estimators=100, random_state=101;, score=0.760 total time=   2.0s\n",
      "[CV 8/10] END max_depth=10, n_estimators=100, random_state=101;, score=0.720 total time=   2.0s\n",
      "[CV 9/10] END max_depth=10, n_estimators=100, random_state=101;, score=0.810 total time=   2.0s\n",
      "[CV 10/10] END max_depth=10, n_estimators=100, random_state=101;, score=0.808 total time=   2.0s\n",
      "[CV 1/10] END max_depth=10, n_estimators=150, random_state=42;, score=0.810 total time=   3.1s\n",
      "[CV 2/10] END max_depth=10, n_estimators=150, random_state=42;, score=0.840 total time=   2.9s\n",
      "[CV 3/10] END max_depth=10, n_estimators=150, random_state=42;, score=0.810 total time=   3.0s\n",
      "[CV 4/10] END max_depth=10, n_estimators=150, random_state=42;, score=0.810 total time=   3.0s\n",
      "[CV 5/10] END max_depth=10, n_estimators=150, random_state=42;, score=0.850 total time=   3.1s\n",
      "[CV 6/10] END max_depth=10, n_estimators=150, random_state=42;, score=0.750 total time=   2.9s\n",
      "[CV 7/10] END max_depth=10, n_estimators=150, random_state=42;, score=0.770 total time=   2.9s\n",
      "[CV 8/10] END max_depth=10, n_estimators=150, random_state=42;, score=0.720 total time=   2.9s\n",
      "[CV 9/10] END max_depth=10, n_estimators=150, random_state=42;, score=0.810 total time=   3.0s\n",
      "[CV 10/10] END max_depth=10, n_estimators=150, random_state=42;, score=0.808 total time=   2.9s\n",
      "[CV 1/10] END max_depth=10, n_estimators=150, random_state=101;, score=0.810 total time=   2.9s\n",
      "[CV 2/10] END max_depth=10, n_estimators=150, random_state=101;, score=0.840 total time=   2.9s\n",
      "[CV 3/10] END max_depth=10, n_estimators=150, random_state=101;, score=0.810 total time=   2.9s\n",
      "[CV 4/10] END max_depth=10, n_estimators=150, random_state=101;, score=0.800 total time=   2.9s\n",
      "[CV 5/10] END max_depth=10, n_estimators=150, random_state=101;, score=0.820 total time=   2.9s\n",
      "[CV 6/10] END max_depth=10, n_estimators=150, random_state=101;, score=0.750 total time=   2.8s\n",
      "[CV 7/10] END max_depth=10, n_estimators=150, random_state=101;, score=0.760 total time=   2.8s\n",
      "[CV 8/10] END max_depth=10, n_estimators=150, random_state=101;, score=0.710 total time=   3.0s\n",
      "[CV 9/10] END max_depth=10, n_estimators=150, random_state=101;, score=0.820 total time=   3.2s\n",
      "[CV 10/10] END max_depth=10, n_estimators=150, random_state=101;, score=0.808 total time=   3.0s\n",
      "[CV 1/10] END max_depth=10, n_estimators=200, random_state=42;, score=0.800 total time=   3.9s\n",
      "[CV 2/10] END max_depth=10, n_estimators=200, random_state=42;, score=0.850 total time=   4.3s\n",
      "[CV 3/10] END max_depth=10, n_estimators=200, random_state=42;, score=0.800 total time=   4.3s\n",
      "[CV 4/10] END max_depth=10, n_estimators=200, random_state=42;, score=0.810 total time=   4.3s\n",
      "[CV 5/10] END max_depth=10, n_estimators=200, random_state=42;, score=0.850 total time=   3.9s\n",
      "[CV 6/10] END max_depth=10, n_estimators=200, random_state=42;, score=0.740 total time=   3.7s\n",
      "[CV 7/10] END max_depth=10, n_estimators=200, random_state=42;, score=0.770 total time=   3.8s\n",
      "[CV 8/10] END max_depth=10, n_estimators=200, random_state=42;, score=0.720 total time=   3.8s\n",
      "[CV 9/10] END max_depth=10, n_estimators=200, random_state=42;, score=0.810 total time=   3.9s\n",
      "[CV 10/10] END max_depth=10, n_estimators=200, random_state=42;, score=0.798 total time=   3.8s\n",
      "[CV 1/10] END max_depth=10, n_estimators=200, random_state=101;, score=0.790 total time=   3.9s\n",
      "[CV 2/10] END max_depth=10, n_estimators=200, random_state=101;, score=0.840 total time=   3.9s\n",
      "[CV 3/10] END max_depth=10, n_estimators=200, random_state=101;, score=0.800 total time=   3.9s\n",
      "[CV 4/10] END max_depth=10, n_estimators=200, random_state=101;, score=0.800 total time=   3.9s\n",
      "[CV 5/10] END max_depth=10, n_estimators=200, random_state=101;, score=0.830 total time=   3.9s\n",
      "[CV 6/10] END max_depth=10, n_estimators=200, random_state=101;, score=0.770 total time=   3.8s\n",
      "[CV 7/10] END max_depth=10, n_estimators=200, random_state=101;, score=0.760 total time=   3.8s\n",
      "[CV 8/10] END max_depth=10, n_estimators=200, random_state=101;, score=0.720 total time=   3.8s\n",
      "[CV 9/10] END max_depth=10, n_estimators=200, random_state=101;, score=0.820 total time=   3.9s\n",
      "[CV 10/10] END max_depth=10, n_estimators=200, random_state=101;, score=0.808 total time=   3.9s\n",
      "[CV 1/10] END max_depth=12, n_estimators=100, random_state=42;, score=0.820 total time=   2.3s\n",
      "[CV 2/10] END max_depth=12, n_estimators=100, random_state=42;, score=0.830 total time=   2.3s\n",
      "[CV 3/10] END max_depth=12, n_estimators=100, random_state=42;, score=0.820 total time=   2.3s\n",
      "[CV 4/10] END max_depth=12, n_estimators=100, random_state=42;, score=0.810 total time=   2.3s\n",
      "[CV 5/10] END max_depth=12, n_estimators=100, random_state=42;, score=0.850 total time=   2.3s\n",
      "[CV 6/10] END max_depth=12, n_estimators=100, random_state=42;, score=0.730 total time=   2.2s\n",
      "[CV 7/10] END max_depth=12, n_estimators=100, random_state=42;, score=0.770 total time=   2.3s\n",
      "[CV 8/10] END max_depth=12, n_estimators=100, random_state=42;, score=0.730 total time=   2.3s\n",
      "[CV 9/10] END max_depth=12, n_estimators=100, random_state=42;, score=0.810 total time=   2.3s\n",
      "[CV 10/10] END max_depth=12, n_estimators=100, random_state=42;, score=0.808 total time=   2.3s\n",
      "[CV 1/10] END max_depth=12, n_estimators=100, random_state=101;, score=0.800 total time=   2.3s\n",
      "[CV 2/10] END max_depth=12, n_estimators=100, random_state=101;, score=0.830 total time=   2.3s\n",
      "[CV 3/10] END max_depth=12, n_estimators=100, random_state=101;, score=0.810 total time=   2.3s\n",
      "[CV 4/10] END max_depth=12, n_estimators=100, random_state=101;, score=0.790 total time=   2.4s\n",
      "[CV 5/10] END max_depth=12, n_estimators=100, random_state=101;, score=0.830 total time=   2.3s\n",
      "[CV 6/10] END max_depth=12, n_estimators=100, random_state=101;, score=0.770 total time=   2.3s\n",
      "[CV 7/10] END max_depth=12, n_estimators=100, random_state=101;, score=0.770 total time=   2.3s\n",
      "[CV 8/10] END max_depth=12, n_estimators=100, random_state=101;, score=0.730 total time=   2.2s\n",
      "[CV 9/10] END max_depth=12, n_estimators=100, random_state=101;, score=0.810 total time=   3.2s\n",
      "[CV 10/10] END max_depth=12, n_estimators=100, random_state=101;, score=0.808 total time=   2.3s\n",
      "[CV 1/10] END max_depth=12, n_estimators=150, random_state=42;, score=0.820 total time=   3.8s\n",
      "[CV 2/10] END max_depth=12, n_estimators=150, random_state=42;, score=0.840 total time=   3.8s\n",
      "[CV 3/10] END max_depth=12, n_estimators=150, random_state=42;, score=0.800 total time=   3.6s\n",
      "[CV 4/10] END max_depth=12, n_estimators=150, random_state=42;, score=0.800 total time=   3.4s\n",
      "[CV 5/10] END max_depth=12, n_estimators=150, random_state=42;, score=0.860 total time=   3.4s\n",
      "[CV 6/10] END max_depth=12, n_estimators=150, random_state=42;, score=0.750 total time=   3.3s\n",
      "[CV 7/10] END max_depth=12, n_estimators=150, random_state=42;, score=0.770 total time=   3.4s\n",
      "[CV 8/10] END max_depth=12, n_estimators=150, random_state=42;, score=0.730 total time=   3.3s\n",
      "[CV 9/10] END max_depth=12, n_estimators=150, random_state=42;, score=0.810 total time=   3.5s\n",
      "[CV 10/10] END max_depth=12, n_estimators=150, random_state=42;, score=0.818 total time=   3.4s\n",
      "[CV 1/10] END max_depth=12, n_estimators=150, random_state=101;, score=0.830 total time=   3.4s\n",
      "[CV 2/10] END max_depth=12, n_estimators=150, random_state=101;, score=0.820 total time=   3.4s\n",
      "[CV 3/10] END max_depth=12, n_estimators=150, random_state=101;, score=0.800 total time=   3.5s\n",
      "[CV 4/10] END max_depth=12, n_estimators=150, random_state=101;, score=0.820 total time=   3.4s\n",
      "[CV 5/10] END max_depth=12, n_estimators=150, random_state=101;, score=0.850 total time=   3.5s\n",
      "[CV 6/10] END max_depth=12, n_estimators=150, random_state=101;, score=0.770 total time=   3.3s\n",
      "[CV 7/10] END max_depth=12, n_estimators=150, random_state=101;, score=0.760 total time=   3.3s\n",
      "[CV 8/10] END max_depth=12, n_estimators=150, random_state=101;, score=0.730 total time=   3.3s\n",
      "[CV 9/10] END max_depth=12, n_estimators=150, random_state=101;, score=0.810 total time=   3.5s\n",
      "[CV 10/10] END max_depth=12, n_estimators=150, random_state=101;, score=0.818 total time=   3.4s\n",
      "[CV 1/10] END max_depth=12, n_estimators=200, random_state=42;, score=0.820 total time=   4.5s\n",
      "[CV 2/10] END max_depth=12, n_estimators=200, random_state=42;, score=0.830 total time=   4.5s\n",
      "[CV 3/10] END max_depth=12, n_estimators=200, random_state=42;, score=0.800 total time=   4.6s\n",
      "[CV 4/10] END max_depth=12, n_estimators=200, random_state=42;, score=0.810 total time=   4.6s\n",
      "[CV 5/10] END max_depth=12, n_estimators=200, random_state=42;, score=0.860 total time=   4.5s\n",
      "[CV 6/10] END max_depth=12, n_estimators=200, random_state=42;, score=0.750 total time=   4.4s\n",
      "[CV 7/10] END max_depth=12, n_estimators=200, random_state=42;, score=0.760 total time=   4.5s\n",
      "[CV 8/10] END max_depth=12, n_estimators=200, random_state=42;, score=0.730 total time=   4.5s\n",
      "[CV 9/10] END max_depth=12, n_estimators=200, random_state=42;, score=0.810 total time=   5.5s\n",
      "[CV 10/10] END max_depth=12, n_estimators=200, random_state=42;, score=0.798 total time=   6.7s\n",
      "[CV 1/10] END max_depth=12, n_estimators=200, random_state=101;, score=0.810 total time=   6.7s\n",
      "[CV 2/10] END max_depth=12, n_estimators=200, random_state=101;, score=0.820 total time=   6.4s\n",
      "[CV 3/10] END max_depth=12, n_estimators=200, random_state=101;, score=0.800 total time=   5.1s\n",
      "[CV 4/10] END max_depth=12, n_estimators=200, random_state=101;, score=0.820 total time=   5.0s\n",
      "[CV 5/10] END max_depth=12, n_estimators=200, random_state=101;, score=0.850 total time=   5.6s\n",
      "[CV 6/10] END max_depth=12, n_estimators=200, random_state=101;, score=0.760 total time=   4.9s\n",
      "[CV 7/10] END max_depth=12, n_estimators=200, random_state=101;, score=0.750 total time=   4.8s\n",
      "[CV 8/10] END max_depth=12, n_estimators=200, random_state=101;, score=0.730 total time=   4.9s\n",
      "[CV 9/10] END max_depth=12, n_estimators=200, random_state=101;, score=0.820 total time=   4.8s\n",
      "[CV 10/10] END max_depth=12, n_estimators=200, random_state=101;, score=0.798 total time=   4.8s\n",
      "[CV 1/10] END max_depth=15, n_estimators=100, random_state=42;, score=0.810 total time=   2.9s\n",
      "[CV 2/10] END max_depth=15, n_estimators=100, random_state=42;, score=0.820 total time=   2.9s\n",
      "[CV 3/10] END max_depth=15, n_estimators=100, random_state=42;, score=0.800 total time=   3.0s\n",
      "[CV 4/10] END max_depth=15, n_estimators=100, random_state=42;, score=0.810 total time=   2.9s\n",
      "[CV 5/10] END max_depth=15, n_estimators=100, random_state=42;, score=0.840 total time=   2.8s\n",
      "[CV 6/10] END max_depth=15, n_estimators=100, random_state=42;, score=0.770 total time=   2.7s\n",
      "[CV 7/10] END max_depth=15, n_estimators=100, random_state=42;, score=0.760 total time=   2.7s\n",
      "[CV 8/10] END max_depth=15, n_estimators=100, random_state=42;, score=0.720 total time=   2.8s\n",
      "[CV 9/10] END max_depth=15, n_estimators=100, random_state=42;, score=0.810 total time=   2.9s\n",
      "[CV 10/10] END max_depth=15, n_estimators=100, random_state=42;, score=0.818 total time=   2.8s\n",
      "[CV 1/10] END max_depth=15, n_estimators=100, random_state=101;, score=0.800 total time=   2.9s\n",
      "[CV 2/10] END max_depth=15, n_estimators=100, random_state=101;, score=0.840 total time=   2.8s\n",
      "[CV 3/10] END max_depth=15, n_estimators=100, random_state=101;, score=0.800 total time=   2.9s\n",
      "[CV 4/10] END max_depth=15, n_estimators=100, random_state=101;, score=0.800 total time=   2.8s\n",
      "[CV 5/10] END max_depth=15, n_estimators=100, random_state=101;, score=0.840 total time=   2.8s\n",
      "[CV 6/10] END max_depth=15, n_estimators=100, random_state=101;, score=0.770 total time=   2.7s\n",
      "[CV 7/10] END max_depth=15, n_estimators=100, random_state=101;, score=0.780 total time=   2.8s\n",
      "[CV 8/10] END max_depth=15, n_estimators=100, random_state=101;, score=0.730 total time=   2.7s\n",
      "[CV 9/10] END max_depth=15, n_estimators=100, random_state=101;, score=0.810 total time=   4.5s\n",
      "[CV 10/10] END max_depth=15, n_estimators=100, random_state=101;, score=0.818 total time=   3.7s\n",
      "[CV 1/10] END max_depth=15, n_estimators=150, random_state=42;, score=0.810 total time=   5.1s\n",
      "[CV 2/10] END max_depth=15, n_estimators=150, random_state=42;, score=0.810 total time=   6.1s\n",
      "[CV 3/10] END max_depth=15, n_estimators=150, random_state=42;, score=0.800 total time=   5.4s\n",
      "[CV 4/10] END max_depth=15, n_estimators=150, random_state=42;, score=0.820 total time=   4.2s\n",
      "[CV 5/10] END max_depth=15, n_estimators=150, random_state=42;, score=0.840 total time=   4.2s\n",
      "[CV 6/10] END max_depth=15, n_estimators=150, random_state=42;, score=0.790 total time=   4.1s\n",
      "[CV 7/10] END max_depth=15, n_estimators=150, random_state=42;, score=0.760 total time=   4.1s\n",
      "[CV 8/10] END max_depth=15, n_estimators=150, random_state=42;, score=0.740 total time=   4.1s\n",
      "[CV 9/10] END max_depth=15, n_estimators=150, random_state=42;, score=0.810 total time=   4.2s\n",
      "[CV 10/10] END max_depth=15, n_estimators=150, random_state=42;, score=0.808 total time=   4.1s\n",
      "[CV 1/10] END max_depth=15, n_estimators=150, random_state=101;, score=0.820 total time=   5.1s\n",
      "[CV 2/10] END max_depth=15, n_estimators=150, random_state=101;, score=0.840 total time=   4.1s\n",
      "[CV 3/10] END max_depth=15, n_estimators=150, random_state=101;, score=0.800 total time=   4.3s\n",
      "[CV 4/10] END max_depth=15, n_estimators=150, random_state=101;, score=0.810 total time=   4.7s\n",
      "[CV 5/10] END max_depth=15, n_estimators=150, random_state=101;, score=0.840 total time=   4.4s\n",
      "[CV 6/10] END max_depth=15, n_estimators=150, random_state=101;, score=0.760 total time=   4.7s\n",
      "[CV 7/10] END max_depth=15, n_estimators=150, random_state=101;, score=0.770 total time=   4.2s\n",
      "[CV 8/10] END max_depth=15, n_estimators=150, random_state=101;, score=0.730 total time=   4.1s\n",
      "[CV 9/10] END max_depth=15, n_estimators=150, random_state=101;, score=0.810 total time=   4.2s\n",
      "[CV 10/10] END max_depth=15, n_estimators=150, random_state=101;, score=0.808 total time=   4.2s\n",
      "[CV 1/10] END max_depth=15, n_estimators=200, random_state=42;, score=0.820 total time=   5.6s\n",
      "[CV 2/10] END max_depth=15, n_estimators=200, random_state=42;, score=0.840 total time=   5.6s\n",
      "[CV 3/10] END max_depth=15, n_estimators=200, random_state=42;, score=0.800 total time=   5.7s\n",
      "[CV 4/10] END max_depth=15, n_estimators=200, random_state=42;, score=0.820 total time=   7.4s\n",
      "[CV 5/10] END max_depth=15, n_estimators=200, random_state=42;, score=0.850 total time=   7.5s\n",
      "[CV 6/10] END max_depth=15, n_estimators=200, random_state=42;, score=0.780 total time=   7.2s\n",
      "[CV 7/10] END max_depth=15, n_estimators=200, random_state=42;, score=0.750 total time=   6.7s\n",
      "[CV 8/10] END max_depth=15, n_estimators=200, random_state=42;, score=0.710 total time=   6.2s\n",
      "[CV 9/10] END max_depth=15, n_estimators=200, random_state=42;, score=0.820 total time=   5.6s\n",
      "[CV 10/10] END max_depth=15, n_estimators=200, random_state=42;, score=0.788 total time=   5.5s\n",
      "[CV 1/10] END max_depth=15, n_estimators=200, random_state=101;, score=0.820 total time=   5.5s\n",
      "[CV 2/10] END max_depth=15, n_estimators=200, random_state=101;, score=0.840 total time=   5.5s\n",
      "[CV 3/10] END max_depth=15, n_estimators=200, random_state=101;, score=0.800 total time=   5.9s\n",
      "[CV 4/10] END max_depth=15, n_estimators=200, random_state=101;, score=0.820 total time=   5.7s\n",
      "[CV 5/10] END max_depth=15, n_estimators=200, random_state=101;, score=0.850 total time=   5.6s\n",
      "[CV 6/10] END max_depth=15, n_estimators=200, random_state=101;, score=0.770 total time=   5.5s\n",
      "[CV 7/10] END max_depth=15, n_estimators=200, random_state=101;, score=0.750 total time=   5.7s\n",
      "[CV 8/10] END max_depth=15, n_estimators=200, random_state=101;, score=0.710 total time=   5.6s\n",
      "[CV 9/10] END max_depth=15, n_estimators=200, random_state=101;, score=0.810 total time=   5.6s\n",
      "[CV 10/10] END max_depth=15, n_estimators=200, random_state=101;, score=0.798 total time=   5.5s\n"
     ]
    },
    {
     "data": {
      "text/html": [
       "<style>#sk-container-id-24 {color: black;background-color: white;}#sk-container-id-24 pre{padding: 0;}#sk-container-id-24 div.sk-toggleable {background-color: white;}#sk-container-id-24 label.sk-toggleable__label {cursor: pointer;display: block;width: 100%;margin-bottom: 0;padding: 0.3em;box-sizing: border-box;text-align: center;}#sk-container-id-24 label.sk-toggleable__label-arrow:before {content: \"▸\";float: left;margin-right: 0.25em;color: #696969;}#sk-container-id-24 label.sk-toggleable__label-arrow:hover:before {color: black;}#sk-container-id-24 div.sk-estimator:hover label.sk-toggleable__label-arrow:before {color: black;}#sk-container-id-24 div.sk-toggleable__content {max-height: 0;max-width: 0;overflow: hidden;text-align: left;background-color: #f0f8ff;}#sk-container-id-24 div.sk-toggleable__content pre {margin: 0.2em;color: black;border-radius: 0.25em;background-color: #f0f8ff;}#sk-container-id-24 input.sk-toggleable__control:checked~div.sk-toggleable__content {max-height: 200px;max-width: 100%;overflow: auto;}#sk-container-id-24 input.sk-toggleable__control:checked~label.sk-toggleable__label-arrow:before {content: \"▾\";}#sk-container-id-24 div.sk-estimator input.sk-toggleable__control:checked~label.sk-toggleable__label {background-color: #d4ebff;}#sk-container-id-24 div.sk-label input.sk-toggleable__control:checked~label.sk-toggleable__label {background-color: #d4ebff;}#sk-container-id-24 input.sk-hidden--visually {border: 0;clip: rect(1px 1px 1px 1px);clip: rect(1px, 1px, 1px, 1px);height: 1px;margin: -1px;overflow: hidden;padding: 0;position: absolute;width: 1px;}#sk-container-id-24 div.sk-estimator {font-family: monospace;background-color: #f0f8ff;border: 1px dotted black;border-radius: 0.25em;box-sizing: border-box;margin-bottom: 0.5em;}#sk-container-id-24 div.sk-estimator:hover {background-color: #d4ebff;}#sk-container-id-24 div.sk-parallel-item::after {content: \"\";width: 100%;border-bottom: 1px solid gray;flex-grow: 1;}#sk-container-id-24 div.sk-label:hover label.sk-toggleable__label {background-color: #d4ebff;}#sk-container-id-24 div.sk-serial::before {content: \"\";position: absolute;border-left: 1px solid gray;box-sizing: border-box;top: 0;bottom: 0;left: 50%;z-index: 0;}#sk-container-id-24 div.sk-serial {display: flex;flex-direction: column;align-items: center;background-color: white;padding-right: 0.2em;padding-left: 0.2em;position: relative;}#sk-container-id-24 div.sk-item {position: relative;z-index: 1;}#sk-container-id-24 div.sk-parallel {display: flex;align-items: stretch;justify-content: center;background-color: white;position: relative;}#sk-container-id-24 div.sk-item::before, #sk-container-id-24 div.sk-parallel-item::before {content: \"\";position: absolute;border-left: 1px solid gray;box-sizing: border-box;top: 0;bottom: 0;left: 50%;z-index: -1;}#sk-container-id-24 div.sk-parallel-item {display: flex;flex-direction: column;z-index: 1;position: relative;background-color: white;}#sk-container-id-24 div.sk-parallel-item:first-child::after {align-self: flex-end;width: 50%;}#sk-container-id-24 div.sk-parallel-item:last-child::after {align-self: flex-start;width: 50%;}#sk-container-id-24 div.sk-parallel-item:only-child::after {width: 0;}#sk-container-id-24 div.sk-dashed-wrapped {border: 1px dashed gray;margin: 0 0.4em 0.5em 0.4em;box-sizing: border-box;padding-bottom: 0.4em;background-color: white;}#sk-container-id-24 div.sk-label label {font-family: monospace;font-weight: bold;display: inline-block;line-height: 1.2em;}#sk-container-id-24 div.sk-label-container {text-align: center;}#sk-container-id-24 div.sk-container {/* jupyter's `normalize.less` sets `[hidden] { display: none; }` but bootstrap.min.css set `[hidden] { display: none !important; }` so we also need the `!important` here to be able to override the default hidden behavior on the sphinx rendered scikit-learn.org. See: https://github.com/scikit-learn/scikit-learn/issues/21755 */display: inline-block !important;position: relative;}#sk-container-id-24 div.sk-text-repr-fallback {display: none;}</style><div id=\"sk-container-id-24\" class=\"sk-top-container\"><div class=\"sk-text-repr-fallback\"><pre>GridSearchCV(cv=10,\n",
       "             estimator=GradientBoostingClassifier(max_depth=12,\n",
       "                                                  random_state=42),\n",
       "             param_grid={&#x27;max_depth&#x27;: [10, 12, 15],\n",
       "                         &#x27;n_estimators&#x27;: [100, 150, 200],\n",
       "                         &#x27;random_state&#x27;: [42, 101]},\n",
       "             verbose=3)</pre><b>In a Jupyter environment, please rerun this cell to show the HTML representation or trust the notebook. <br />On GitHub, the HTML representation is unable to render, please try loading this page with nbviewer.org.</b></div><div class=\"sk-container\" hidden><div class=\"sk-item sk-dashed-wrapped\"><div class=\"sk-label-container\"><div class=\"sk-label sk-toggleable\"><input class=\"sk-toggleable__control sk-hidden--visually\" id=\"sk-estimator-id-34\" type=\"checkbox\" ><label for=\"sk-estimator-id-34\" class=\"sk-toggleable__label sk-toggleable__label-arrow\">GridSearchCV</label><div class=\"sk-toggleable__content\"><pre>GridSearchCV(cv=10,\n",
       "             estimator=GradientBoostingClassifier(max_depth=12,\n",
       "                                                  random_state=42),\n",
       "             param_grid={&#x27;max_depth&#x27;: [10, 12, 15],\n",
       "                         &#x27;n_estimators&#x27;: [100, 150, 200],\n",
       "                         &#x27;random_state&#x27;: [42, 101]},\n",
       "             verbose=3)</pre></div></div></div><div class=\"sk-parallel\"><div class=\"sk-parallel-item\"><div class=\"sk-item\"><div class=\"sk-label-container\"><div class=\"sk-label sk-toggleable\"><input class=\"sk-toggleable__control sk-hidden--visually\" id=\"sk-estimator-id-35\" type=\"checkbox\" ><label for=\"sk-estimator-id-35\" class=\"sk-toggleable__label sk-toggleable__label-arrow\">estimator: GradientBoostingClassifier</label><div class=\"sk-toggleable__content\"><pre>GradientBoostingClassifier(max_depth=12, random_state=42)</pre></div></div></div><div class=\"sk-serial\"><div class=\"sk-item\"><div class=\"sk-estimator sk-toggleable\"><input class=\"sk-toggleable__control sk-hidden--visually\" id=\"sk-estimator-id-36\" type=\"checkbox\" ><label for=\"sk-estimator-id-36\" class=\"sk-toggleable__label sk-toggleable__label-arrow\">GradientBoostingClassifier</label><div class=\"sk-toggleable__content\"><pre>GradientBoostingClassifier(max_depth=12, random_state=42)</pre></div></div></div></div></div></div></div></div></div></div>"
      ],
      "text/plain": [
       "GridSearchCV(cv=10,\n",
       "             estimator=GradientBoostingClassifier(max_depth=12,\n",
       "                                                  random_state=42),\n",
       "             param_grid={'max_depth': [10, 12, 15],\n",
       "                         'n_estimators': [100, 150, 200],\n",
       "                         'random_state': [42, 101]},\n",
       "             verbose=3)"
      ]
     },
     "execution_count": 137,
     "metadata": {},
     "output_type": "execute_result"
    }
   ],
   "source": [
    "gradient_cv.fit(X,y)"
   ]
  },
  {
   "cell_type": "code",
   "execution_count": 138,
   "id": "330184e0-77b1-49da-af91-f84a894242da",
   "metadata": {},
   "outputs": [
    {
     "data": {
      "text/plain": [
       "0.800818181818182"
      ]
     },
     "execution_count": 138,
     "metadata": {},
     "output_type": "execute_result"
    }
   ],
   "source": [
    "gradient_cv.best_score_"
   ]
  },
  {
   "cell_type": "code",
   "execution_count": 139,
   "id": "2869dd23-e8f0-4273-b2d1-5e407510448f",
   "metadata": {},
   "outputs": [
    {
     "data": {
      "text/plain": [
       "{'max_depth': 12, 'n_estimators': 150, 'random_state': 101}"
      ]
     },
     "execution_count": 139,
     "metadata": {},
     "output_type": "execute_result"
    }
   ],
   "source": [
    "gradient_cv.best_params_"
   ]
  },
  {
   "cell_type": "code",
   "execution_count": null,
   "id": "25e27ae2-fab4-42a9-bfb3-15b9e4957dc1",
   "metadata": {},
   "outputs": [],
   "source": []
  }
 ],
 "metadata": {
  "kernelspec": {
   "display_name": "Python 3 (ipykernel)",
   "language": "python",
   "name": "python3"
  },
  "language_info": {
   "codemirror_mode": {
    "name": "ipython",
    "version": 3
   },
   "file_extension": ".py",
   "mimetype": "text/x-python",
   "name": "python",
   "nbconvert_exporter": "python",
   "pygments_lexer": "ipython3",
   "version": "3.11.7"
  }
 },
 "nbformat": 4,
 "nbformat_minor": 5
}
